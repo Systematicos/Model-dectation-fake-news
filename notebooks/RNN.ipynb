{
 "cells": [
  {
   "cell_type": "code",
   "execution_count": 44,
   "metadata": {
    "pycharm": {
     "name": "#%%\n"
    }
   },
   "outputs": [],
   "source": [
    "import tensorflow as tf\n",
    "import pandas as pd\n",
    "import numpy as np\n",
    "import seaborn as sns\n",
    "import matplotlib.pyplot as plt\n",
    "from sklearn.feature_extraction.text import CountVectorizer, TfidfVectorizer\n",
    "import tensorflow_addons as tfa\n"
   ]
  },
  {
   "cell_type": "code",
   "execution_count": 45,
   "metadata": {
    "collapsed": false,
    "jupyter": {
     "outputs_hidden": false
    },
    "pycharm": {
     "name": "#%%\n"
    }
   },
   "outputs": [
    {
     "data": {
      "text/plain": [
       "label                False\n",
       "preprocessed_news    False\n",
       "dtype: bool"
      ]
     },
     "execution_count": 45,
     "metadata": {},
     "output_type": "execute_result"
    }
   ],
   "source": [
    "df = pd.read_csv('../data/pre-processed.csv')\n",
    "df = df.drop(columns=['index'])\n",
    "df.isnull().any()"
   ]
  },
  {
   "cell_type": "code",
   "execution_count": 46,
   "metadata": {
    "collapsed": false,
    "jupyter": {
     "outputs_hidden": false
    },
    "pycharm": {
     "name": "#%%\n"
    }
   },
   "outputs": [],
   "source": [
    "df['label'] = df.apply(lambda row: 1 if row.label == 'fake' else 0, axis=1)\n",
    "X = df.drop(['label'], axis = 1)\n",
    "Y = df['label']"
   ]
  },
  {
   "cell_type": "code",
   "execution_count": 48,
   "metadata": {
    "collapsed": false,
    "jupyter": {
     "outputs_hidden": false
    },
    "pycharm": {
     "name": "#%%\n"
    }
   },
   "outputs": [],
   "source": [
    "from sklearn.model_selection import train_test_split\n",
    "X_train, X_test, y_train, y_test = train_test_split(X, Y, test_size = 0.2, random_state = 5, stratify=Y)\n",
    "\n",
    "X_train = X_train['preprocessed_news'].apply(lambda x: x.lower())\n",
    "X_test = X_test['preprocessed_news'].apply(lambda x: x.lower())\n",
    "\n",
    "train_tokenizer = tf.keras.preprocessing.text.Tokenizer(oov_token='<OOV>')\n",
    "train_tokenizer.fit_on_texts(X_train.values)\n",
    "train_word_index = train_tokenizer.word_index\n"
   ]
  },
  {
   "cell_type": "code",
   "execution_count": 49,
   "metadata": {},
   "outputs": [
    {
     "name": "stdout",
     "output_type": "stream",
     "text": [
      "Vocab length 72906, Train sequences 5760, Test sequences 1440 \n"
     ]
    }
   ],
   "source": [
    "train_sequences = train_tokenizer.texts_to_sequences(X_train)\n",
    "vocab_length = len(train_word_index) + 1\n",
    "test_sequences = train_tokenizer.texts_to_sequences(X_test)\n",
    "\n",
    "print(f'Vocab length {vocab_length}, Train sequences {len(train_sequences)}, Test sequences {len(test_sequences)} ')"
   ]
  },
  {
   "cell_type": "code",
   "execution_count": 50,
   "metadata": {},
   "outputs": [],
   "source": [
    "maxlen=40\n",
    "train_padded_seqeunces = tf.keras.preprocessing.sequence.pad_sequences(train_sequences, padding='post', maxlen=maxlen, truncating='post')\n",
    "test_padded_seqeunces = tf.keras.preprocessing.sequence.pad_sequences(test_sequences, padding='post', maxlen=maxlen, truncating='post')"
   ]
  },
  {
   "cell_type": "code",
   "execution_count": 51,
   "metadata": {},
   "outputs": [
    {
     "name": "stdout",
     "output_type": "stream",
     "text": [
      "Model: \"sequential\"\n",
      "_________________________________________________________________\n",
      " Layer (type)                Output Shape              Param #   \n",
      "=================================================================\n",
      " embedding (Embedding)       (None, 40, 6)             437436    \n",
      "                                                                 \n",
      " simple_rnn (SimpleRNN)      (None, 40, 4)             44        \n",
      "                                                                 \n",
      " simple_rnn_1 (SimpleRNN)    (None, 40, 3)             24        \n",
      "                                                                 \n",
      " simple_rnn_2 (SimpleRNN)    (None, 3)                 21        \n",
      "                                                                 \n",
      " dropout (Dropout)           (None, 3)                 0         \n",
      "                                                                 \n",
      " dense (Dense)               (None, 24)                96        \n",
      "                                                                 \n",
      " dense_1 (Dense)             (None, 1)                 25        \n",
      "                                                                 \n",
      "=================================================================\n",
      "Total params: 437646 (1.67 MB)\n",
      "Trainable params: 437646 (1.67 MB)\n",
      "Non-trainable params: 0 (0.00 Byte)\n",
      "_________________________________________________________________\n"
     ]
    }
   ],
   "source": [
    "embedding_dim = 6\n",
    "tf.keras.backend.clear_session()\n",
    "model = tf.keras.Sequential([\n",
    "    tf.keras.layers.Embedding(72906, embedding_dim, input_length=maxlen),\n",
    "    tf.keras.layers.SimpleRNN(4, activation='tanh', return_sequences=True),\n",
    "    tf.keras.layers.SimpleRNN(3, activation='tanh', return_sequences=True),\n",
    "    tf.keras.layers.SimpleRNN(3, activation='tanh'),\n",
    "    tf.keras.layers.Dropout(0.25),\n",
    "    tf.keras.layers.Dense(24, activation='relu'),\n",
    "    tf.keras.layers.Dense(1, activation='sigmoid')\n",
    "])\n",
    "\n",
    "model.compile(optimizer='adam', loss='binary_crossentropy', metrics=['accuracy'])\n",
    "model.summary()"
   ]
  },
  {
   "cell_type": "code",
   "execution_count": 54,
   "metadata": {},
   "outputs": [
    {
     "name": "stdout",
     "output_type": "stream",
     "text": [
      "Epoch 1/10\n",
      "180/180 [==============================] - 2s 12ms/step - loss: 0.0215 - accuracy: 0.9906\n",
      "Epoch 2/10\n",
      "180/180 [==============================] - 2s 12ms/step - loss: 0.0187 - accuracy: 0.9911\n",
      "Epoch 3/10\n",
      "180/180 [==============================] - 2s 12ms/step - loss: 0.0163 - accuracy: 0.9917\n",
      "Epoch 4/10\n",
      "180/180 [==============================] - 2s 12ms/step - loss: 0.0190 - accuracy: 0.9899\n",
      "Epoch 5/10\n",
      "180/180 [==============================] - 2s 12ms/step - loss: 0.0193 - accuracy: 0.9880\n",
      "Epoch 6/10\n",
      "180/180 [==============================] - 2s 12ms/step - loss: 0.0173 - accuracy: 0.9910\n",
      "Epoch 7/10\n",
      "180/180 [==============================] - 2s 12ms/step - loss: 0.0165 - accuracy: 0.9908\n",
      "Epoch 8/10\n",
      "180/180 [==============================] - 2s 11ms/step - loss: 0.0223 - accuracy: 0.9891\n",
      "Epoch 9/10\n",
      "180/180 [==============================] - 2s 11ms/step - loss: 0.0186 - accuracy: 0.9908\n",
      "Epoch 10/10\n",
      "180/180 [==============================] - 2s 11ms/step - loss: 0.0172 - accuracy: 0.9905\n"
     ]
    }
   ],
   "source": [
    "history = model.fit(train_padded_seqeunces, y_train, epochs=10)"
   ]
  },
  {
   "cell_type": "code",
   "execution_count": 53,
   "metadata": {},
   "outputs": [
    {
     "name": "stdout",
     "output_type": "stream",
     "text": [
      "45/45 [==============================] - 0s 4ms/step\n"
     ]
    },
    {
     "data": {
      "image/png": "[encoded data removed]",
      "text/plain": [
       "<Figure size 640x480 with 2 Axes>"
      ]
     },
     "metadata": {},
     "output_type": "display_data"
    }
   ],
   "source": [
    "from sklearn.metrics import confusion_matrix\n",
    "y_train_pred = model.predict(test_padded_seqeunces)\n",
    "y_train_pred = (y_train_pred > 0.75)\n",
    "cm = confusion_matrix(y_test, y_train_pred)\n",
    "sns.heatmap(cm, annot=True)"
   ]
  },
  {
   "cell_type": "code",
   "execution_count": 42,
   "metadata": {},
   "outputs": [
    {
     "data": {
      "text/plain": [
       "5566    False\n",
       "991      True\n",
       "5725    False\n",
       "1847     True\n",
       "3674    False\n",
       "        ...  \n",
       "2389     True\n",
       "5890    False\n",
       "1204     True\n",
       "2105     True\n",
       "3714    False\n",
       "Name: label, Length: 1440, dtype: bool"
      ]
     },
     "execution_count": 42,
     "metadata": {},
     "output_type": "execute_result"
    }
   ],
   "source": []
  }
 ],
 "metadata": {
  "kernelspec": {
   "display_name": "Python 3 (ipykernel)",
   "language": "python",
   "name": "python3"
  },
  "language_info": {
   "codemirror_mode": {
    "name": "ipython",
    "version": 3
   },
   "file_extension": ".py",
   "mimetype": "text/x-python",
   "name": "python",
   "nbconvert_exporter": "python",
   "pygments_lexer": "ipython3",
   "version": "3.9.13"
  }
 },
 "nbformat": 4,
 "nbformat_minor": 4
}
