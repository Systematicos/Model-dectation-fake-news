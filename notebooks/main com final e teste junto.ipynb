{
 "cells": [
  {
   "cell_type": "code",
   "execution_count": 1,
   "metadata": {},
   "outputs": [
    {
     "name": "stderr",
     "output_type": "stream",
     "text": [
      "[nltk_data] Downloading package stopwords to\n",
      "[nltk_data]     C:\\Users\\gyova\\AppData\\Roaming\\nltk_data...\n",
      "[nltk_data]   Package stopwords is already up-to-date!\n"
     ]
    },
    {
     "data": {
      "text/plain": [
       "True"
      ]
     },
     "execution_count": 1,
     "metadata": {},
     "output_type": "execute_result"
    }
   ],
   "source": [
    "import pandas as pd\n",
    "import numpy as np\n",
    "import seaborn as sns\n",
    "import matplotlib.pyplot as plt\n",
    "from sklearn.feature_extraction.text import CountVectorizer\n",
    "from nltk.corpus import stopwords\n",
    "import re\n",
    "import string\n",
    "from sklearn.metrics import confusion_matrix,ConfusionMatrixDisplay, classification_report, accuracy_score\n",
    "from sklearn.neural_network import MLPClassifier\n",
    "from sklearn.tree import DecisionTreeClassifier\n",
    "from sklearn.model_selection import GridSearchCV\n",
    "from sklearn.linear_model import LogisticRegression, PassiveAggressiveClassifier\n",
    "import pickle\n",
    "import tensorflow as tf\n",
    "from tensorflow.keras.models import load_model\n",
    "\n",
    "import nltk\n",
    "nltk.download('stopwords')"
   ]
  },
  {
   "cell_type": "code",
   "execution_count": 2,
   "metadata": {},
   "outputs": [
    {
     "data": {
      "text/plain": [
       "label                False\n",
       "preprocessed_news    False\n",
       "dtype: bool"
      ]
     },
     "execution_count": 2,
     "metadata": {},
     "output_type": "execute_result"
    }
   ],
   "source": [
    "df = pd.read_csv('../data/train.csv')\n",
    "df = df.drop(columns=['Unnamed: 0'])\n",
    "\n",
    "df.isnull().any()"
   ]
  },
  {
   "cell_type": "code",
   "execution_count": 3,
   "metadata": {},
   "outputs": [],
   "source": [
    "stop_words = set(stopwords.words('portuguese'))\n",
    "\n",
    "def remover_stop_words(news):\n",
    "    palavras = news.split()\n",
    "    palavras_sem_stop = [palavra for palavra in palavras if palavra.lower() not in stop_words]\n",
    "    return ' '.join(palavras_sem_stop)\n",
    "\n",
    "def review_cleaning(text):\n",
    "    \n",
    "    text = str(text).lower()\n",
    "    text = re.sub('\\[.*?\\]', '', text)\n",
    "    text = re.sub('https?://\\S+|www\\.\\S+', '', text)\n",
    "    text = re.sub('<.*?>+', '', text)\n",
    "    text = re.sub('[%s]' % re.escape(string.punctuation), '', text)\n",
    "    text = re.sub('\\n', '', text)\n",
    "    text = re.sub('\\w*\\d\\w*', '', text)\n",
    "    return text\n",
    "\n",
    "df[\"preprocessed_news\"] = df[\"preprocessed_news\"].apply(remover_stop_words)\n",
    "df[\"preprocessed_news\"] = df[\"preprocessed_news\"].apply(review_cleaning)\n"
   ]
  },
  {
   "cell_type": "code",
   "execution_count": 4,
   "metadata": {},
   "outputs": [],
   "source": [
    "df['label'] = df.apply(lambda row: 0 if row.label == 'fake' else 1, axis=1)\n",
    "\n",
    "X_train = df.drop(['label'], axis = 1)\n",
    "Y_train = df['label']"
   ]
  },
  {
   "cell_type": "code",
   "execution_count": 5,
   "metadata": {},
   "outputs": [],
   "source": [
    "X_train = X_train['preprocessed_news'].apply(lambda x: x.lower())\n",
    "\n",
    "train_tokenizer = tf.keras.preprocessing.text.Tokenizer(oov_token='<OOV>')\n",
    "train_tokenizer.fit_on_texts(X_train.values)\n",
    "train_word_index = train_tokenizer.word_index\n",
    "train_sequences = train_tokenizer.texts_to_sequences(X_train)\n",
    "vocab_length = len(train_word_index) + 1\n",
    "maxlen=256\n",
    "train_padded_seqeunces = tf.keras.preprocessing.sequence.pad_sequences(train_sequences, padding='post', maxlen=maxlen, truncating='post')\n",
    "\n",
    "\n",
    "vectorizer = CountVectorizer(max_features=10000)\n",
    "vectorizer.fit(X_train)\n",
    "X_train = vectorizer.transform(X_train).toarray()\n",
    "\n",
    "\n",
    "if not os.path.exists('../models/v2/rnn_tokenizer.pkl'):\n",
    "    with open('../models/v2/rnn_tokenizer.pkl', 'wb') as arquivo:\n",
    "        pickle.dump(train_tokenizer, arquivo)\n",
    "if not os.path.exists('../models/v2/count_vectorizer.pkl'):\n",
    "    with open('../models/v2/count_vectorizer.pkl', 'wb') as arquivo:\n",
    "        pickle.dump(vectorizer, arquivo)"
   ]
  },
  {
   "cell_type": "markdown",
   "metadata": {},
   "source": [
    "##### Logistic Regression\n"
   ]
  },
  {
   "cell_type": "code",
   "execution_count": 6,
   "metadata": {},
   "outputs": [],
   "source": [
    "lr_classifier = LogisticRegression()\n",
    "lr_classifier.fit(X_train,Y_train)\n",
    "lr_classifier_train = round(lr_classifier.score(X_train, Y_train) * 100, 2)\n",
    "\n",
    "with open('../models/v2/logisticRegression.pkl', 'wb') as arquivo:\n",
    "    pickle.dump(lr_classifier, arquivo)"
   ]
  },
  {
   "cell_type": "markdown",
   "metadata": {},
   "source": [
    "##### Multilayer perceptron (MLP)"
   ]
  },
  {
   "cell_type": "code",
   "execution_count": 7,
   "metadata": {},
   "outputs": [],
   "source": [
    "mlp = MLPClassifier(random_state=1)\n",
    "mlp.fit(X_train,Y_train)\n",
    "mlp_train = round(mlp.score(X_train, Y_train) * 100, 2)\n",
    "\n",
    "with open('../models/v2/MLPClassifier.pkl', 'wb') as arquivo:\n",
    "    pickle.dump(mlp, arquivo)\n"
   ]
  },
  {
   "cell_type": "markdown",
   "metadata": {},
   "source": [
    "##### Multilayer perceptron (MLP) Com GridSearchCV"
   ]
  },
  {
   "cell_type": "code",
   "execution_count": 6,
   "metadata": {},
   "outputs": [
    {
     "name": "stderr",
     "output_type": "stream",
     "text": [
      "c:\\Users\\gyova\\Documents\\Projetos\\Model-dectation-fake-news\\ven\\lib\\site-packages\\sklearn\\neural_network\\_multilayer_perceptron.py:691: ConvergenceWarning: Stochastic Optimizer: Maximum iterations (10) reached and the optimization hasn't converged yet.\n",
      "  warnings.warn(\n",
      "c:\\Users\\gyova\\Documents\\Projetos\\Model-dectation-fake-news\\ven\\lib\\site-packages\\sklearn\\neural_network\\_multilayer_perceptron.py:691: ConvergenceWarning: Stochastic Optimizer: Maximum iterations (10) reached and the optimization hasn't converged yet.\n",
      "  warnings.warn(\n",
      "c:\\Users\\gyova\\Documents\\Projetos\\Model-dectation-fake-news\\ven\\lib\\site-packages\\sklearn\\neural_network\\_multilayer_perceptron.py:546: ConvergenceWarning: lbfgs failed to converge (status=1):\n",
      "STOP: TOTAL NO. of ITERATIONS REACHED LIMIT.\n",
      "\n",
      "Increase the number of iterations (max_iter) or scale the data as shown in:\n",
      "    https://scikit-learn.org/stable/modules/preprocessing.html\n",
      "  self.n_iter_ = _check_optimize_result(\"lbfgs\", opt_res, self.max_iter)\n",
      "c:\\Users\\gyova\\Documents\\Projetos\\Model-dectation-fake-news\\ven\\lib\\site-packages\\sklearn\\neural_network\\_multilayer_perceptron.py:546: ConvergenceWarning: lbfgs failed to converge (status=1):\n",
      "STOP: TOTAL NO. of ITERATIONS REACHED LIMIT.\n",
      "\n",
      "Increase the number of iterations (max_iter) or scale the data as shown in:\n",
      "    https://scikit-learn.org/stable/modules/preprocessing.html\n",
      "  self.n_iter_ = _check_optimize_result(\"lbfgs\", opt_res, self.max_iter)\n",
      "c:\\Users\\gyova\\Documents\\Projetos\\Model-dectation-fake-news\\ven\\lib\\site-packages\\sklearn\\neural_network\\_multilayer_perceptron.py:691: ConvergenceWarning: Stochastic Optimizer: Maximum iterations (10) reached and the optimization hasn't converged yet.\n",
      "  warnings.warn(\n",
      "c:\\Users\\gyova\\Documents\\Projetos\\Model-dectation-fake-news\\ven\\lib\\site-packages\\sklearn\\neural_network\\_multilayer_perceptron.py:691: ConvergenceWarning: Stochastic Optimizer: Maximum iterations (10) reached and the optimization hasn't converged yet.\n",
      "  warnings.warn(\n",
      "c:\\Users\\gyova\\Documents\\Projetos\\Model-dectation-fake-news\\ven\\lib\\site-packages\\sklearn\\neural_network\\_multilayer_perceptron.py:546: ConvergenceWarning: lbfgs failed to converge (status=1):\n",
      "STOP: TOTAL NO. of ITERATIONS REACHED LIMIT.\n",
      "\n",
      "Increase the number of iterations (max_iter) or scale the data as shown in:\n",
      "    https://scikit-learn.org/stable/modules/preprocessing.html\n",
      "  self.n_iter_ = _check_optimize_result(\"lbfgs\", opt_res, self.max_iter)\n",
      "c:\\Users\\gyova\\Documents\\Projetos\\Model-dectation-fake-news\\ven\\lib\\site-packages\\sklearn\\neural_network\\_multilayer_perceptron.py:546: ConvergenceWarning: lbfgs failed to converge (status=1):\n",
      "STOP: TOTAL NO. of ITERATIONS REACHED LIMIT.\n",
      "\n",
      "Increase the number of iterations (max_iter) or scale the data as shown in:\n",
      "    https://scikit-learn.org/stable/modules/preprocessing.html\n",
      "  self.n_iter_ = _check_optimize_result(\"lbfgs\", opt_res, self.max_iter)\n",
      "c:\\Users\\gyova\\Documents\\Projetos\\Model-dectation-fake-news\\ven\\lib\\site-packages\\sklearn\\neural_network\\_multilayer_perceptron.py:546: ConvergenceWarning: lbfgs failed to converge (status=1):\n",
      "STOP: TOTAL NO. of ITERATIONS REACHED LIMIT.\n",
      "\n",
      "Increase the number of iterations (max_iter) or scale the data as shown in:\n",
      "    https://scikit-learn.org/stable/modules/preprocessing.html\n",
      "  self.n_iter_ = _check_optimize_result(\"lbfgs\", opt_res, self.max_iter)\n"
     ]
    }
   ],
   "source": [
    "parameters = {'solver': ['sgd', 'lbfgs'],\n",
    "              'hidden_layer_sizes':[10], \n",
    "              'random_state':[2],\n",
    "              'activation': ['tanh', 'relu'],\n",
    "              'max_iter': [10]\n",
    "              }\n",
    "\n",
    "clf = GridSearchCV(MLPClassifier(), parameters, cv=2)\n",
    "clf.fit(X_train,Y_train)\n",
    "mlpG_train = round(clf.score(X_train, Y_train) * 100, 2)\n",
    "\n",
    "\n",
    "with open('../models/v2/MLPClassifierWithGridSearchCV.pkl', 'wb') as arquivo:\n",
    "    pickle.dump(clf, arquivo)\n"
   ]
  },
  {
   "cell_type": "markdown",
   "metadata": {},
   "source": [
    "#### Decision Tree"
   ]
  },
  {
   "cell_type": "code",
   "execution_count": 9,
   "metadata": {},
   "outputs": [],
   "source": [
    "decisionTree = DecisionTreeClassifier()\n",
    "decisionTree.fit(X_train,Y_train)\n",
    "decisionTree_train = round(clf.score(X_train, Y_train) * 100, 2)\n",
    "\n",
    "with open('../models/v2/decisionTree.pkl', 'wb') as arquivo:\n",
    "    pickle.dump(decisionTree, arquivo)"
   ]
  },
  {
   "cell_type": "markdown",
   "metadata": {},
   "source": [
    "#### Passive Aggressive"
   ]
  },
  {
   "cell_type": "code",
   "execution_count": 12,
   "metadata": {},
   "outputs": [],
   "source": [
    "passive = PassiveAggressiveClassifier(C = 0.5, random_state = 5)\n",
    "passive.fit(X_train,Y_train)\n",
    "passive_train = round(passive.score(X_train, Y_train) * 100, 2)\n",
    "\n",
    "with open('../models/v2/PassiveAggressiveClassifier.pkl', 'wb') as arquivo:\n",
    "    pickle.dump(passive, arquivo)"
   ]
  },
  {
   "cell_type": "markdown",
   "metadata": {},
   "source": [
    "#### RNN"
   ]
  },
  {
   "cell_type": "code",
   "execution_count": null,
   "metadata": {},
   "outputs": [],
   "source": [
    "output_dim = 64\n",
    "epochs = 60\n",
    "batch_size = 32\n",
    "tf.keras.backend.clear_session()\n",
    "\n",
    "modelSimpleRNN = tf.keras.models.Sequential()\n",
    "modelSimpleRNN.add(tf.keras.layers.Embedding(vocab_length, output_dim, input_length=maxlen))\n",
    "modelSimpleRNN.add(tf.keras.layers.GRU(60, activation='tanh', return_sequences=True))\n",
    "modelSimpleRNN.add(tf.keras.layers.Conv1D(30, 3, activation='relu'))\n",
    "modelSimpleRNN.add(tf.keras.layers.LSTM(30, return_sequences=True))\n",
    "modelSimpleRNN.add(tf.keras.layers.SimpleRNN(3, activation='tanh'))\n",
    "modelSimpleRNN.add(tf.keras.layers.Dropout(0.25))\n",
    "modelSimpleRNN.add(tf.keras.layers.Dense(24, activation='relu'))\n",
    "modelSimpleRNN.add(tf.keras.layers.Dense(units = 1, activation='sigmoid'))\n",
    "modelSimpleRNN.compile(optimizer='adam', loss='binary_crossentropy', metrics=['accuracy'])\n",
    "\n",
    "historySimpleRNN = modelSimpleRNN.fit(train_padded_seqeunces, Y_train, epochs=epochs, batch_size=batch_size, validation_split=0.1)\n",
    "rnn_train = round(historySimpleRNN.history['accuracy'][-1] * 100, 2)\n",
    "modelSimpleRNN.save('../models/v2/modelo_rnn.keras')\n"
   ]
  },
  {
   "cell_type": "markdown",
   "metadata": {},
   "source": [
    "#### LSTM (BI)"
   ]
  },
  {
   "cell_type": "code",
   "execution_count": 6,
   "metadata": {},
   "outputs": [
    {
     "name": "stdout",
     "output_type": "stream",
     "text": [
      "Epoch 1/60\n",
      "130/130 [==============================] - 32s 208ms/step - loss: 0.5946 - accuracy: 0.8394 - val_loss: 0.2183 - val_accuracy: 0.9132\n",
      "Epoch 2/60\n",
      "130/130 [==============================] - 23s 176ms/step - loss: 0.1978 - accuracy: 0.9469 - val_loss: 0.4495 - val_accuracy: 0.9154\n",
      "Epoch 3/60\n",
      "130/130 [==============================] - 23s 174ms/step - loss: 0.0821 - accuracy: 0.9783 - val_loss: 0.2708 - val_accuracy: 0.9436\n",
      "Epoch 4/60\n",
      "130/130 [==============================] - 23s 175ms/step - loss: 0.0457 - accuracy: 0.9928 - val_loss: 0.2585 - val_accuracy: 0.9414\n",
      "Epoch 5/60\n",
      "130/130 [==============================] - 23s 174ms/step - loss: 0.0194 - accuracy: 0.9959 - val_loss: 0.4196 - val_accuracy: 0.9349\n",
      "Epoch 6/60\n",
      "130/130 [==============================] - 23s 175ms/step - loss: 0.0128 - accuracy: 0.9993 - val_loss: 0.2334 - val_accuracy: 0.9610\n",
      "Epoch 7/60\n",
      "130/130 [==============================] - 22s 173ms/step - loss: 0.0125 - accuracy: 0.9990 - val_loss: 0.2052 - val_accuracy: 0.9718\n",
      "Epoch 8/60\n",
      "130/130 [==============================] - 22s 172ms/step - loss: 0.0121 - accuracy: 0.9990 - val_loss: 0.3805 - val_accuracy: 0.9544\n",
      "Epoch 9/60\n",
      "130/130 [==============================] - 23s 174ms/step - loss: 0.0120 - accuracy: 0.9990 - val_loss: 0.3839 - val_accuracy: 0.9544\n",
      "Epoch 10/60\n",
      "130/130 [==============================] - 23s 175ms/step - loss: 0.0116 - accuracy: 0.9993 - val_loss: 0.4591 - val_accuracy: 0.9458\n",
      "Epoch 11/60\n",
      "130/130 [==============================] - 23s 176ms/step - loss: 0.0120 - accuracy: 0.9990 - val_loss: 0.4325 - val_accuracy: 0.9588\n",
      "Epoch 12/60\n",
      "130/130 [==============================] - 23s 175ms/step - loss: 0.0166 - accuracy: 0.9973 - val_loss: 0.3790 - val_accuracy: 0.9523\n",
      "Epoch 13/60\n",
      "130/130 [==============================] - 22s 172ms/step - loss: 0.0062 - accuracy: 0.9993 - val_loss: 0.4315 - val_accuracy: 0.9566\n",
      "Epoch 14/60\n",
      "130/130 [==============================] - 22s 169ms/step - loss: 0.0046 - accuracy: 0.9998 - val_loss: 0.4111 - val_accuracy: 0.9718\n",
      "Epoch 15/60\n",
      "130/130 [==============================] - 22s 170ms/step - loss: 0.0039 - accuracy: 0.9998 - val_loss: 0.4258 - val_accuracy: 0.9588\n",
      "Epoch 16/60\n",
      "130/130 [==============================] - 22s 170ms/step - loss: 0.0041 - accuracy: 0.9998 - val_loss: 0.3870 - val_accuracy: 0.9653\n",
      "Epoch 17/60\n",
      "130/130 [==============================] - 22s 170ms/step - loss: 0.0040 - accuracy: 0.9998 - val_loss: 0.4730 - val_accuracy: 0.9479\n",
      "Epoch 18/60\n",
      "130/130 [==============================] - 22s 170ms/step - loss: 0.0042 - accuracy: 0.9995 - val_loss: 0.3833 - val_accuracy: 0.9696\n",
      "Epoch 19/60\n",
      "130/130 [==============================] - 22s 171ms/step - loss: 0.0077 - accuracy: 0.9993 - val_loss: 0.7186 - val_accuracy: 0.9306\n",
      "Epoch 20/60\n",
      "130/130 [==============================] - 22s 170ms/step - loss: 0.0044 - accuracy: 0.9998 - val_loss: 0.6016 - val_accuracy: 0.9479\n",
      "Epoch 21/60\n",
      "130/130 [==============================] - 22s 170ms/step - loss: 0.0041 - accuracy: 0.9995 - val_loss: 0.4256 - val_accuracy: 0.9588\n",
      "Epoch 22/60\n",
      "130/130 [==============================] - 22s 170ms/step - loss: 0.0037 - accuracy: 0.9998 - val_loss: 0.4694 - val_accuracy: 0.9610\n",
      "Epoch 23/60\n",
      "130/130 [==============================] - 22s 170ms/step - loss: 0.0038 - accuracy: 0.9998 - val_loss: 0.3930 - val_accuracy: 0.9653\n",
      "Epoch 24/60\n",
      "130/130 [==============================] - 22s 171ms/step - loss: 0.0038 - accuracy: 0.9998 - val_loss: 0.4915 - val_accuracy: 0.9544\n",
      "Epoch 25/60\n",
      "130/130 [==============================] - 22s 169ms/step - loss: 0.0085 - accuracy: 0.9993 - val_loss: 1.3959 - val_accuracy: 0.8677\n",
      "Epoch 26/60\n",
      "130/130 [==============================] - 22s 170ms/step - loss: 0.0412 - accuracy: 0.9954 - val_loss: 1.0090 - val_accuracy: 0.9046\n",
      "Epoch 27/60\n",
      "130/130 [==============================] - 22s 171ms/step - loss: 0.0645 - accuracy: 0.9923 - val_loss: 1.0978 - val_accuracy: 0.9002\n",
      "Epoch 28/60\n",
      "130/130 [==============================] - 22s 170ms/step - loss: 0.4281 - accuracy: 0.9631 - val_loss: 1.4458 - val_accuracy: 0.9067\n",
      "Epoch 29/60\n",
      "130/130 [==============================] - 22s 169ms/step - loss: 5.4529 - accuracy: 0.6115 - val_loss: 1.0038 - val_accuracy: 0.9349\n",
      "Epoch 30/60\n",
      "130/130 [==============================] - 22s 172ms/step - loss: 2.0983 - accuracy: 0.7618 - val_loss: 1.9315 - val_accuracy: 0.6226\n",
      "Epoch 31/60\n",
      "130/130 [==============================] - 22s 169ms/step - loss: 0.7107 - accuracy: 0.9052 - val_loss: 0.3187 - val_accuracy: 0.9002\n",
      "Epoch 32/60\n",
      "130/130 [==============================] - 22s 169ms/step - loss: 0.6461 - accuracy: 0.9395 - val_loss: 1.5913 - val_accuracy: 0.8720\n",
      "Epoch 33/60\n",
      "130/130 [==============================] - 22s 171ms/step - loss: 0.6058 - accuracy: 0.9508 - val_loss: 1.3883 - val_accuracy: 0.9002\n",
      "Epoch 34/60\n",
      "130/130 [==============================] - 22s 171ms/step - loss: 0.3809 - accuracy: 0.9544 - val_loss: 0.1762 - val_accuracy: 0.8959\n",
      "Epoch 35/60\n",
      "130/130 [==============================] - 22s 169ms/step - loss: 0.2021 - accuracy: 0.9551 - val_loss: 0.2087 - val_accuracy: 0.9002\n",
      "Epoch 36/60\n",
      "130/130 [==============================] - 23s 179ms/step - loss: 0.1804 - accuracy: 0.9554 - val_loss: 0.2135 - val_accuracy: 0.9046\n",
      "Epoch 37/60\n",
      "130/130 [==============================] - 23s 177ms/step - loss: 0.1520 - accuracy: 0.9566 - val_loss: 0.2648 - val_accuracy: 0.9067\n",
      "Epoch 38/60\n",
      "130/130 [==============================] - 23s 173ms/step - loss: 0.1190 - accuracy: 0.9585 - val_loss: 0.5951 - val_accuracy: 0.9089\n",
      "Epoch 39/60\n",
      "130/130 [==============================] - 24s 189ms/step - loss: 0.0739 - accuracy: 0.9711 - val_loss: 0.9932 - val_accuracy: 0.9176\n",
      "Epoch 40/60\n",
      "130/130 [==============================] - 25s 190ms/step - loss: 0.2633 - accuracy: 0.9744 - val_loss: 2.0539 - val_accuracy: 0.8460\n",
      "Epoch 41/60\n",
      "130/130 [==============================] - 23s 174ms/step - loss: 0.6231 - accuracy: 0.9554 - val_loss: 0.5161 - val_accuracy: 0.8178\n",
      "Epoch 42/60\n",
      "130/130 [==============================] - 22s 172ms/step - loss: 0.1756 - accuracy: 0.9544 - val_loss: 0.2676 - val_accuracy: 0.8460\n",
      "Epoch 43/60\n",
      "130/130 [==============================] - 22s 171ms/step - loss: 0.0947 - accuracy: 0.9595 - val_loss: 0.3588 - val_accuracy: 0.8503\n",
      "Epoch 44/60\n",
      "130/130 [==============================] - 22s 169ms/step - loss: 0.0463 - accuracy: 0.9858 - val_loss: 0.2712 - val_accuracy: 0.9414\n",
      "Epoch 45/60\n",
      "130/130 [==============================] - 22s 170ms/step - loss: 0.0271 - accuracy: 0.9969 - val_loss: 0.4088 - val_accuracy: 0.9436\n",
      "Epoch 46/60\n",
      "130/130 [==============================] - 22s 171ms/step - loss: 0.0341 - accuracy: 0.9973 - val_loss: 0.7405 - val_accuracy: 0.9046\n",
      "Epoch 47/60\n",
      "130/130 [==============================] - 22s 170ms/step - loss: 0.0304 - accuracy: 0.9969 - val_loss: 0.9481 - val_accuracy: 0.8959\n",
      "Epoch 48/60\n",
      "130/130 [==============================] - 22s 171ms/step - loss: 0.0277 - accuracy: 0.9978 - val_loss: 0.7886 - val_accuracy: 0.9046\n",
      "Epoch 49/60\n",
      "130/130 [==============================] - 22s 170ms/step - loss: 0.0271 - accuracy: 0.9983 - val_loss: 0.7160 - val_accuracy: 0.9154\n",
      "Epoch 50/60\n",
      "130/130 [==============================] - 22s 170ms/step - loss: 0.0263 - accuracy: 0.9983 - val_loss: 0.7477 - val_accuracy: 0.9111\n",
      "Epoch 51/60\n",
      "130/130 [==============================] - 22s 172ms/step - loss: 0.0263 - accuracy: 0.9981 - val_loss: 0.7384 - val_accuracy: 0.9219\n",
      "Epoch 52/60\n",
      "130/130 [==============================] - 22s 173ms/step - loss: 0.0261 - accuracy: 0.9983 - val_loss: 0.8029 - val_accuracy: 0.9111\n",
      "Epoch 53/60\n",
      "130/130 [==============================] - 22s 171ms/step - loss: 0.0265 - accuracy: 0.9981 - val_loss: 0.8415 - val_accuracy: 0.9132\n",
      "Epoch 54/60\n",
      "130/130 [==============================] - 22s 173ms/step - loss: 0.0262 - accuracy: 0.9981 - val_loss: 0.7218 - val_accuracy: 0.9241\n",
      "Epoch 55/60\n",
      "130/130 [==============================] - 22s 172ms/step - loss: 0.0396 - accuracy: 0.9954 - val_loss: 0.6687 - val_accuracy: 0.9154\n",
      "Epoch 56/60\n",
      "130/130 [==============================] - 22s 170ms/step - loss: 0.0278 - accuracy: 0.9976 - val_loss: 0.7817 - val_accuracy: 0.9132\n",
      "Epoch 57/60\n",
      "130/130 [==============================] - 22s 171ms/step - loss: 0.0276 - accuracy: 0.9976 - val_loss: 0.5903 - val_accuracy: 0.9262\n",
      "Epoch 58/60\n",
      "130/130 [==============================] - 22s 170ms/step - loss: 0.0268 - accuracy: 0.9981 - val_loss: 0.8183 - val_accuracy: 0.9219\n",
      "Epoch 59/60\n",
      "130/130 [==============================] - 22s 170ms/step - loss: 0.0268 - accuracy: 0.9983 - val_loss: 0.6827 - val_accuracy: 0.9262\n",
      "Epoch 60/60\n",
      "130/130 [==============================] - 22s 172ms/step - loss: 0.0265 - accuracy: 0.9981 - val_loss: 0.6175 - val_accuracy: 0.9241\n"
     ]
    }
   ],
   "source": [
    "output_dim = 64\n",
    "epochs = 60\n",
    "batch_size = 32\n",
    "tf.keras.backend.clear_session()\n",
    "\n",
    "modelLSTM = tf.keras.Sequential([\n",
    "    tf.keras.layers.Embedding(vocab_length, output_dim, input_length=maxlen),\n",
    "    tf.keras.layers.Bidirectional(tf.keras.layers.LSTM(64,  return_sequences=True)),\n",
    "    tf.keras.layers.Bidirectional(tf.keras.layers.LSTM(16)),\n",
    "    tf.keras.layers.Dense(64, activation='relu'),\n",
    "    tf.keras.layers.Dropout(0.5),\n",
    "    tf.keras.layers.Dense(1)\n",
    "])\n",
    "modelLSTM.compile(optimizer='adam', loss='binary_crossentropy', metrics=['accuracy'])\n",
    "historyLSTM = modelLSTM.fit(train_padded_seqeunces, Y_train, epochs=epochs, batch_size=batch_size, validation_split=0.1)\n",
    "LSTM_train = round(historyLSTM.history['accuracy'][-1] * 100, 2)\n",
    "modelLSTM.save('../models/v2/modelLSTM.keras')\n"
   ]
  },
  {
   "cell_type": "markdown",
   "metadata": {},
   "source": [
    "## Test"
   ]
  },
  {
   "cell_type": "code",
   "execution_count": 2,
   "metadata": {},
   "outputs": [],
   "source": [
    "with open('../models/v2/rnn_tokenizer.pkl', 'rb') as arquivo:\n",
    "    tokenizer = pickle.load(arquivo)\n",
    "with open('../models/v2/count_vectorizer.pkl', 'rb') as arquivo:\n",
    "    vectorizer_test = pickle.load(arquivo)"
   ]
  },
  {
   "cell_type": "code",
   "execution_count": 4,
   "metadata": {},
   "outputs": [
    {
     "ename": "ParserError",
     "evalue": "Error tokenizing data. C error: Expected 3 fields in line 1153, saw 8\n",
     "output_type": "error",
     "traceback": [
      "\u001b[1;31m---------------------------------------------------------------------------\u001b[0m",
      "\u001b[1;31mParserError\u001b[0m                               Traceback (most recent call last)",
      "Cell \u001b[1;32mIn[4], line 3\u001b[0m\n\u001b[0;32m      1\u001b[0m maxlen\u001b[38;5;241m=\u001b[39m\u001b[38;5;241m256\u001b[39m\n\u001b[1;32m----> 3\u001b[0m df_test \u001b[38;5;241m=\u001b[39m \u001b[43mpd\u001b[49m\u001b[38;5;241;43m.\u001b[39;49m\u001b[43mread_csv\u001b[49m\u001b[43m(\u001b[49m\u001b[38;5;124;43m'\u001b[39;49m\u001b[38;5;124;43m../data/test.csv\u001b[39;49m\u001b[38;5;124;43m'\u001b[39;49m\u001b[43m)\u001b[49m\n\u001b[0;32m      4\u001b[0m df_test \u001b[38;5;241m=\u001b[39m df_test\u001b[38;5;241m.\u001b[39mdrop(columns\u001b[38;5;241m=\u001b[39m[\u001b[38;5;124m'\u001b[39m\u001b[38;5;124mUnnamed: 0\u001b[39m\u001b[38;5;124m'\u001b[39m])\n",
      "File \u001b[1;32mc:\\Users\\gyova\\Documents\\Projetos\\Model-dectation-fake-news\\ven\\lib\\site-packages\\pandas\\io\\parsers\\readers.py:912\u001b[0m, in \u001b[0;36mread_csv\u001b[1;34m(filepath_or_buffer, sep, delimiter, header, names, index_col, usecols, dtype, engine, converters, true_values, false_values, skipinitialspace, skiprows, skipfooter, nrows, na_values, keep_default_na, na_filter, verbose, skip_blank_lines, parse_dates, infer_datetime_format, keep_date_col, date_parser, date_format, dayfirst, cache_dates, iterator, chunksize, compression, thousands, decimal, lineterminator, quotechar, quoting, doublequote, escapechar, comment, encoding, encoding_errors, dialect, on_bad_lines, delim_whitespace, low_memory, memory_map, float_precision, storage_options, dtype_backend)\u001b[0m\n\u001b[0;32m    <a href='file:///c%3A/Users/gyova/Documents/Projetos/Model-dectation-fake-news/ven/lib/site-packages/pandas/io/parsers/readers.py?line=898'>899</a>\u001b[0m kwds_defaults \u001b[39m=\u001b[39m _refine_defaults_read(\n\u001b[0;32m    <a href='file:///c%3A/Users/gyova/Documents/Projetos/Model-dectation-fake-news/ven/lib/site-packages/pandas/io/parsers/readers.py?line=899'>900</a>\u001b[0m     dialect,\n\u001b[0;32m    <a href='file:///c%3A/Users/gyova/Documents/Projetos/Model-dectation-fake-news/ven/lib/site-packages/pandas/io/parsers/readers.py?line=900'>901</a>\u001b[0m     delimiter,\n\u001b[1;32m   (...)\u001b[0m\n\u001b[0;32m    <a href='file:///c%3A/Users/gyova/Documents/Projetos/Model-dectation-fake-news/ven/lib/site-packages/pandas/io/parsers/readers.py?line=907'>908</a>\u001b[0m     dtype_backend\u001b[39m=\u001b[39mdtype_backend,\n\u001b[0;32m    <a href='file:///c%3A/Users/gyova/Documents/Projetos/Model-dectation-fake-news/ven/lib/site-packages/pandas/io/parsers/readers.py?line=908'>909</a>\u001b[0m )\n\u001b[0;32m    <a href='file:///c%3A/Users/gyova/Documents/Projetos/Model-dectation-fake-news/ven/lib/site-packages/pandas/io/parsers/readers.py?line=909'>910</a>\u001b[0m kwds\u001b[39m.\u001b[39mupdate(kwds_defaults)\n\u001b[1;32m--> <a href='file:///c%3A/Users/gyova/Documents/Projetos/Model-dectation-fake-news/ven/lib/site-packages/pandas/io/parsers/readers.py?line=911'>912</a>\u001b[0m \u001b[39mreturn\u001b[39;00m _read(filepath_or_buffer, kwds)\n",
      "File \u001b[1;32mc:\\Users\\gyova\\Documents\\Projetos\\Model-dectation-fake-news\\ven\\lib\\site-packages\\pandas\\io\\parsers\\readers.py:583\u001b[0m, in \u001b[0;36m_read\u001b[1;34m(filepath_or_buffer, kwds)\u001b[0m\n\u001b[0;32m    <a href='file:///c%3A/Users/gyova/Documents/Projetos/Model-dectation-fake-news/ven/lib/site-packages/pandas/io/parsers/readers.py?line=579'>580</a>\u001b[0m     \u001b[39mreturn\u001b[39;00m parser\n\u001b[0;32m    <a href='file:///c%3A/Users/gyova/Documents/Projetos/Model-dectation-fake-news/ven/lib/site-packages/pandas/io/parsers/readers.py?line=581'>582</a>\u001b[0m \u001b[39mwith\u001b[39;00m parser:\n\u001b[1;32m--> <a href='file:///c%3A/Users/gyova/Documents/Projetos/Model-dectation-fake-news/ven/lib/site-packages/pandas/io/parsers/readers.py?line=582'>583</a>\u001b[0m     \u001b[39mreturn\u001b[39;00m parser\u001b[39m.\u001b[39;49mread(nrows)\n",
      "File \u001b[1;32mc:\\Users\\gyova\\Documents\\Projetos\\Model-dectation-fake-news\\ven\\lib\\site-packages\\pandas\\io\\parsers\\readers.py:1704\u001b[0m, in \u001b[0;36mTextFileReader.read\u001b[1;34m(self, nrows)\u001b[0m\n\u001b[0;32m   <a href='file:///c%3A/Users/gyova/Documents/Projetos/Model-dectation-fake-news/ven/lib/site-packages/pandas/io/parsers/readers.py?line=1696'>1697</a>\u001b[0m nrows \u001b[39m=\u001b[39m validate_integer(\u001b[39m\"\u001b[39m\u001b[39mnrows\u001b[39m\u001b[39m\"\u001b[39m, nrows)\n\u001b[0;32m   <a href='file:///c%3A/Users/gyova/Documents/Projetos/Model-dectation-fake-news/ven/lib/site-packages/pandas/io/parsers/readers.py?line=1697'>1698</a>\u001b[0m \u001b[39mtry\u001b[39;00m:\n\u001b[0;32m   <a href='file:///c%3A/Users/gyova/Documents/Projetos/Model-dectation-fake-news/ven/lib/site-packages/pandas/io/parsers/readers.py?line=1698'>1699</a>\u001b[0m     \u001b[39m# error: \"ParserBase\" has no attribute \"read\"\u001b[39;00m\n\u001b[0;32m   <a href='file:///c%3A/Users/gyova/Documents/Projetos/Model-dectation-fake-news/ven/lib/site-packages/pandas/io/parsers/readers.py?line=1699'>1700</a>\u001b[0m     (\n\u001b[0;32m   <a href='file:///c%3A/Users/gyova/Documents/Projetos/Model-dectation-fake-news/ven/lib/site-packages/pandas/io/parsers/readers.py?line=1700'>1701</a>\u001b[0m         index,\n\u001b[0;32m   <a href='file:///c%3A/Users/gyova/Documents/Projetos/Model-dectation-fake-news/ven/lib/site-packages/pandas/io/parsers/readers.py?line=1701'>1702</a>\u001b[0m         columns,\n\u001b[0;32m   <a href='file:///c%3A/Users/gyova/Documents/Projetos/Model-dectation-fake-news/ven/lib/site-packages/pandas/io/parsers/readers.py?line=1702'>1703</a>\u001b[0m         col_dict,\n\u001b[1;32m-> <a href='file:///c%3A/Users/gyova/Documents/Projetos/Model-dectation-fake-news/ven/lib/site-packages/pandas/io/parsers/readers.py?line=1703'>1704</a>\u001b[0m     ) \u001b[39m=\u001b[39m \u001b[39mself\u001b[39;49m\u001b[39m.\u001b[39;49m_engine\u001b[39m.\u001b[39;49mread(  \u001b[39m# type: ignore[attr-defined]\u001b[39;49;00m\n\u001b[0;32m   <a href='file:///c%3A/Users/gyova/Documents/Projetos/Model-dectation-fake-news/ven/lib/site-packages/pandas/io/parsers/readers.py?line=1704'>1705</a>\u001b[0m         nrows\n\u001b[0;32m   <a href='file:///c%3A/Users/gyova/Documents/Projetos/Model-dectation-fake-news/ven/lib/site-packages/pandas/io/parsers/readers.py?line=1705'>1706</a>\u001b[0m     )\n\u001b[0;32m   <a href='file:///c%3A/Users/gyova/Documents/Projetos/Model-dectation-fake-news/ven/lib/site-packages/pandas/io/parsers/readers.py?line=1706'>1707</a>\u001b[0m \u001b[39mexcept\u001b[39;00m \u001b[39mException\u001b[39;00m:\n\u001b[0;32m   <a href='file:///c%3A/Users/gyova/Documents/Projetos/Model-dectation-fake-news/ven/lib/site-packages/pandas/io/parsers/readers.py?line=1707'>1708</a>\u001b[0m     \u001b[39mself\u001b[39m\u001b[39m.\u001b[39mclose()\n",
      "File \u001b[1;32mc:\\Users\\gyova\\Documents\\Projetos\\Model-dectation-fake-news\\ven\\lib\\site-packages\\pandas\\io\\parsers\\c_parser_wrapper.py:234\u001b[0m, in \u001b[0;36mCParserWrapper.read\u001b[1;34m(self, nrows)\u001b[0m\n\u001b[0;32m    <a href='file:///c%3A/Users/gyova/Documents/Projetos/Model-dectation-fake-news/ven/lib/site-packages/pandas/io/parsers/c_parser_wrapper.py?line=231'>232</a>\u001b[0m \u001b[39mtry\u001b[39;00m:\n\u001b[0;32m    <a href='file:///c%3A/Users/gyova/Documents/Projetos/Model-dectation-fake-news/ven/lib/site-packages/pandas/io/parsers/c_parser_wrapper.py?line=232'>233</a>\u001b[0m     \u001b[39mif\u001b[39;00m \u001b[39mself\u001b[39m\u001b[39m.\u001b[39mlow_memory:\n\u001b[1;32m--> <a href='file:///c%3A/Users/gyova/Documents/Projetos/Model-dectation-fake-news/ven/lib/site-packages/pandas/io/parsers/c_parser_wrapper.py?line=233'>234</a>\u001b[0m         chunks \u001b[39m=\u001b[39m \u001b[39mself\u001b[39;49m\u001b[39m.\u001b[39;49m_reader\u001b[39m.\u001b[39;49mread_low_memory(nrows)\n\u001b[0;32m    <a href='file:///c%3A/Users/gyova/Documents/Projetos/Model-dectation-fake-news/ven/lib/site-packages/pandas/io/parsers/c_parser_wrapper.py?line=234'>235</a>\u001b[0m         \u001b[39m# destructive to chunks\u001b[39;00m\n\u001b[0;32m    <a href='file:///c%3A/Users/gyova/Documents/Projetos/Model-dectation-fake-news/ven/lib/site-packages/pandas/io/parsers/c_parser_wrapper.py?line=235'>236</a>\u001b[0m         data \u001b[39m=\u001b[39m _concatenate_chunks(chunks)\n",
      "File \u001b[1;32mc:\\Users\\gyova\\Documents\\Projetos\\Model-dectation-fake-news\\ven\\lib\\site-packages\\pandas\\_libs\\parsers.pyx:814\u001b[0m, in \u001b[0;36mpandas._libs.parsers.TextReader.read_low_memory\u001b[1;34m()\u001b[0m\n",
      "File \u001b[1;32mc:\\Users\\gyova\\Documents\\Projetos\\Model-dectation-fake-news\\ven\\lib\\site-packages\\pandas\\_libs\\parsers.pyx:875\u001b[0m, in \u001b[0;36mpandas._libs.parsers.TextReader._read_rows\u001b[1;34m()\u001b[0m\n",
      "File \u001b[1;32mc:\\Users\\gyova\\Documents\\Projetos\\Model-dectation-fake-news\\ven\\lib\\site-packages\\pandas\\_libs\\parsers.pyx:850\u001b[0m, in \u001b[0;36mpandas._libs.parsers.TextReader._tokenize_rows\u001b[1;34m()\u001b[0m\n",
      "File \u001b[1;32mc:\\Users\\gyova\\Documents\\Projetos\\Model-dectation-fake-news\\ven\\lib\\site-packages\\pandas\\_libs\\parsers.pyx:861\u001b[0m, in \u001b[0;36mpandas._libs.parsers.TextReader._check_tokenize_status\u001b[1;34m()\u001b[0m\n",
      "File \u001b[1;32mc:\\Users\\gyova\\Documents\\Projetos\\Model-dectation-fake-news\\ven\\lib\\site-packages\\pandas\\_libs\\parsers.pyx:2029\u001b[0m, in \u001b[0;36mpandas._libs.parsers.raise_parser_error\u001b[1;34m()\u001b[0m\n",
      "\u001b[1;31mParserError\u001b[0m: Error tokenizing data. C error: Expected 3 fields in line 1153, saw 8\n"
     ]
    }
   ],
   "source": [
    "maxlen=256\n",
    "\n",
    "df_test = pd.read_csv('../data/test.csv')\n",
    "df_test = df_test.drop(columns=['Unnamed: 0'])"
   ]
  },
  {
   "cell_type": "code",
   "execution_count": 27,
   "metadata": {},
   "outputs": [],
   "source": [
    "maxlen=256\n",
    "\n",
    "df_test = pd.read_csv('../data/test.csv', encoding='ISO-8859-1')\n",
    "df_test = df_test.drop(columns=['Unnamed: 0'])\n",
    "\n",
    "stop_words = set(stopwords.words('portuguese'))\n",
    "\n",
    "def remover_stop_words(news):\n",
    "    palavras = news.split()\n",
    "    palavras_sem_stop = [palavra for palavra in palavras if palavra.lower() not in stop_words]\n",
    "    return ' '.join(palavras_sem_stop)\n",
    "\n",
    "def review_cleaning(text):\n",
    "    \n",
    "    text = str(text).lower()\n",
    "    text = re.sub('\\[.*?\\]', '', text)\n",
    "    text = re.sub('https?://\\S+|www\\.\\S+', '', text)\n",
    "    text = re.sub('<.*?>+', '', text)\n",
    "    text = re.sub('[%s]' % re.escape(string.punctuation), '', text)\n",
    "    text = re.sub('\\n', '', text)\n",
    "    text = re.sub('\\w*\\d\\w*', '', text)\n",
    "    return text\n",
    "\n",
    "df_test[\"preprocessed_news\"] = df_test[\"preprocessed_news\"].apply(remover_stop_words)\n",
    "df_test[\"preprocessed_news\"] = df_test[\"preprocessed_news\"].apply(review_cleaning)\n",
    "\n",
    "df_test['label'] = df_test.apply(lambda row: 0 if row.label == 'fake' else 1, axis=1)\n",
    "\n",
    "X_test = df_test.drop(['label'], axis = 1)\n",
    "Y_test = df_test['label']\n",
    "\n",
    "X_test = X_test['preprocessed_news'].apply(lambda x: x.lower())\n",
    "\n",
    "test_sequences = tokenizer.texts_to_sequences(X_test)\n",
    "test_padded_seqeunces = tf.keras.preprocessing.sequence.pad_sequences(test_sequences, padding='post', maxlen=maxlen, truncating='post')\n",
    "\n",
    "X_test = vectorizer_test.transform(X_test).toarray()"
   ]
  },
  {
   "cell_type": "code",
   "execution_count": 28,
   "metadata": {},
   "outputs": [],
   "source": [
    "with open('../models/v2/logisticRegression.pkl', 'rb') as arquivo:\n",
    "    lr_classifier = pickle.load(arquivo)\n",
    "with open('../models/v2/MLPClassifier.pkl', 'rb') as arquivo:\n",
    "    mlp = pickle.load(arquivo)\n",
    "with open('../models/v2/MLPClassifierWithGridSearchCV.pkl', 'rb') as arquivo:\n",
    "    mlpG = pickle.load(arquivo)\n",
    "with open('../models/v2/decisionTree.pkl', 'rb') as arquivo:\n",
    "    decisionTree = pickle.load(arquivo)\n",
    "with open('../models/v2/PassiveAggressiveClassifier.pkl', 'rb') as arquivo:\n",
    "    passive = pickle.load(arquivo)\n",
    "    \n",
    "rnn = load_model('../models/v2/modelo_rnn.keras')\n",
    "modelLSTM = load_model('../models/v2/modelLSTM.keras')\n"
   ]
  },
  {
   "cell_type": "markdown",
   "metadata": {},
   "source": [
    "##### Logistic Regression\n"
   ]
  },
  {
   "cell_type": "code",
   "execution_count": 29,
   "metadata": {},
   "outputs": [
    {
     "name": "stdout",
     "output_type": "stream",
     "text": [
      "              precision    recall  f1-score   support\n",
      "\n",
      "           0       0.95      0.98      0.97       607\n",
      "           1       0.98      0.95      0.96       548\n",
      "\n",
      "    accuracy                           0.96      1155\n",
      "   macro avg       0.96      0.96      0.96      1155\n",
      "weighted avg       0.96      0.96      0.96      1155\n",
      "\n"
     ]
    },
    {
     "data": {
      "text/plain": [
       "<sklearn.metrics._plot.confusion_matrix.ConfusionMatrixDisplay at 0x2c8118def70>"
      ]
     },
     "execution_count": 29,
     "metadata": {},
     "output_type": "execute_result"
    },
    {
     "data": {
      "image/png": "[encoded data removed]",
      "text/plain": [
       "<Figure size 640x480 with 2 Axes>"
      ]
     },
     "metadata": {},
     "output_type": "display_data"
    }
   ],
   "source": [
    "y_test_pred = lr_classifier.predict(X_test)\n",
    "y_test_pred = (y_test_pred > 0.75)\n",
    "lr_classifier_acc = round(accuracy_score(Y_test, y_test_pred) * 100, 2)\n",
    "cm = confusion_matrix(Y_test, y_test_pred)\n",
    "print(classification_report(Y_test, y_test_pred))\n",
    "\n",
    "ConfusionMatrixDisplay(confusion_matrix=cm, display_labels=['Fake','True']).plot()\n",
    "\n"
   ]
  },
  {
   "cell_type": "markdown",
   "metadata": {},
   "source": [
    "##### Multilayer perceptron (MLP)"
   ]
  },
  {
   "cell_type": "code",
   "execution_count": 30,
   "metadata": {},
   "outputs": [
    {
     "name": "stdout",
     "output_type": "stream",
     "text": [
      "              precision    recall  f1-score   support\n",
      "\n",
      "           0       0.91      0.97      0.94       607\n",
      "           1       0.96      0.89      0.92       548\n",
      "\n",
      "    accuracy                           0.93      1155\n",
      "   macro avg       0.93      0.93      0.93      1155\n",
      "weighted avg       0.93      0.93      0.93      1155\n",
      "\n"
     ]
    },
    {
     "data": {
      "text/plain": [
       "<sklearn.metrics._plot.confusion_matrix.ConfusionMatrixDisplay at 0x2c81157daf0>"
      ]
     },
     "execution_count": 30,
     "metadata": {},
     "output_type": "execute_result"
    },
    {
     "data": {
      "image/png": "[encoded data removed]",
      "text/plain": [
       "<Figure size 640x480 with 2 Axes>"
      ]
     },
     "metadata": {},
     "output_type": "display_data"
    }
   ],
   "source": [
    "y_test_pred = mlp.predict(X_test)\n",
    "y_test_pred = (y_test_pred > 0.75)\n",
    "mlp_acc = round(accuracy_score(Y_test, y_test_pred) * 100, 2)\n",
    "\n",
    "cm = confusion_matrix(Y_test, y_test_pred)\n",
    "print(classification_report(Y_test, y_test_pred))\n",
    "\n",
    "ConfusionMatrixDisplay(confusion_matrix=cm, display_labels=['Fake','True']).plot()\n"
   ]
  },
  {
   "cell_type": "markdown",
   "metadata": {},
   "source": [
    "##### Multilayer perceptron (MLP) Com GridSearchCV"
   ]
  },
  {
   "cell_type": "code",
   "execution_count": 31,
   "metadata": {},
   "outputs": [
    {
     "name": "stdout",
     "output_type": "stream",
     "text": [
      "              precision    recall  f1-score   support\n",
      "\n",
      "           0       0.95      0.98      0.96       607\n",
      "           1       0.97      0.95      0.96       548\n",
      "\n",
      "    accuracy                           0.96      1155\n",
      "   macro avg       0.96      0.96      0.96      1155\n",
      "weighted avg       0.96      0.96      0.96      1155\n",
      "\n"
     ]
    },
    {
     "data": {
      "text/plain": [
       "<sklearn.metrics._plot.confusion_matrix.ConfusionMatrixDisplay at 0x2c817719e50>"
      ]
     },
     "execution_count": 31,
     "metadata": {},
     "output_type": "execute_result"
    },
    {
     "data": {
      "image/png": "[encoded data removed]",
      "text/plain": [
       "<Figure size 640x480 with 2 Axes>"
      ]
     },
     "metadata": {},
     "output_type": "display_data"
    }
   ],
   "source": [
    "\n",
    "y_test_pred = mlpG.predict(X_test)\n",
    "y_test_pred = (y_test_pred > 0.75)\n",
    "mlpG_acc = round(accuracy_score(Y_test, y_test_pred) * 100, 2)\n",
    "\n",
    "cm = confusion_matrix(Y_test, y_test_pred)\n",
    "print(classification_report(Y_test, y_test_pred))\n",
    "\n",
    "ConfusionMatrixDisplay(confusion_matrix=cm, display_labels=['Fake','True']).plot()\n",
    "\n",
    "    "
   ]
  },
  {
   "cell_type": "markdown",
   "metadata": {},
   "source": [
    "#### Decision Tree"
   ]
  },
  {
   "cell_type": "code",
   "execution_count": 32,
   "metadata": {},
   "outputs": [
    {
     "name": "stdout",
     "output_type": "stream",
     "text": [
      "              precision    recall  f1-score   support\n",
      "\n",
      "           0       0.90      0.91      0.91       607\n",
      "           1       0.90      0.89      0.89       548\n",
      "\n",
      "    accuracy                           0.90      1155\n",
      "   macro avg       0.90      0.90      0.90      1155\n",
      "weighted avg       0.90      0.90      0.90      1155\n",
      "\n"
     ]
    },
    {
     "data": {
      "text/plain": [
       "<sklearn.metrics._plot.confusion_matrix.ConfusionMatrixDisplay at 0x2c81772da00>"
      ]
     },
     "execution_count": 32,
     "metadata": {},
     "output_type": "execute_result"
    },
    {
     "data": {
      "image/png": "[encoded data removed]",
      "text/plain": [
       "<Figure size 640x480 with 2 Axes>"
      ]
     },
     "metadata": {},
     "output_type": "display_data"
    }
   ],
   "source": [
    "y_test_pred = decisionTree.predict(X_test)\n",
    "y_test_pred = (y_test_pred > 0.75)\n",
    "decisionTree_acc = round(accuracy_score(Y_test, y_test_pred) * 100, 2)\n",
    "\n",
    "cm = confusion_matrix(Y_test, y_test_pred)\n",
    "print(classification_report(Y_test, y_test_pred))\n",
    "\n",
    "ConfusionMatrixDisplay(confusion_matrix=cm, display_labels=['Fake','True']).plot()\n"
   ]
  },
  {
   "cell_type": "markdown",
   "metadata": {},
   "source": [
    "#### Passive Aggressive"
   ]
  },
  {
   "cell_type": "code",
   "execution_count": 33,
   "metadata": {},
   "outputs": [
    {
     "name": "stdout",
     "output_type": "stream",
     "text": [
      "              precision    recall  f1-score   support\n",
      "\n",
      "           0       0.90      0.91      0.91       607\n",
      "           1       0.90      0.89      0.89       548\n",
      "\n",
      "    accuracy                           0.90      1155\n",
      "   macro avg       0.90      0.90      0.90      1155\n",
      "weighted avg       0.90      0.90      0.90      1155\n",
      "\n"
     ]
    },
    {
     "data": {
      "text/plain": [
       "<sklearn.metrics._plot.confusion_matrix.ConfusionMatrixDisplay at 0x2c8178d3370>"
      ]
     },
     "execution_count": 33,
     "metadata": {},
     "output_type": "execute_result"
    },
    {
     "data": {
      "image/png": "[encoded data removed]",
      "text/plain": [
       "<Figure size 640x480 with 2 Axes>"
      ]
     },
     "metadata": {},
     "output_type": "display_data"
    }
   ],
   "source": [
    "x_test_pred = passive.predict(X_test)\n",
    "y_test_pred = (y_test_pred > 0.75)\n",
    "passive_acc = round(accuracy_score(Y_test, y_test_pred) * 100, 2)\n",
    "\n",
    "cm = confusion_matrix(Y_test, y_test_pred)\n",
    "print(classification_report(Y_test, y_test_pred))\n",
    "\n",
    "ConfusionMatrixDisplay(confusion_matrix=cm, display_labels=['Fake','True']).plot()\n"
   ]
  },
  {
   "cell_type": "markdown",
   "metadata": {},
   "source": [
    "#### RNN"
   ]
  },
  {
   "cell_type": "code",
   "execution_count": 34,
   "metadata": {},
   "outputs": [
    {
     "name": "stdout",
     "output_type": "stream",
     "text": [
      "37/37 [==============================] - 2s 40ms/step\n",
      "              precision    recall  f1-score   support\n",
      "\n",
      "           0       0.90      0.97      0.94       607\n",
      "           1       0.97      0.89      0.92       548\n",
      "\n",
      "    accuracy                           0.93      1155\n",
      "   macro avg       0.94      0.93      0.93      1155\n",
      "weighted avg       0.93      0.93      0.93      1155\n",
      "\n"
     ]
    },
    {
     "data": {
      "text/plain": [
       "<sklearn.metrics._plot.confusion_matrix.ConfusionMatrixDisplay at 0x2c817b0c4f0>"
      ]
     },
     "execution_count": 34,
     "metadata": {},
     "output_type": "execute_result"
    },
    {
     "data": {
      "image/png": "[encoded data removed]",
      "text/plain": [
       "<Figure size 640x480 with 2 Axes>"
      ]
     },
     "metadata": {},
     "output_type": "display_data"
    }
   ],
   "source": [
    "\n",
    "y_test_pred = rnn.predict(test_padded_seqeunces)\n",
    "y_test_pred = (y_test_pred > 0.70)\n",
    "rnn_acc = round(accuracy_score(Y_test, y_test_pred) * 100, 2)\n",
    "\n",
    "cm = confusion_matrix(Y_test, y_test_pred)\n",
    "print(classification_report(Y_test, y_test_pred))\n",
    "\n",
    "ConfusionMatrixDisplay(confusion_matrix=cm, display_labels=['Fake','True']).plot()\n"
   ]
  },
  {
   "cell_type": "markdown",
   "metadata": {},
   "source": [
    "#### LSTM(BI)"
   ]
  },
  {
   "cell_type": "code",
   "execution_count": 35,
   "metadata": {},
   "outputs": [
    {
     "name": "stdout",
     "output_type": "stream",
     "text": [
      "37/37 [==============================] - 3s 45ms/step\n",
      "              precision    recall  f1-score   support\n",
      "\n",
      "           0       0.93      0.95      0.94       607\n",
      "           1       0.94      0.92      0.93       548\n",
      "\n",
      "    accuracy                           0.93      1155\n",
      "   macro avg       0.93      0.93      0.93      1155\n",
      "weighted avg       0.93      0.93      0.93      1155\n",
      "\n"
     ]
    },
    {
     "data": {
      "text/plain": [
       "<sklearn.metrics._plot.confusion_matrix.ConfusionMatrixDisplay at 0x2c80f6054f0>"
      ]
     },
     "execution_count": 35,
     "metadata": {},
     "output_type": "execute_result"
    },
    {
     "data": {
      "image/png": "[encoded data removed]",
      "text/plain": [
       "<Figure size 640x480 with 2 Axes>"
      ]
     },
     "metadata": {},
     "output_type": "display_data"
    }
   ],
   "source": [
    "\n",
    "y_test_pred = modelLSTM.predict(test_padded_seqeunces)\n",
    "y_test_pred = (y_test_pred > 0.70)\n",
    "lstm_acc = round(accuracy_score(Y_test, y_test_pred) * 100, 2)\n",
    "\n",
    "cm = confusion_matrix(Y_test, y_test_pred)\n",
    "print(classification_report(Y_test, y_test_pred))\n",
    "\n",
    "ConfusionMatrixDisplay(confusion_matrix=cm, display_labels=['Fake','True']).plot()\n"
   ]
  },
  {
   "cell_type": "markdown",
   "metadata": {},
   "source": [
    "### Comparando Modelos Diferentes"
   ]
  },
  {
   "cell_type": "markdown",
   "metadata": {},
   "source": [
    "model = pd.DataFrame({\n",
    "    'Model': [\n",
    "        'Logistic Regression',\n",
    "        'Decision Tree',\n",
    "        'MLPClassifier',\n",
    "        'MLPClassifier with grid',\n",
    "        'PassiveAggressiveClassifier',\n",
    "        'RNN',\n",
    "        'RNN LSTM(BI)'\n",
    "    ],\n",
    "    'Training Accuracy': [\n",
    "        lr_classifier_train, decisionTree_train,\n",
    "        mlp_train,mlpG_train, passive_train,rnn_train,lstm_train\n",
    "    ],\n",
    "    'Model Accuracy Score': [\n",
    "        lr_classifier_acc, decisionTree_acc,\n",
    "        mlp_acc, mlpG_acc, passive_acc,rnn_acc,lstm_acc\n",
    "    ]\n",
    "})"
   ]
  },
  {
   "cell_type": "code",
   "execution_count": 36,
   "metadata": {},
   "outputs": [],
   "source": [
    "model = pd.DataFrame({\n",
    "    'Model': [\n",
    "        'Logistic Regression',\n",
    "        'Decision Tree',\n",
    "        'MLPClassifier',\n",
    "        'MLPClassifier with grid',\n",
    "        'PassiveAggressiveClassifier',\n",
    "        'RNN',\n",
    "        'RNN LSTM(BI)'\n",
    "    ],\n",
    "    'Model Accuracy Score': [\n",
    "        lr_classifier_acc, decisionTree_acc,\n",
    "        mlp_acc, mlpG_acc, passive_acc,rnn_acc,lstm_acc\n",
    "    ]\n",
    "})"
   ]
  },
  {
   "cell_type": "code",
   "execution_count": 37,
   "metadata": {},
   "outputs": [
    {
     "data": {
      "text/html": [
       "<div>\n",
       "<style scoped>\n",
       "    .dataframe tbody tr th:only-of-type {\n",
       "        vertical-align: middle;\n",
       "    }\n",
       "\n",
       "    .dataframe tbody tr th {\n",
       "        vertical-align: top;\n",
       "    }\n",
       "\n",
       "    .dataframe thead th {\n",
       "        text-align: right;\n",
       "    }\n",
       "</style>\n",
       "<table border=\"1\" class=\"dataframe\">\n",
       "  <thead>\n",
       "    <tr style=\"text-align: right;\">\n",
       "      <th></th>\n",
       "      <th>Model</th>\n",
       "      <th>Model Accuracy Score</th>\n",
       "    </tr>\n",
       "  </thead>\n",
       "  <tbody>\n",
       "    <tr>\n",
       "      <th>0</th>\n",
       "      <td>Logistic Regression</td>\n",
       "      <td>96.36</td>\n",
       "    </tr>\n",
       "    <tr>\n",
       "      <th>3</th>\n",
       "      <td>MLPClassifier with grid</td>\n",
       "      <td>96.10</td>\n",
       "    </tr>\n",
       "    <tr>\n",
       "      <th>6</th>\n",
       "      <td>RNN LSTM(BI)</td>\n",
       "      <td>93.42</td>\n",
       "    </tr>\n",
       "    <tr>\n",
       "      <th>5</th>\n",
       "      <td>RNN</td>\n",
       "      <td>93.16</td>\n",
       "    </tr>\n",
       "    <tr>\n",
       "      <th>2</th>\n",
       "      <td>MLPClassifier</td>\n",
       "      <td>93.07</td>\n",
       "    </tr>\n",
       "    <tr>\n",
       "      <th>1</th>\n",
       "      <td>Decision Tree</td>\n",
       "      <td>90.04</td>\n",
       "    </tr>\n",
       "    <tr>\n",
       "      <th>4</th>\n",
       "      <td>PassiveAggressiveClassifier</td>\n",
       "      <td>90.04</td>\n",
       "    </tr>\n",
       "  </tbody>\n",
       "</table>\n",
       "</div>"
      ],
      "text/plain": [
       "                         Model  Model Accuracy Score\n",
       "0          Logistic Regression                 96.36\n",
       "3      MLPClassifier with grid                 96.10\n",
       "6                 RNN LSTM(BI)                 93.42\n",
       "5                          RNN                 93.16\n",
       "2                MLPClassifier                 93.07\n",
       "1                Decision Tree                 90.04\n",
       "4  PassiveAggressiveClassifier                 90.04"
      ]
     },
     "execution_count": 37,
     "metadata": {},
     "output_type": "execute_result"
    }
   ],
   "source": [
    "model = model.sort_values('Model Accuracy Score',ascending=False)\n",
    "model"
   ]
  }
 ],
 "metadata": {
  "interpreter": {
   "hash": "45f1f3757439874319ad1023556b798bdce3a703ab4652de42b8220c6c143c8c"
  },
  "kernelspec": {
   "display_name": "Python 3.9.13 ('ven': venv)",
   "language": "python",
   "name": "python3"
  },
  "language_info": {
   "codemirror_mode": {
    "name": "ipython",
    "version": 3
   },
   "file_extension": ".py",
   "mimetype": "text/x-python",
   "name": "python",
   "nbconvert_exporter": "python",
   "pygments_lexer": "ipython3",
   "version": "3.9.13"
  },
  "orig_nbformat": 4
 },
 "nbformat": 4,
 "nbformat_minor": 2
}
