{
 "cells": [
  {
   "cell_type": "code",
   "execution_count": 159,
   "metadata": {
    "collapsed": true,
    "pycharm": {
     "is_executing": true,
     "name": "#%%\n"
    }
   },
   "outputs": [],
   "source": [
    "import tensorflow as tf\n",
    "import pandas as pd\n",
    "import numpy as np\n",
    "import seaborn as sns\n",
    "import matplotlib.pyplot as plt\n",
    "from sklearn.feature_extraction.text import CountVectorizer\n",
    "import tensorflow_addons as tfa\n",
    "from nltk.corpus import stopwords\n",
    "import gensim as gs\n",
    "import re\n",
    "import string\n",
    "from sklearn.metrics import confusion_matrix,ConfusionMatrixDisplay \n"
   ]
  },
  {
   "cell_type": "markdown",
   "metadata": {},
   "source": [
    " Configuração para GPU"
   ]
  },
  {
   "cell_type": "code",
   "execution_count": 160,
   "metadata": {},
   "outputs": [
    {
     "name": "stdout",
     "output_type": "stream",
     "text": [
      "Exception occured\n"
     ]
    }
   ],
   "source": [
    "devices = tf.config.experimental.list_physical_devices('GPU')\n",
    "\n",
    "try:\n",
    "    tf.config.experimental.set_memory_growth(devices[0], True)\n",
    "    print(\"Success\")\n",
    "except:\n",
    "    print(\"Exception occured\")\n",
    "    pass"
   ]
  },
  {
   "cell_type": "code",
   "execution_count": 161,
   "metadata": {
    "collapsed": false,
    "pycharm": {
     "name": "#%%\n"
    }
   },
   "outputs": [
    {
     "data": {
      "text/plain": [
       "label                False\n",
       "preprocessed_news    False\n",
       "dtype: bool"
      ]
     },
     "execution_count": 161,
     "metadata": {},
     "output_type": "execute_result"
    }
   ],
   "source": [
    "df = pd.read_csv('../data/pre-processed.csv')\n",
    "df = df.drop(columns=['index'])\n",
    "df.isnull().any()"
   ]
  },
  {
   "cell_type": "code",
   "execution_count": 162,
   "metadata": {
    "collapsed": false,
    "pycharm": {
     "name": "#%%\n"
    }
   },
   "outputs": [],
   "source": [
    "\n",
    "stop_words = set(stopwords.words('portuguese'))\n",
    "\n",
    "def remover_stop_words(news):\n",
    "    palavras = news.split()\n",
    "    palavras_sem_stop = [palavra for palavra in palavras if palavra.lower() not in stop_words]\n",
    "    return ' '.join(palavras_sem_stop)\n",
    "\n",
    "def review_cleaning(text):\n",
    "    \n",
    "    text = str(text).lower()\n",
    "    text = re.sub('\\[.*?\\]', '', text)\n",
    "    text = re.sub('https?://\\S+|www\\.\\S+', '', text)\n",
    "    text = re.sub('<.*?>+', '', text)\n",
    "    text = re.sub('[%s]' % re.escape(string.punctuation), '', text)\n",
    "    text = re.sub('\\n', '', text)\n",
    "    text = re.sub('\\w*\\d\\w*', '', text)\n",
    "    return text\n",
    "\n",
    "df[\"preprocessed_news\"] = df[\"preprocessed_news\"].apply(remover_stop_words)\n",
    "df[\"preprocessed_news\"] = df[\"preprocessed_news\"].apply(review_cleaning)"
   ]
  },
  {
   "cell_type": "code",
   "execution_count": 163,
   "metadata": {
    "collapsed": false,
    "pycharm": {
     "name": "#%%\n"
    }
   },
   "outputs": [],
   "source": [
    "df['label'] = df.apply(lambda row: 0 if row.label == 'fake' else 1, axis=1)\n",
    "\n",
    "X = df.drop(['label'], axis = 1)\n",
    "Y = df['label']"
   ]
  },
  {
   "cell_type": "code",
   "execution_count": null,
   "metadata": {
    "collapsed": false,
    "pycharm": {
     "name": "#%%\n"
    }
   },
   "outputs": [],
   "source": [
    "from sklearn.model_selection import train_test_split\n",
    "X_train, X_test, y_train, y_test = train_test_split(X, Y, test_size = 0.25, random_state = 42, stratify=Y)\n",
    "\n",
    "X_train = X_train['preprocessed_news'].apply(lambda x: x.lower())\n",
    "X_test = X_test['preprocessed_news'].apply(lambda x: x.lower())\n",
    "\n",
    "\n",
    "vectorizer = CountVectorizer()\n",
    "vectorizer.fit(X_train)\n",
    "X_train = vectorizer.transform(X_train).toarray()\n",
    "X_test = vectorizer.transform(X_test).toarray()\n"
   ]
  },
  {
   "cell_type": "code",
   "execution_count": 166,
   "metadata": {
    "collapsed": false,
    "pycharm": {
     "name": "#%%\n"
    }
   },
   "outputs": [
    {
     "data": {
      "text/html": [
       "<style>#sk-container-id-10 {color: black;}#sk-container-id-10 pre{padding: 0;}#sk-container-id-10 div.sk-toggleable {background-color: white;}#sk-container-id-10 label.sk-toggleable__label {cursor: pointer;display: block;width: 100%;margin-bottom: 0;padding: 0.3em;box-sizing: border-box;text-align: center;}#sk-container-id-10 label.sk-toggleable__label-arrow:before {content: \"▸\";float: left;margin-right: 0.25em;color: #696969;}#sk-container-id-10 label.sk-toggleable__label-arrow:hover:before {color: black;}#sk-container-id-10 div.sk-estimator:hover label.sk-toggleable__label-arrow:before {color: black;}#sk-container-id-10 div.sk-toggleable__content {max-height: 0;max-width: 0;overflow: hidden;text-align: left;background-color: #f0f8ff;}#sk-container-id-10 div.sk-toggleable__content pre {margin: 0.2em;color: black;border-radius: 0.25em;background-color: #f0f8ff;}#sk-container-id-10 input.sk-toggleable__control:checked~div.sk-toggleable__content {max-height: 200px;max-width: 100%;overflow: auto;}#sk-container-id-10 input.sk-toggleable__control:checked~label.sk-toggleable__label-arrow:before {content: \"▾\";}#sk-container-id-10 div.sk-estimator input.sk-toggleable__control:checked~label.sk-toggleable__label {background-color: #d4ebff;}#sk-container-id-10 div.sk-label input.sk-toggleable__control:checked~label.sk-toggleable__label {background-color: #d4ebff;}#sk-container-id-10 input.sk-hidden--visually {border: 0;clip: rect(1px 1px 1px 1px);clip: rect(1px, 1px, 1px, 1px);height: 1px;margin: -1px;overflow: hidden;padding: 0;position: absolute;width: 1px;}#sk-container-id-10 div.sk-estimator {font-family: monospace;background-color: #f0f8ff;border: 1px dotted black;border-radius: 0.25em;box-sizing: border-box;margin-bottom: 0.5em;}#sk-container-id-10 div.sk-estimator:hover {background-color: #d4ebff;}#sk-container-id-10 div.sk-parallel-item::after {content: \"\";width: 100%;border-bottom: 1px solid gray;flex-grow: 1;}#sk-container-id-10 div.sk-label:hover label.sk-toggleable__label {background-color: #d4ebff;}#sk-container-id-10 div.sk-serial::before {content: \"\";position: absolute;border-left: 1px solid gray;box-sizing: border-box;top: 0;bottom: 0;left: 50%;z-index: 0;}#sk-container-id-10 div.sk-serial {display: flex;flex-direction: column;align-items: center;background-color: white;padding-right: 0.2em;padding-left: 0.2em;position: relative;}#sk-container-id-10 div.sk-item {position: relative;z-index: 1;}#sk-container-id-10 div.sk-parallel {display: flex;align-items: stretch;justify-content: center;background-color: white;position: relative;}#sk-container-id-10 div.sk-item::before, #sk-container-id-10 div.sk-parallel-item::before {content: \"\";position: absolute;border-left: 1px solid gray;box-sizing: border-box;top: 0;bottom: 0;left: 50%;z-index: -1;}#sk-container-id-10 div.sk-parallel-item {display: flex;flex-direction: column;z-index: 1;position: relative;background-color: white;}#sk-container-id-10 div.sk-parallel-item:first-child::after {align-self: flex-end;width: 50%;}#sk-container-id-10 div.sk-parallel-item:last-child::after {align-self: flex-start;width: 50%;}#sk-container-id-10 div.sk-parallel-item:only-child::after {width: 0;}#sk-container-id-10 div.sk-dashed-wrapped {border: 1px dashed gray;margin: 0 0.4em 0.5em 0.4em;box-sizing: border-box;padding-bottom: 0.4em;background-color: white;}#sk-container-id-10 div.sk-label label {font-family: monospace;font-weight: bold;display: inline-block;line-height: 1.2em;}#sk-container-id-10 div.sk-label-container {text-align: center;}#sk-container-id-10 div.sk-container {/* jupyter's `normalize.less` sets `[hidden] { display: none; }` but bootstrap.min.css set `[hidden] { display: none !important; }` so we also need the `!important` here to be able to override the default hidden behavior on the sphinx rendered scikit-learn.org. See: https://github.com/scikit-learn/scikit-learn/issues/21755 */display: inline-block !important;position: relative;}#sk-container-id-10 div.sk-text-repr-fallback {display: none;}</style><div id=\"sk-container-id-10\" class=\"sk-top-container\"><div class=\"sk-text-repr-fallback\"><pre>LogisticRegression()</pre><b>In a Jupyter environment, please rerun this cell to show the HTML representation or trust the notebook. <br />On GitHub, the HTML representation is unable to render, please try loading this page with nbviewer.org.</b></div><div class=\"sk-container\" hidden><div class=\"sk-item\"><div class=\"sk-estimator sk-toggleable\"><input class=\"sk-toggleable__control sk-hidden--visually\" id=\"sk-estimator-id-10\" type=\"checkbox\" checked><label for=\"sk-estimator-id-10\" class=\"sk-toggleable__label sk-toggleable__label-arrow\">LogisticRegression</label><div class=\"sk-toggleable__content\"><pre>LogisticRegression()</pre></div></div></div></div></div>"
      ],
      "text/plain": [
       "LogisticRegression()"
      ]
     },
     "execution_count": 166,
     "metadata": {},
     "output_type": "execute_result"
    }
   ],
   "source": [
    "#LogisticRegression\n",
    "lr_classifier = LogisticRegression()\n",
    "lr_classifier.fit(X_train,y_train)"
   ]
  },
  {
   "cell_type": "code",
   "execution_count": 169,
   "metadata": {
    "collapsed": false,
    "pycharm": {
     "name": "#%%\n"
    }
   },
   "outputs": [
    {
     "name": "stdout",
     "output_type": "stream",
     "text": [
      "Accuracy score: 0.9998148148148148\n",
      "Accuracy score: 0.9722222222222222\n"
     ]
    },
    {
     "data": {
      "text/plain": [
       "<sklearn.metrics._plot.confusion_matrix.ConfusionMatrixDisplay at 0x1700cafdbb0>"
      ]
     },
     "execution_count": 169,
     "metadata": {},
     "output_type": "execute_result"
    },
    {
     "data": {
      "image/png": "[encoded data removed]",
      "text/plain": [
       "<Figure size 640x480 with 2 Axes>"
      ]
     },
     "metadata": {},
     "output_type": "display_data"
    }
   ],
   "source": [
    "x_train_pred = lr_classifier.predict(X_train)\n",
    "training_data_acc = accuracy_score(x_train_pred,y_train)\n",
    "print(f\"Accuracy score: {training_data_acc}\")\n",
    "\n",
    "y_train_pred = lr_classifier.predict(X_test)\n",
    "test_data_acc = accuracy_score(y_train_pred,y_test)\n",
    "print(f\"Accuracy score: {test_data_acc}\")\n",
    "\n",
    "\n",
    "y_train_pred = (y_train_pred > 0.75)\n",
    "cm = confusion_matrix(y_test, y_train_pred)\n",
    "ConfusionMatrixDisplay(confusion_matrix=cm, display_labels=['Fake','True']).plot()\n",
    "\n"
   ]
  },
  {
   "cell_type": "markdown",
   "metadata": {},
   "source": [
    "Model Testing"
   ]
  },
  {
   "cell_type": "code",
   "execution_count": 207,
   "metadata": {},
   "outputs": [
    {
     "ename": "ValueError",
     "evalue": "Found input variables with inconsistent numbers of samples: [1, 3]",
     "output_type": "error",
     "traceback": [
      "\u001b[1;31m---------------------------------------------------------------------------\u001b[0m",
      "\u001b[1;31mValueError\u001b[0m                                Traceback (most recent call last)",
      "Cell \u001b[1;32mIn[207], line 15\u001b[0m\n\u001b[0;32m     11\u001b[0m y_news \u001b[38;5;241m=\u001b[39m pd\u001b[38;5;241m.\u001b[39mSeries(data\u001b[38;5;241m=\u001b[39m[\u001b[38;5;241m0\u001b[39m,\u001b[38;5;241m1\u001b[39m,\u001b[38;5;241m0\u001b[39m], index\u001b[38;5;241m=\u001b[39m[ \u001b[38;5;241m0\u001b[39m,\u001b[38;5;241m1\u001b[39m,\u001b[38;5;241m2\u001b[39m],name\u001b[38;5;241m=\u001b[39m\u001b[38;5;124m'\u001b[39m\u001b[38;5;124mlabel\u001b[39m\u001b[38;5;124m'\u001b[39m)\n\u001b[0;32m     12\u001b[0m y_train_pred \u001b[38;5;241m=\u001b[39m lr_classifier\u001b[38;5;241m.\u001b[39mpredict(x_news)\n\u001b[1;32m---> 15\u001b[0m test_data_acc \u001b[38;5;241m=\u001b[39m \u001b[43maccuracy_score\u001b[49m\u001b[43m(\u001b[49m\u001b[43my_train_pred\u001b[49m\u001b[43m,\u001b[49m\u001b[43my_news\u001b[49m\u001b[43m)\u001b[49m\n\u001b[0;32m     16\u001b[0m \u001b[38;5;28mprint\u001b[39m(\u001b[38;5;124mf\u001b[39m\u001b[38;5;124m\"\u001b[39m\u001b[38;5;124mAccuracy score: \u001b[39m\u001b[38;5;132;01m{\u001b[39;00mtest_data_acc\u001b[38;5;132;01m}\u001b[39;00m\u001b[38;5;124m\"\u001b[39m)\n\u001b[0;32m     17\u001b[0m y_train_pred \u001b[38;5;241m=\u001b[39m (y_train_pred \u001b[38;5;241m>\u001b[39m \u001b[38;5;241m0.70\u001b[39m)\n",
      "File \u001b[1;32mc:\\Users\\gyova\\Documents\\Projetos\\Model-dectation-fake-news\\ven\\lib\\site-packages\\sklearn\\utils\\_param_validation.py:211\u001b[0m, in \u001b[0;36mvalidate_params.<locals>.decorator.<locals>.wrapper\u001b[1;34m(*args, **kwargs)\u001b[0m\n\u001b[0;32m    <a href='file:///c%3A/Users/gyova/Documents/Projetos/Model-dectation-fake-news/ven/lib/site-packages/sklearn/utils/_param_validation.py?line=204'>205</a>\u001b[0m \u001b[39mtry\u001b[39;00m:\n\u001b[0;32m    <a href='file:///c%3A/Users/gyova/Documents/Projetos/Model-dectation-fake-news/ven/lib/site-packages/sklearn/utils/_param_validation.py?line=205'>206</a>\u001b[0m     \u001b[39mwith\u001b[39;00m config_context(\n\u001b[0;32m    <a href='file:///c%3A/Users/gyova/Documents/Projetos/Model-dectation-fake-news/ven/lib/site-packages/sklearn/utils/_param_validation.py?line=206'>207</a>\u001b[0m         skip_parameter_validation\u001b[39m=\u001b[39m(\n\u001b[0;32m    <a href='file:///c%3A/Users/gyova/Documents/Projetos/Model-dectation-fake-news/ven/lib/site-packages/sklearn/utils/_param_validation.py?line=207'>208</a>\u001b[0m             prefer_skip_nested_validation \u001b[39mor\u001b[39;00m global_skip_validation\n\u001b[0;32m    <a href='file:///c%3A/Users/gyova/Documents/Projetos/Model-dectation-fake-news/ven/lib/site-packages/sklearn/utils/_param_validation.py?line=208'>209</a>\u001b[0m         )\n\u001b[0;32m    <a href='file:///c%3A/Users/gyova/Documents/Projetos/Model-dectation-fake-news/ven/lib/site-packages/sklearn/utils/_param_validation.py?line=209'>210</a>\u001b[0m     ):\n\u001b[1;32m--> <a href='file:///c%3A/Users/gyova/Documents/Projetos/Model-dectation-fake-news/ven/lib/site-packages/sklearn/utils/_param_validation.py?line=210'>211</a>\u001b[0m         \u001b[39mreturn\u001b[39;00m func(\u001b[39m*\u001b[39margs, \u001b[39m*\u001b[39m\u001b[39m*\u001b[39mkwargs)\n\u001b[0;32m    <a href='file:///c%3A/Users/gyova/Documents/Projetos/Model-dectation-fake-news/ven/lib/site-packages/sklearn/utils/_param_validation.py?line=211'>212</a>\u001b[0m \u001b[39mexcept\u001b[39;00m InvalidParameterError \u001b[39mas\u001b[39;00m e:\n\u001b[0;32m    <a href='file:///c%3A/Users/gyova/Documents/Projetos/Model-dectation-fake-news/ven/lib/site-packages/sklearn/utils/_param_validation.py?line=212'>213</a>\u001b[0m     \u001b[39m# When the function is just a wrapper around an estimator, we allow\u001b[39;00m\n\u001b[0;32m    <a href='file:///c%3A/Users/gyova/Documents/Projetos/Model-dectation-fake-news/ven/lib/site-packages/sklearn/utils/_param_validation.py?line=213'>214</a>\u001b[0m     \u001b[39m# the function to delegate validation to the estimator, but we replace\u001b[39;00m\n\u001b[0;32m    <a href='file:///c%3A/Users/gyova/Documents/Projetos/Model-dectation-fake-news/ven/lib/site-packages/sklearn/utils/_param_validation.py?line=214'>215</a>\u001b[0m     \u001b[39m# the name of the estimator by the name of the function in the error\u001b[39;00m\n\u001b[0;32m    <a href='file:///c%3A/Users/gyova/Documents/Projetos/Model-dectation-fake-news/ven/lib/site-packages/sklearn/utils/_param_validation.py?line=215'>216</a>\u001b[0m     \u001b[39m# message to avoid confusion.\u001b[39;00m\n\u001b[0;32m    <a href='file:///c%3A/Users/gyova/Documents/Projetos/Model-dectation-fake-news/ven/lib/site-packages/sklearn/utils/_param_validation.py?line=216'>217</a>\u001b[0m     msg \u001b[39m=\u001b[39m re\u001b[39m.\u001b[39msub(\n\u001b[0;32m    <a href='file:///c%3A/Users/gyova/Documents/Projetos/Model-dectation-fake-news/ven/lib/site-packages/sklearn/utils/_param_validation.py?line=217'>218</a>\u001b[0m         \u001b[39mr\u001b[39m\u001b[39m\"\u001b[39m\u001b[39mparameter of \u001b[39m\u001b[39m\\\u001b[39m\u001b[39mw+ must be\u001b[39m\u001b[39m\"\u001b[39m,\n\u001b[0;32m    <a href='file:///c%3A/Users/gyova/Documents/Projetos/Model-dectation-fake-news/ven/lib/site-packages/sklearn/utils/_param_validation.py?line=218'>219</a>\u001b[0m         \u001b[39mf\u001b[39m\u001b[39m\"\u001b[39m\u001b[39mparameter of \u001b[39m\u001b[39m{\u001b[39;00mfunc\u001b[39m.\u001b[39m\u001b[39m__qualname__\u001b[39m\u001b[39m}\u001b[39;00m\u001b[39m must be\u001b[39m\u001b[39m\"\u001b[39m,\n\u001b[0;32m    <a href='file:///c%3A/Users/gyova/Documents/Projetos/Model-dectation-fake-news/ven/lib/site-packages/sklearn/utils/_param_validation.py?line=219'>220</a>\u001b[0m         \u001b[39mstr\u001b[39m(e),\n\u001b[0;32m    <a href='file:///c%3A/Users/gyova/Documents/Projetos/Model-dectation-fake-news/ven/lib/site-packages/sklearn/utils/_param_validation.py?line=220'>221</a>\u001b[0m     )\n",
      "File \u001b[1;32mc:\\Users\\gyova\\Documents\\Projetos\\Model-dectation-fake-news\\ven\\lib\\site-packages\\sklearn\\metrics\\_classification.py:220\u001b[0m, in \u001b[0;36maccuracy_score\u001b[1;34m(y_true, y_pred, normalize, sample_weight)\u001b[0m\n\u001b[0;32m    <a href='file:///c%3A/Users/gyova/Documents/Projetos/Model-dectation-fake-news/ven/lib/site-packages/sklearn/metrics/_classification.py?line=153'>154</a>\u001b[0m \u001b[39m\u001b[39m\u001b[39m\"\"\"Accuracy classification score.\u001b[39;00m\n\u001b[0;32m    <a href='file:///c%3A/Users/gyova/Documents/Projetos/Model-dectation-fake-news/ven/lib/site-packages/sklearn/metrics/_classification.py?line=154'>155</a>\u001b[0m \n\u001b[0;32m    <a href='file:///c%3A/Users/gyova/Documents/Projetos/Model-dectation-fake-news/ven/lib/site-packages/sklearn/metrics/_classification.py?line=155'>156</a>\u001b[0m \u001b[39mIn multilabel classification, this function computes subset accuracy:\u001b[39;00m\n\u001b[1;32m   (...)\u001b[0m\n\u001b[0;32m    <a href='file:///c%3A/Users/gyova/Documents/Projetos/Model-dectation-fake-news/ven/lib/site-packages/sklearn/metrics/_classification.py?line=215'>216</a>\u001b[0m \u001b[39m0.5\u001b[39;00m\n\u001b[0;32m    <a href='file:///c%3A/Users/gyova/Documents/Projetos/Model-dectation-fake-news/ven/lib/site-packages/sklearn/metrics/_classification.py?line=216'>217</a>\u001b[0m \u001b[39m\"\"\"\u001b[39;00m\n\u001b[0;32m    <a href='file:///c%3A/Users/gyova/Documents/Projetos/Model-dectation-fake-news/ven/lib/site-packages/sklearn/metrics/_classification.py?line=218'>219</a>\u001b[0m \u001b[39m# Compute accuracy for each possible representation\u001b[39;00m\n\u001b[1;32m--> <a href='file:///c%3A/Users/gyova/Documents/Projetos/Model-dectation-fake-news/ven/lib/site-packages/sklearn/metrics/_classification.py?line=219'>220</a>\u001b[0m y_type, y_true, y_pred \u001b[39m=\u001b[39m _check_targets(y_true, y_pred)\n\u001b[0;32m    <a href='file:///c%3A/Users/gyova/Documents/Projetos/Model-dectation-fake-news/ven/lib/site-packages/sklearn/metrics/_classification.py?line=220'>221</a>\u001b[0m check_consistent_length(y_true, y_pred, sample_weight)\n\u001b[0;32m    <a href='file:///c%3A/Users/gyova/Documents/Projetos/Model-dectation-fake-news/ven/lib/site-packages/sklearn/metrics/_classification.py?line=221'>222</a>\u001b[0m \u001b[39mif\u001b[39;00m y_type\u001b[39m.\u001b[39mstartswith(\u001b[39m\"\u001b[39m\u001b[39mmultilabel\u001b[39m\u001b[39m\"\u001b[39m):\n",
      "File \u001b[1;32mc:\\Users\\gyova\\Documents\\Projetos\\Model-dectation-fake-news\\ven\\lib\\site-packages\\sklearn\\metrics\\_classification.py:84\u001b[0m, in \u001b[0;36m_check_targets\u001b[1;34m(y_true, y_pred)\u001b[0m\n\u001b[0;32m     <a href='file:///c%3A/Users/gyova/Documents/Projetos/Model-dectation-fake-news/ven/lib/site-packages/sklearn/metrics/_classification.py?line=56'>57</a>\u001b[0m \u001b[39mdef\u001b[39;00m \u001b[39m_check_targets\u001b[39m(y_true, y_pred):\n\u001b[0;32m     <a href='file:///c%3A/Users/gyova/Documents/Projetos/Model-dectation-fake-news/ven/lib/site-packages/sklearn/metrics/_classification.py?line=57'>58</a>\u001b[0m \u001b[39m    \u001b[39m\u001b[39m\"\"\"Check that y_true and y_pred belong to the same classification task.\u001b[39;00m\n\u001b[0;32m     <a href='file:///c%3A/Users/gyova/Documents/Projetos/Model-dectation-fake-news/ven/lib/site-packages/sklearn/metrics/_classification.py?line=58'>59</a>\u001b[0m \n\u001b[0;32m     <a href='file:///c%3A/Users/gyova/Documents/Projetos/Model-dectation-fake-news/ven/lib/site-packages/sklearn/metrics/_classification.py?line=59'>60</a>\u001b[0m \u001b[39m    This converts multiclass or binary types to a common shape, and raises a\u001b[39;00m\n\u001b[1;32m   (...)\u001b[0m\n\u001b[0;32m     <a href='file:///c%3A/Users/gyova/Documents/Projetos/Model-dectation-fake-news/ven/lib/site-packages/sklearn/metrics/_classification.py?line=81'>82</a>\u001b[0m \u001b[39m    y_pred : array or indicator matrix\u001b[39;00m\n\u001b[0;32m     <a href='file:///c%3A/Users/gyova/Documents/Projetos/Model-dectation-fake-news/ven/lib/site-packages/sklearn/metrics/_classification.py?line=82'>83</a>\u001b[0m \u001b[39m    \"\"\"\u001b[39;00m\n\u001b[1;32m---> <a href='file:///c%3A/Users/gyova/Documents/Projetos/Model-dectation-fake-news/ven/lib/site-packages/sklearn/metrics/_classification.py?line=83'>84</a>\u001b[0m     check_consistent_length(y_true, y_pred)\n\u001b[0;32m     <a href='file:///c%3A/Users/gyova/Documents/Projetos/Model-dectation-fake-news/ven/lib/site-packages/sklearn/metrics/_classification.py?line=84'>85</a>\u001b[0m     type_true \u001b[39m=\u001b[39m type_of_target(y_true, input_name\u001b[39m=\u001b[39m\u001b[39m\"\u001b[39m\u001b[39my_true\u001b[39m\u001b[39m\"\u001b[39m)\n\u001b[0;32m     <a href='file:///c%3A/Users/gyova/Documents/Projetos/Model-dectation-fake-news/ven/lib/site-packages/sklearn/metrics/_classification.py?line=85'>86</a>\u001b[0m     type_pred \u001b[39m=\u001b[39m type_of_target(y_pred, input_name\u001b[39m=\u001b[39m\u001b[39m\"\u001b[39m\u001b[39my_pred\u001b[39m\u001b[39m\"\u001b[39m)\n",
      "File \u001b[1;32mc:\\Users\\gyova\\Documents\\Projetos\\Model-dectation-fake-news\\ven\\lib\\site-packages\\sklearn\\utils\\validation.py:409\u001b[0m, in \u001b[0;36mcheck_consistent_length\u001b[1;34m(*arrays)\u001b[0m\n\u001b[0;32m    <a href='file:///c%3A/Users/gyova/Documents/Projetos/Model-dectation-fake-news/ven/lib/site-packages/sklearn/utils/validation.py?line=406'>407</a>\u001b[0m uniques \u001b[39m=\u001b[39m np\u001b[39m.\u001b[39munique(lengths)\n\u001b[0;32m    <a href='file:///c%3A/Users/gyova/Documents/Projetos/Model-dectation-fake-news/ven/lib/site-packages/sklearn/utils/validation.py?line=407'>408</a>\u001b[0m \u001b[39mif\u001b[39;00m \u001b[39mlen\u001b[39m(uniques) \u001b[39m>\u001b[39m \u001b[39m1\u001b[39m:\n\u001b[1;32m--> <a href='file:///c%3A/Users/gyova/Documents/Projetos/Model-dectation-fake-news/ven/lib/site-packages/sklearn/utils/validation.py?line=408'>409</a>\u001b[0m     \u001b[39mraise\u001b[39;00m \u001b[39mValueError\u001b[39;00m(\n\u001b[0;32m    <a href='file:///c%3A/Users/gyova/Documents/Projetos/Model-dectation-fake-news/ven/lib/site-packages/sklearn/utils/validation.py?line=409'>410</a>\u001b[0m         \u001b[39m\"\u001b[39m\u001b[39mFound input variables with inconsistent numbers of samples: \u001b[39m\u001b[39m%r\u001b[39;00m\u001b[39m\"\u001b[39m\n\u001b[0;32m    <a href='file:///c%3A/Users/gyova/Documents/Projetos/Model-dectation-fake-news/ven/lib/site-packages/sklearn/utils/validation.py?line=410'>411</a>\u001b[0m         \u001b[39m%\u001b[39m [\u001b[39mint\u001b[39m(l) \u001b[39mfor\u001b[39;00m l \u001b[39min\u001b[39;00m lengths]\n\u001b[0;32m    <a href='file:///c%3A/Users/gyova/Documents/Projetos/Model-dectation-fake-news/ven/lib/site-packages/sklearn/utils/validation.py?line=411'>412</a>\u001b[0m     )\n",
      "\u001b[1;31mValueError\u001b[0m: Found input variables with inconsistent numbers of samples: [1, 3]"
     ]
    }
   ],
   "source": [
    "news = 'plebiscito criar novo pais estados sul sim votacao sim alcancou aprovacao consulta defende separacao rio grande sul santa catarina parana formacao novo pais processo ocorreu ultimo sabado cerca duas mil urnas coordenacao movimento alega mil pessoas participaram votacao novas consultas deverao realizadas ate movimento pretende levar proposta onu organizacao nacoes unidas leia tambem'\n",
    "news2 = 'alvos operacao lava jato rio sao suspeitos receber cerca r milhoes propina mandado prisao cumprido contra petrobras alvo mandado prisao temporaria vai entregar nesta tarde petrobras pedro augusto cortes xavier bastos preso manha desta agentes policia federal durante fase operacao agentes tambem tentaram cumprir mandado prisao temporaria contra jose augusto ferreira santos nao localizado segundo pf santos vai entregar tarde desta sexta prisao bastos aconteceu rio janeiro acao batizada poco seco tambem realizada distrito federal sao paulo correcao publicada reportagem errou informar jose augusto ferreira santos preso verdade deve apresentar nesta tarde segundo delegado igor romario paula coordenador lava jato erro corrigido rio agentes cumpriram mandados tres enderecos barra tijuca zona oeste sao conrado zona sul contra bastos demitido justa causa petrobras cumprido mandado prisao preventiva contra santos ha mandado prisao temporaria segundo investigacoes area internacional empresa sao suspeitos terem recebido us milhoes cerca r milhoes propinas empresa companie beninoise des hydrocarbures sarl cbh outras cinco pessoas relacionadas total cinco contas mantidas suica estados unidos sao suspeitos terem recebido pagamentos ilicitos totalizaram us milhoes cerca r milhoes fatos podem configurar crimes corrupcao lavagem dinheiro evasao divisas todo expedidos mandados judiciais sendo oito busca apreensao prisao preventiva prisao temporaria tres mandados conducao coercitiva pessoa levada prestar depoimento empresa cbh pertence empresario portugues idalecio oliveira responsavel venda campo seco petroleo benin africa petrobras nesta quinta idalecio absolvido outro processo juiz sergio moro suspeito crimes corrupcao ativa lavagem dinheiro acordo decisao sentenca baseada falta provas processo segundo denuncia ministerio publico desencadeou fase acao pagamentos propina feitos efetivar venda campo petroleo intermediados lobista joao augusto rezende henriques operador pmdb esquema petrobras joao augusto preso desde setembro operacao lava jato condenado sete anos prisao corrupcao lavagem dinheiro decorrencia mesmos fatos outro processo naquele processo condenados tambem camara deputados eduardo cunha petrobras jorge luiz zelada operacao tambem relacao lobistas ligados pmdb jorge luz bruno luz pai filho operavam partido dentro petrobras ja estao presos complexo regiao curitiba pr presos durante fase lava jato fernanda luz filha jorge luz empresario alvaro gualberto teixeira mello fabio casalicchio sao alvos conducao coercitiva fernanda nao encontrada casa alvaro levado agentes sede pf volta casa presos pedro augusto jose augusto tambem cumpridos mandados busca apreensao nome fase poco seco referencia resultados negativos investimento realizado petrobras aquisicao direitos exploracao pocos petroleo benin investigados devem responder pratica crimes corrupcao fraude licitacoes evasao divisas lavagem dinheiro dentre outros prisao conducao coercitiva buscas investigacao comecou agosto partir cooperacao internacional suica documentos comprovaram pagamento subornos total us milhoes cerca r milhoes concretizar aquisicao petrobras campo petroleo benin us milhoes entanto investigacoes demonstram quase terco valor negocio pago propinas maio valor transacao us milhoes transferido empresa cbh mesma data us milhoes seguiram cbh lusitania petroleum ltd holding propriedade idalecio oliveira controla outras empresas propria cbh dois dias lusitania depositou favor offshore acona propriedade joao augusto rezende henriques us milhoes dar aparencia legitima transferencia propina celebrado contrato comissionamento acona lusitania'\n",
    "news3 = 'plebiscito criar novo pais estados sul sim votacao sim alcancou aprovacao consulta defende separacao rio grande sul santa catarina parana formacao novo pais processo ocorreu ultimo sabado cerca duas mil urnas coordenacao movimento alega mil pessoas participaram votacao novas consultas deverao realizadas ate movimento pretende levar proposta onu organizacao nacoes unidas leia tambem'\n",
    "\n",
    "\n",
    "news = pd.Series(name='1',data=[news])\n",
    "news2 = pd.Series(name='1',data=[news2])\n",
    "news3 = pd.Series(name='1',data=[news3])\n",
    "\n",
    "\n",
    "df_news = pd.DataFrame(news)\n",
    "x = df_news.iloc[1]\n",
    "\n",
    "x_news = vectorizer.transform(df_news).toarray()\n",
    "y_news = pd.Series(data=[0,1,0], index=[ 0,1,2],name='label')\n",
    "y_train_pred = lr_classifier.predict(x_news)\n",
    "    \n",
    "\n",
    "test_data_acc = accuracy_score(y_train_pred,y_news)\n",
    "print(f\"Accuracy score: {test_data_acc}\")\n",
    "y_train_pred = (y_train_pred > 0.70)\n",
    "cm = confusion_matrix(y_news, y_train_pred)\n",
    "ConfusionMatrixDisplay(confusion_matrix=cm, display_labels=['Fake','True']).plot()"
   ]
  }
 ],
 "metadata": {
  "kernelspec": {
   "display_name": "Python 3",
   "language": "python",
   "name": "python3"
  },
  "language_info": {
   "codemirror_mode": {
    "name": "ipython",
    "version": 3
   },
   "file_extension": ".py",
   "mimetype": "text/x-python",
   "name": "python",
   "nbconvert_exporter": "python",
   "pygments_lexer": "ipython3",
   "version": "3.9.13"
  }
 },
 "nbformat": 4,
 "nbformat_minor": 0
}
