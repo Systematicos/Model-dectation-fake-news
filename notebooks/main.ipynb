{
 "cells": [
  {
   "cell_type": "code",
   "execution_count": 9,
   "metadata": {},
   "outputs": [
    {
     "name": "stderr",
     "output_type": "stream",
     "text": [
      "[nltk_data] Downloading package stopwords to\n",
      "[nltk_data]     C:\\Users\\gyova\\AppData\\Roaming\\nltk_data...\n",
      "[nltk_data]   Package stopwords is already up-to-date!\n"
     ]
    },
    {
     "data": {
      "text/plain": [
       "True"
      ]
     },
     "execution_count": 9,
     "metadata": {},
     "output_type": "execute_result"
    }
   ],
   "source": [
    "import pandas as pd\n",
    "import numpy as np\n",
    "import seaborn as sns\n",
    "import matplotlib.pyplot as plt\n",
    "from sklearn.feature_extraction.text import CountVectorizer\n",
    "from nltk.corpus import stopwords\n",
    "import re\n",
    "import string\n",
    "from sklearn.metrics import confusion_matrix,ConfusionMatrixDisplay, classification_report\n",
    "from sklearn.neural_network import MLPClassifier\n",
    "from sklearn.tree import DecisionTreeClassifier\n",
    "from sklearn.linear_model import LogisticRegression, PassiveAggressiveClassifier\n",
    "import nltk\n",
    "nltk.download('stopwords')"
   ]
  },
  {
   "cell_type": "code",
   "execution_count": 27,
   "metadata": {},
   "outputs": [
    {
     "data": {
      "text/plain": [
       "label                False\n",
       "preprocessed_news    False\n",
       "dtype: bool"
      ]
     },
     "execution_count": 27,
     "metadata": {},
     "output_type": "execute_result"
    }
   ],
   "source": [
    "df = pd.read_csv('../data/pre-processed.csv')\n",
    "df = df.drop(columns=['index'])\n",
    "df.isnull().any()"
   ]
  },
  {
   "cell_type": "code",
   "execution_count": 28,
   "metadata": {},
   "outputs": [],
   "source": [
    "\n",
    "stop_words = set(stopwords.words('portuguese'))\n",
    "\n",
    "def remover_stop_words(news):\n",
    "    palavras = news.split()\n",
    "    palavras_sem_stop = [palavra for palavra in palavras if palavra.lower() not in stop_words]\n",
    "    return ' '.join(palavras_sem_stop)\n",
    "\n",
    "def review_cleaning(text):\n",
    "    \n",
    "    text = str(text).lower()\n",
    "    text = re.sub('\\[.*?\\]', '', text)\n",
    "    text = re.sub('https?://\\S+|www\\.\\S+', '', text)\n",
    "    text = re.sub('<.*?>+', '', text)\n",
    "    text = re.sub('[%s]' % re.escape(string.punctuation), '', text)\n",
    "    text = re.sub('\\n', '', text)\n",
    "    text = re.sub('\\w*\\d\\w*', '', text)\n",
    "    return text\n",
    "\n",
    "df[\"preprocessed_news\"] = df[\"preprocessed_news\"].apply(remover_stop_words)\n",
    "df[\"preprocessed_news\"] = df[\"preprocessed_news\"].apply(review_cleaning)"
   ]
  },
  {
   "cell_type": "code",
   "execution_count": 29,
   "metadata": {},
   "outputs": [],
   "source": [
    "df['label'] = df.apply(lambda row: 0 if row.label == 'fake' else 1, axis=1)\n",
    "\n",
    "X = df.drop(['label'], axis = 1)\n",
    "Y = df['label']"
   ]
  },
  {
   "cell_type": "code",
   "execution_count": 6,
   "metadata": {},
   "outputs": [
    {
     "data": {
      "text/html": [
       "<div>\n",
       "<style scoped>\n",
       "    .dataframe tbody tr th:only-of-type {\n",
       "        vertical-align: middle;\n",
       "    }\n",
       "\n",
       "    .dataframe tbody tr th {\n",
       "        vertical-align: top;\n",
       "    }\n",
       "\n",
       "    .dataframe thead th {\n",
       "        text-align: right;\n",
       "    }\n",
       "</style>\n",
       "<table border=\"1\" class=\"dataframe\">\n",
       "  <thead>\n",
       "    <tr style=\"text-align: right;\">\n",
       "      <th></th>\n",
       "      <th>preprocessed_news</th>\n",
       "    </tr>\n",
       "  </thead>\n",
       "  <tbody>\n",
       "    <tr>\n",
       "      <th>0</th>\n",
       "      <td>katia abreu diz vai colocar expulsao moldura n...</td>\n",
       "    </tr>\n",
       "    <tr>\n",
       "      <th>1</th>\n",
       "      <td>ray peita bolsonaro conservador fake entrevist...</td>\n",
       "    </tr>\n",
       "    <tr>\n",
       "      <th>2</th>\n",
       "      <td>reinaldo azevedo desmascarado policia federal ...</td>\n",
       "    </tr>\n",
       "    <tr>\n",
       "      <th>3</th>\n",
       "      <td>relatorio assustador bndes mostra dinheiro pub...</td>\n",
       "    </tr>\n",
       "    <tr>\n",
       "      <th>4</th>\n",
       "      <td>radialista americano fala sobre pt vendem ilus...</td>\n",
       "    </tr>\n",
       "    <tr>\n",
       "      <th>...</th>\n",
       "      <td>...</td>\n",
       "    </tr>\n",
       "    <tr>\n",
       "      <th>7195</th>\n",
       "      <td>jornal britanico acao contra lula lava jato se...</td>\n",
       "    </tr>\n",
       "    <tr>\n",
       "      <th>7196</th>\n",
       "      <td>temer diz acionou pf cade investigar aumentos ...</td>\n",
       "    </tr>\n",
       "    <tr>\n",
       "      <th>7197</th>\n",
       "      <td>obstaculos politicos temer especialistas ouvid...</td>\n",
       "    </tr>\n",
       "    <tr>\n",
       "      <th>7198</th>\n",
       "      <td>setembro boa noite aqui estao principais notic...</td>\n",
       "    </tr>\n",
       "    <tr>\n",
       "      <th>7199</th>\n",
       "      <td>envolvo politica diz brasileiro preso venezuel...</td>\n",
       "    </tr>\n",
       "  </tbody>\n",
       "</table>\n",
       "<p>7200 rows × 1 columns</p>\n",
       "</div>"
      ],
      "text/plain": [
       "                                      preprocessed_news\n",
       "0     katia abreu diz vai colocar expulsao moldura n...\n",
       "1     ray peita bolsonaro conservador fake entrevist...\n",
       "2     reinaldo azevedo desmascarado policia federal ...\n",
       "3     relatorio assustador bndes mostra dinheiro pub...\n",
       "4     radialista americano fala sobre pt vendem ilus...\n",
       "...                                                 ...\n",
       "7195  jornal britanico acao contra lula lava jato se...\n",
       "7196  temer diz acionou pf cade investigar aumentos ...\n",
       "7197  obstaculos politicos temer especialistas ouvid...\n",
       "7198  setembro boa noite aqui estao principais notic...\n",
       "7199  envolvo politica diz brasileiro preso venezuel...\n",
       "\n",
       "[7200 rows x 1 columns]"
      ]
     },
     "execution_count": 6,
     "metadata": {},
     "output_type": "execute_result"
    }
   ],
   "source": [
    "X"
   ]
  },
  {
   "cell_type": "code",
   "execution_count": 30,
   "metadata": {},
   "outputs": [
    {
     "name": "stdout",
     "output_type": "stream",
     "text": [
      " vez pais precursor pratica esporte viria tornar febre mundial dominava modalidade fundamental sucesso nessa atividade pioneirismo expertise nao salvam porem brasil enfrentar decadencia notoria cenario atual mma ma fase reflete lista campeoes ufc registra apenas brasileira amanda nunes neste sabado leoa vai colocar titulo jogo contra valentina shevchenko ufc defendo mma esporte individual nao disputa nacoes portanto sujeito pais nao obriga torcer claro facil sentir empatia atleta brasileiro outra nacionalidade questoes culturais aproximacao realidade embora nao regra razoes declinio resultados representantes pais esporte sao sistemicas listei cinco seguem abaixo exportacao lutar chao maior diferencial brasileiros sobre estrangeiros origem judo modalidade japonesa conhecida impor quedas adversarios versao tradicional dava prosseguimento luta solo nao faz sentido nenhum voce declarado vencedor combate porque colocou rival costas chao eis faixa preta conde koma mudou brasil ensinou tecnicas irmaos helio carlos gracie adaptaram tal forma der origem brazilian gracie queiram aconteceu comeco seculo portanto brasil quase anos frente concorrencia inicio levavam caratecas pugilistas kickboxers afins chao finalizavam problemas representantes wrestling nao melhor sorte porque derrubavam brasileiros acabavam presos estrangulamentos chaves articulacoes corpo havia raros especimes fedor emelianenko kazushi sakuraba treinamento alto nivel solo defender ate atacar brasileiros minoria aconteceu entao ofertas vantajosas especialistas irem principalmente estados unidos ensinar modalidade movimento inicio ha decada nao surpresa existam estrangeiros hoje capazes menos evitar tentativas finalizacao ganhar real posso ganhar dolar matematica simples defasagem wrestling momento nao havia certeza conseguiria finalizar rival passou essencial poder controlar onde luta iria acontecer so ponto forte nao quedar adversario embora alguns praticantes boa base judo alcancar objetivo modalidade pouca enfase nessa area porque grosso modo existem dois tipos lutadores joga baixo guardeiro fica cima passador guardeiro quer derrubado enquanto passador nunca encontrou muita resistencia levar oponentes baixo assim dinamica luta mma passou favoravel wrestlers agora bem preparados defender finalizacoes convenhamos tambem faixa preta vira faixa branca enquanto tomando soco cara alem brasil representantes estilo peculiar muay thai oriundos especial curitiba wanderlei silva mauricio shogun maiores expoentes academia chute boxe pride evento japones regras dificultavam vida especialistas quedas porque la permitido chutar pisar cabeca adversario deitado alem joelhadas rivais tres quatro apoios adeptos estilo sprawl and brawl faziam pagar cometiam minimo erro tentar chao pride porem nao existe ufc regras sao civilizadas nao so normal wrestling valorizado organizacao estados unidos potencia mundial nessa modalidade cenario nacional viciado nesse topico nao preciso alongar organizacoes mma brasil servem proposito revelar lutadores promocoes projecao internacional nenhuma critica ate ai problema revelacoes acabam enfrentando adversarios qualidade questionavel inflar cartel ai vai empresario x oferecer cliente ufc mostra ganhou lutas primeiro contrato ate assinado fato lutador nao testado verdade observa atencao bolha prospectos brasileiros ja estourou faz tempo nao ha renovacao topico anterior exemplo nao ha dominio wrestling brasil geral nao atestar qualidade ninguem ainda caminho pavimentado desafios fracos envelhecimento estrelas existe adversario implacavel invicto todos esportes tempo passa anderson silva ja nao rodrigo minotauro aposentou vitor belfort shogun wand nao errariam seguissem caminho lyoto machida ja anos inativo ha dois anos junior cigano enfrenta clara decadencia embora cedo dizer renan barao jose aldo dupla nova uniao rende menos passado ate proximo rafael anjos respeitou limites corpo migrou categoria leves onde vai encontrar clara desvantagem fisica dificuldade campeao novo demian maia finalmente vai disputar titulo vai completar anos ainda dificil esperar carreira ainda longo prosseguimento tecnologia nao misterio ninguem brasil pais desenvolvimento atravessa grave crise economia logico maioria brasileiros vai ter menos recursos tecnicos fazer preparacao adequada ate acho pais ha bons treinadores falta investimento estrutura nitido lutadores vantagem preparacao fisica exemplo brasileiro respirando boca ultimo round luta ufc rotina faz tempo enquanto atletas eua inclusive sabem dosar gas vez dar tudo si primeiro assalto curiosidade desde dezembro anderson silva conquistou titulo peso medio brasil so dormiu duas noites ter nenhum cinturao ufc rafael anjos derrotado julho amanda nunes jose aldo sagraram campeoes dois dias leoa nao companhia compatriota perdeu havaiano max holloway ha mes - 1\n"
     ]
    }
   ],
   "source": [
    "from sklearn.model_selection import train_test_split\n",
    "X_train, X_test, y_train, y_test = train_test_split(X, Y, test_size = 0.25, random_state = 42, stratify=Y)\n",
    "print(f' { X_test.iloc[220].preprocessed_news    } - {y_test.iloc[220]}')\n",
    "X_train = X_train['preprocessed_news'].apply(lambda x: x.lower())\n",
    "X_test = X_test['preprocessed_news'].apply(lambda x: x.lower())\n",
    "\n",
    "\n",
    "vectorizer = CountVectorizer()\n",
    "vectorizer.fit(X_train)\n",
    "X_train = vectorizer.transform(X_train).toarray()\n",
    "X_test = vectorizer.transform(X_test).toarray()\n"
   ]
  },
  {
   "cell_type": "markdown",
   "metadata": {},
   "source": [
    "##### Logistic Regression\n"
   ]
  },
  {
   "cell_type": "code",
   "execution_count": 17,
   "metadata": {},
   "outputs": [
    {
     "name": "stdout",
     "output_type": "stream",
     "text": [
      "              precision    recall  f1-score   support\n",
      "\n",
      "           0       0.98      0.96      0.97       916\n",
      "           1       0.96      0.98      0.97       884\n",
      "\n",
      "    accuracy                           0.97      1800\n",
      "   macro avg       0.97      0.97      0.97      1800\n",
      "weighted avg       0.97      0.97      0.97      1800\n",
      "\n"
     ]
    },
    {
     "data": {
      "text/plain": [
       "<sklearn.metrics._plot.confusion_matrix.ConfusionMatrixDisplay at 0x1d3806d1af0>"
      ]
     },
     "execution_count": 17,
     "metadata": {},
     "output_type": "execute_result"
    },
    {
     "data": {
      "image/png": "[encoded data removed]",
      "text/plain": [
       "<Figure size 640x480 with 2 Axes>"
      ]
     },
     "metadata": {},
     "output_type": "display_data"
    }
   ],
   "source": [
    "lr_classifier = LogisticRegression()\n",
    "lr_classifier.fit(X_train,y_train)\n",
    "\n",
    "y_test_pred = lr_classifier.predict(X_test)\n",
    "lr_classifier_train = round(lr_classifier.score(X_train, y_train) * 100, 2)\n",
    "lr_classifier_acc = round(accuracy_score(y_test_pred, y_test) * 100, 2)\n",
    "print(classification_report(y_test_pred,y_test))\n",
    "\n",
    "y_test_pred = (y_test_pred > 0.75)\n",
    "cm = confusion_matrix(y_test, y_test_pred)\n",
    "ConfusionMatrixDisplay(confusion_matrix=cm, display_labels=['Fake','True']).plot()\n",
    "\n"
   ]
  },
  {
   "cell_type": "markdown",
   "metadata": {},
   "source": [
    "##### Multilayer perceptron (MLP)"
   ]
  },
  {
   "cell_type": "code",
   "execution_count": 18,
   "metadata": {},
   "outputs": [
    {
     "name": "stdout",
     "output_type": "stream",
     "text": [
      "              precision    recall  f1-score   support\n",
      "\n",
      "           0       0.97      0.90      0.93       976\n",
      "           1       0.89      0.97      0.93       824\n",
      "\n",
      "    accuracy                           0.93      1800\n",
      "   macro avg       0.93      0.93      0.93      1800\n",
      "weighted avg       0.93      0.93      0.93      1800\n",
      "\n"
     ]
    },
    {
     "data": {
      "text/plain": [
       "<sklearn.metrics._plot.confusion_matrix.ConfusionMatrixDisplay at 0x1d3c5846c40>"
      ]
     },
     "execution_count": 18,
     "metadata": {},
     "output_type": "execute_result"
    },
    {
     "data": {
      "image/png": "[encoded data removed]",
      "text/plain": [
       "<Figure size 640x480 with 2 Axes>"
      ]
     },
     "metadata": {},
     "output_type": "display_data"
    }
   ],
   "source": [
    "mlp = MLPClassifier(random_state=1)\n",
    "mlp.fit(X_train,y_train)\n",
    "y_test_pred = mlp.predict(X_test)\n",
    "mlp_train = round(mlp.score(X_train, y_train) * 100, 2)\n",
    "mlp_acc = round(accuracy_score(y_test_pred, y_test) * 100, 2)\n",
    "print(classification_report(y_test_pred,y_test))\n",
    "\n",
    "\n",
    "y_test_pred = (y_test_pred > 0.75)\n",
    "cm = confusion_matrix(y_test, y_test_pred)\n",
    "ConfusionMatrixDisplay(confusion_matrix=cm, display_labels=['Fake','True']).plot()"
   ]
  },
  {
   "cell_type": "markdown",
   "metadata": {},
   "source": [
    "#### Decision Tree"
   ]
  },
  {
   "cell_type": "code",
   "execution_count": 20,
   "metadata": {},
   "outputs": [
    {
     "name": "stdout",
     "output_type": "stream",
     "text": [
      "X_test\n",
      "              precision    recall  f1-score   support\n",
      "\n",
      "           0       0.90      0.92      0.91       875\n",
      "           1       0.92      0.90      0.91       925\n",
      "\n",
      "    accuracy                           0.91      1800\n",
      "   macro avg       0.91      0.91      0.91      1800\n",
      "weighted avg       0.91      0.91      0.91      1800\n",
      "\n"
     ]
    },
    {
     "data": {
      "text/plain": [
       "<sklearn.metrics._plot.confusion_matrix.ConfusionMatrixDisplay at 0x1d3802615e0>"
      ]
     },
     "execution_count": 20,
     "metadata": {},
     "output_type": "execute_result"
    },
    {
     "data": {
      "image/png": "[encoded data removed]",
      "text/plain": [
       "<Figure size 640x480 with 2 Axes>"
      ]
     },
     "metadata": {},
     "output_type": "display_data"
    }
   ],
   "source": [
    "decisionTree = DecisionTreeClassifier()\n",
    "decisionTree.fit(X_train,y_train)\n",
    "y_test_pred = decisionTree.predict(X_test)\n",
    "\n",
    "decisionTree_train = round(decisionTree.score(X_train, y_train) * 100, 2)\n",
    "decisionTree_acc = round(accuracy_score(y_test_pred, y_test) * 100, 2)\n",
    "print(classification_report(y_test_pred,y_test))\n",
    "\n",
    "\n",
    "y_test_pred = (y_test_pred > 0.75)\n",
    "cm = confusion_matrix(y_test, y_test_pred)\n",
    "ConfusionMatrixDisplay(confusion_matrix=cm, display_labels=['Fake','True']).plot()\n",
    "\n"
   ]
  },
  {
   "cell_type": "markdown",
   "metadata": {},
   "source": [
    "#### Passive Aggressive"
   ]
  },
  {
   "cell_type": "code",
   "execution_count": 22,
   "metadata": {},
   "outputs": [
    {
     "name": "stdout",
     "output_type": "stream",
     "text": [
      "              precision    recall  f1-score   support\n",
      "\n",
      "           0       0.98      0.96      0.97       919\n",
      "           1       0.96      0.98      0.97       881\n",
      "\n",
      "    accuracy                           0.97      1800\n",
      "   macro avg       0.97      0.97      0.97      1800\n",
      "weighted avg       0.97      0.97      0.97      1800\n",
      "\n"
     ]
    },
    {
     "data": {
      "text/plain": [
       "<sklearn.metrics._plot.confusion_matrix.ConfusionMatrixDisplay at 0x1d3f9c38130>"
      ]
     },
     "execution_count": 22,
     "metadata": {},
     "output_type": "execute_result"
    },
    {
     "data": {
      "image/png": "[encoded data removed]",
      "text/plain": [
       "<Figure size 640x480 with 2 Axes>"
      ]
     },
     "metadata": {},
     "output_type": "display_data"
    }
   ],
   "source": [
    "passive = PassiveAggressiveClassifier(C = 0.5, random_state = 5)\n",
    "passive.fit(X_train,y_train)\n",
    "\n",
    "x_test_pred = passive.predict(X_test)\n",
    "passive_train = round(passive.score(X_train, y_train) * 100, 2)\n",
    "passive_acc = round(accuracy_score(y_test_pred, y_test) * 100, 2)\n",
    "\n",
    "print(classification_report(y_test_pred,y_test))\n",
    "\n",
    "\n",
    "y_test_pred = (y_test_pred > 0.75)\n",
    "cm = confusion_matrix(y_test, y_test_pred)\n",
    "ConfusionMatrixDisplay(confusion_matrix=cm, display_labels=['Fake','True']).plot()"
   ]
  },
  {
   "cell_type": "markdown",
   "metadata": {},
   "source": [
    "### Comparando Modelos Diferentes"
   ]
  },
  {
   "cell_type": "code",
   "execution_count": null,
   "metadata": {},
   "outputs": [],
   "source": [
    "models = pd.DataFrame({\n",
    "    'Model': [\n",
    "        'Logistic Regression',\n",
    "        'Decision Tree',\n",
    "        'MLPClassifier',\n",
    "        'PassiveAggressiveClassifier'\n",
    "    ],\n",
    "    'Training Accuracy': [\n",
    "        lr_classifier_train, decisionTree_trai,\n",
    "        mlp_train, passive_train\n",
    "    ],\n",
    "    'Model Accuracy Score': [\n",
    "        lr_classifier_acc, decisionTree_acc,\n",
    "        mlp_acc, passive_acc\n",
    "    ]\n",
    "})"
   ]
  },
  {
   "cell_type": "code",
   "execution_count": null,
   "metadata": {},
   "outputs": [],
   "source": [
    "pd.set_option('precision',2)\n",
    "\n",
    "models.sort_values(by='Model Accuracy Score', ascending=False).style.background_gradient(\n",
    "        cmap='coolwarm').hide_index().set_properties(**{\n",
    "            'font-family': 'Lucida Calligraphy',\n",
    "            'color': 'LigntGreen',\n",
    "            'font-size': '15px'\n",
    "        })"
   ]
  },
  {
   "cell_type": "code",
   "execution_count": 22,
   "metadata": {},
   "outputs": [
    {
     "data": {
      "text/html": [
       "<style>#sk-container-id-2 {color: black;}#sk-container-id-2 pre{padding: 0;}#sk-container-id-2 div.sk-toggleable {background-color: white;}#sk-container-id-2 label.sk-toggleable__label {cursor: pointer;display: block;width: 100%;margin-bottom: 0;padding: 0.3em;box-sizing: border-box;text-align: center;}#sk-container-id-2 label.sk-toggleable__label-arrow:before {content: \"▸\";float: left;margin-right: 0.25em;color: #696969;}#sk-container-id-2 label.sk-toggleable__label-arrow:hover:before {color: black;}#sk-container-id-2 div.sk-estimator:hover label.sk-toggleable__label-arrow:before {color: black;}#sk-container-id-2 div.sk-toggleable__content {max-height: 0;max-width: 0;overflow: hidden;text-align: left;background-color: #f0f8ff;}#sk-container-id-2 div.sk-toggleable__content pre {margin: 0.2em;color: black;border-radius: 0.25em;background-color: #f0f8ff;}#sk-container-id-2 input.sk-toggleable__control:checked~div.sk-toggleable__content {max-height: 200px;max-width: 100%;overflow: auto;}#sk-container-id-2 input.sk-toggleable__control:checked~label.sk-toggleable__label-arrow:before {content: \"▾\";}#sk-container-id-2 div.sk-estimator input.sk-toggleable__control:checked~label.sk-toggleable__label {background-color: #d4ebff;}#sk-container-id-2 div.sk-label input.sk-toggleable__control:checked~label.sk-toggleable__label {background-color: #d4ebff;}#sk-container-id-2 input.sk-hidden--visually {border: 0;clip: rect(1px 1px 1px 1px);clip: rect(1px, 1px, 1px, 1px);height: 1px;margin: -1px;overflow: hidden;padding: 0;position: absolute;width: 1px;}#sk-container-id-2 div.sk-estimator {font-family: monospace;background-color: #f0f8ff;border: 1px dotted black;border-radius: 0.25em;box-sizing: border-box;margin-bottom: 0.5em;}#sk-container-id-2 div.sk-estimator:hover {background-color: #d4ebff;}#sk-container-id-2 div.sk-parallel-item::after {content: \"\";width: 100%;border-bottom: 1px solid gray;flex-grow: 1;}#sk-container-id-2 div.sk-label:hover label.sk-toggleable__label {background-color: #d4ebff;}#sk-container-id-2 div.sk-serial::before {content: \"\";position: absolute;border-left: 1px solid gray;box-sizing: border-box;top: 0;bottom: 0;left: 50%;z-index: 0;}#sk-container-id-2 div.sk-serial {display: flex;flex-direction: column;align-items: center;background-color: white;padding-right: 0.2em;padding-left: 0.2em;position: relative;}#sk-container-id-2 div.sk-item {position: relative;z-index: 1;}#sk-container-id-2 div.sk-parallel {display: flex;align-items: stretch;justify-content: center;background-color: white;position: relative;}#sk-container-id-2 div.sk-item::before, #sk-container-id-2 div.sk-parallel-item::before {content: \"\";position: absolute;border-left: 1px solid gray;box-sizing: border-box;top: 0;bottom: 0;left: 50%;z-index: -1;}#sk-container-id-2 div.sk-parallel-item {display: flex;flex-direction: column;z-index: 1;position: relative;background-color: white;}#sk-container-id-2 div.sk-parallel-item:first-child::after {align-self: flex-end;width: 50%;}#sk-container-id-2 div.sk-parallel-item:last-child::after {align-self: flex-start;width: 50%;}#sk-container-id-2 div.sk-parallel-item:only-child::after {width: 0;}#sk-container-id-2 div.sk-dashed-wrapped {border: 1px dashed gray;margin: 0 0.4em 0.5em 0.4em;box-sizing: border-box;padding-bottom: 0.4em;background-color: white;}#sk-container-id-2 div.sk-label label {font-family: monospace;font-weight: bold;display: inline-block;line-height: 1.2em;}#sk-container-id-2 div.sk-label-container {text-align: center;}#sk-container-id-2 div.sk-container {/* jupyter's `normalize.less` sets `[hidden] { display: none; }` but bootstrap.min.css set `[hidden] { display: none !important; }` so we also need the `!important` here to be able to override the default hidden behavior on the sphinx rendered scikit-learn.org. See: https://github.com/scikit-learn/scikit-learn/issues/21755 */display: inline-block !important;position: relative;}#sk-container-id-2 div.sk-text-repr-fallback {display: none;}</style><div id=\"sk-container-id-2\" class=\"sk-top-container\"><div class=\"sk-text-repr-fallback\"><pre>MLPClassifier(random_state=1)</pre><b>In a Jupyter environment, please rerun this cell to show the HTML representation or trust the notebook. <br />On GitHub, the HTML representation is unable to render, please try loading this page with nbviewer.org.</b></div><div class=\"sk-container\" hidden><div class=\"sk-item\"><div class=\"sk-estimator sk-toggleable\"><input class=\"sk-toggleable__control sk-hidden--visually\" id=\"sk-estimator-id-2\" type=\"checkbox\" checked><label for=\"sk-estimator-id-2\" class=\"sk-toggleable__label sk-toggleable__label-arrow\">MLPClassifier</label><div class=\"sk-toggleable__content\"><pre>MLPClassifier(random_state=1)</pre></div></div></div></div></div>"
      ],
      "text/plain": [
       "MLPClassifier(random_state=1)"
      ]
     },
     "execution_count": 22,
     "metadata": {},
     "output_type": "execute_result"
    }
   ],
   "source": [
    "news1 = 'vez pais precursor pratica esporte viria tornar febre mundial dominava modalidade fundamental sucesso nessa atividade pioneirismo expertise nao salvam porem brasil enfrentar decadencia notoria cenario atual mma ma fase reflete lista campeoes ufc registra apenas brasileira amanda nunes neste sabado leoa vai colocar titulo jogo contra valentina shevchenko ufc defendo mma esporte individual nao disputa nacoes portanto sujeito pais nao obriga torcer claro facil sentir empatia atleta brasileiro outra nacionalidade questoes culturais aproximacao realidade embora nao regra razoes declinio resultados representantes pais esporte sao sistemicas listei cinco seguem abaixo exportacao lutar chao maior diferencial brasileiros sobre estrangeiros origem judo modalidade japonesa conhecida impor quedas adversarios versao tradicional dava prosseguimento luta solo nao faz sentido nenhum voce declarado vencedor combate porque colocou rival costas chao eis faixa preta conde koma mudou brasil ensinou tecnicas irmaos helio carlos gracie adaptaram tal forma der origem brazilian gracie queiram aconteceu comeco seculo portanto brasil quase anos frente concorrencia inicio levavam caratecas pugilistas kickboxers afins chao finalizavam problemas representantes wrestling nao melhor sorte porque derrubavam brasileiros acabavam presos estrangulamentos chaves articulacoes corpo havia raros especimes fedor emelianenko kazushi sakuraba treinamento alto nivel solo defender ate atacar brasileiros minoria aconteceu entao ofertas vantajosas especialistas irem principalmente estados unidos ensinar modalidade movimento inicio ha decada nao surpresa existam estrangeiros hoje capazes menos evitar tentativas finalizacao ganhar real posso ganhar dolar matematica simples defasagem wrestling momento nao havia certeza conseguiria finalizar rival passou essencial poder controlar onde luta iria acontecer so ponto forte nao quedar adversario embora alguns praticantes boa base judo alcancar objetivo modalidade pouca enfase nessa area porque grosso modo existem dois tipos lutadores joga baixo guardeiro fica cima passador guardeiro quer derrubado enquanto passador nunca encontrou muita resistencia levar oponentes baixo assim dinamica luta mma passou favoravel wrestlers agora bem preparados defender finalizacoes convenhamos tambem faixa preta vira faixa branca enquanto tomando soco cara alem brasil representantes estilo peculiar muay thai oriundos especial curitiba wanderlei silva mauricio shogun maiores expoentes academia chute boxe pride evento japones regras dificultavam vida especialistas quedas porque la permitido chutar pisar cabeca adversario deitado alem joelhadas rivais tres quatro apoios adeptos estilo sprawl and brawl faziam pagar cometiam minimo erro tentar chao pride porem nao existe ufc regras sao civilizadas nao so normal wrestling valorizado organizacao estados unidos potencia mundial nessa modalidade cenario nacional viciado nesse topico nao preciso alongar organizacoes mma brasil servem proposito revelar lutadores promocoes projecao internacional nenhuma critica ate ai problema revelacoes acabam enfrentando adversarios qualidade questionavel inflar cartel ai vai empresario x oferecer cliente ufc mostra ganhou lutas primeiro contrato ate assinado fato lutador nao testado verdade observa atencao bolha prospectos brasileiros ja estourou faz tempo nao ha renovacao topico anterior exemplo nao ha dominio wrestling brasil geral nao atestar qualidade ninguem ainda caminho pavimentado desafios fracos envelhecimento estrelas existe adversario implacavel invicto todos esportes tempo passa anderson silva ja nao rodrigo minotauro aposentou vitor belfort shogun wand nao errariam seguissem caminho lyoto machida ja anos inativo ha dois anos junior cigano enfrenta clara decadencia embora cedo dizer renan barao jose aldo dupla nova uniao rende menos passado ate proximo rafael anjos respeitou limites corpo migrou categoria leves onde vai encontrar clara desvantagem fisica dificuldade campeao novo demian maia finalmente vai disputar titulo vai completar anos ainda dificil esperar carreira ainda longo prosseguimento tecnologia nao misterio ninguem brasil pais desenvolvimento atravessa grave crise economia logico maioria brasileiros vai ter menos recursos tecnicos fazer preparacao adequada ate acho pais ha bons treinadores falta investimento estrutura nitido lutadores vantagem preparacao fisica exemplo brasileiro respirando boca ultimo round luta ufc rotina faz tempo enquanto atletas eua inclusive sabem dosar gas vez dar tudo si primeiro assalto curiosidade desde dezembro anderson silva conquistou titulo peso medio brasil so dormiu duas noites ter nenhum cinturao ufc rafael anjos derrotado julho amanda nunes jose aldo sagraram campeoes dois dias leoa nao companhia compatriota perdeu havaiano max holloway ha mes'\n",
    "news2 = 'russia voltara usar abrigos nucleares sul crimeia ate recentemente abrigos misseis longo costa sul crimeia apenas destino turistas antigos bunkers sovieticos desintegrados abandonados serviram durante guerra fria estao voltando ativa placas colocadas torno local advertem visitantes estao prestes entrar zona proibida ministerio defesa russia morador vila proxima disse soldados russos reocuparam local bloquearam estradas acesso area base militar funcional sistema misseis afirmou crimeia fica extremo sul linha instalacoes militares russas estende norte arco atraves russia ocidental moscou ja reativou varias instalacoes construidas sovieticos regiao alem construir novas bases realocar soldados confira algumas fotos'\n",
    "\n",
    "\n",
    "news = pd.DataFrame({\n",
    "    'preprocessed_news': [\n",
    "        news1,\n",
    "        news2\n",
    "    ],\n",
    "    'label': [\n",
    "        1,\n",
    "        0\n",
    "    ]\n",
    "})\n",
    "\n",
    "X = news.drop(['label'], axis = 1)\n",
    "Y = news['label']\n",
    "\n",
    "vectorizer = CountVectorizer()\n",
    "vectorizer.fit(X)\n",
    "X = vectorizer.transform(X).toarray()\n",
    "\n",
    "\n",
    "\n",
    "lr_classifier = LogisticRegression()\n",
    "mlp = MLPClassifier(random_state=1)\n",
    "\n",
    "lr_classifier.fit(X_train,y_train)\n",
    "mlp.fit(X_train,y_train)"
   ]
  },
  {
   "cell_type": "code",
   "execution_count": 21,
   "metadata": {},
   "outputs": [
    {
     "ename": "ValueError",
     "evalue": "Found input variables with inconsistent numbers of samples: [2, 1]",
     "output_type": "error",
     "traceback": [
      "\u001b[1;31m---------------------------------------------------------------------------\u001b[0m",
      "\u001b[1;31mValueError\u001b[0m                                Traceback (most recent call last)",
      "Cell \u001b[1;32mIn[21], line 2\u001b[0m\n\u001b[0;32m      1\u001b[0m y_test_pred \u001b[38;5;241m=\u001b[39m lr_classifier\u001b[38;5;241m.\u001b[39mpredict(X)\n\u001b[1;32m----> 2\u001b[0m lr_classifier_train \u001b[38;5;241m=\u001b[39m \u001b[38;5;28mround\u001b[39m(\u001b[43mlr_classifier\u001b[49m\u001b[38;5;241;43m.\u001b[39;49m\u001b[43mscore\u001b[49m\u001b[43m(\u001b[49m\u001b[43mX\u001b[49m\u001b[43m,\u001b[49m\u001b[43m \u001b[49m\u001b[43mY\u001b[49m\u001b[43m)\u001b[49m \u001b[38;5;241m*\u001b[39m \u001b[38;5;241m100\u001b[39m, \u001b[38;5;241m2\u001b[39m)\n\u001b[0;32m      3\u001b[0m lr_classifier_acc \u001b[38;5;241m=\u001b[39m \u001b[38;5;28mround\u001b[39m(accuracy_score(y_test_pred, Y) \u001b[38;5;241m*\u001b[39m \u001b[38;5;241m100\u001b[39m, \u001b[38;5;241m2\u001b[39m)\n\u001b[0;32m      5\u001b[0m \u001b[38;5;28mprint\u001b[39m(classification_report(y_test_pred,Y))\n",
      "File \u001b[1;32mc:\\Users\\gyova\\Documents\\Projetos\\Model-dectation-fake-news\\ven\\lib\\site-packages\\sklearn\\base.py:705\u001b[0m, in \u001b[0;36mClassifierMixin.score\u001b[1;34m(self, X, y, sample_weight)\u001b[0m\n\u001b[0;32m    <a href='file:///c%3A/Users/gyova/Documents/Projetos/Model-dectation-fake-news/ven/lib/site-packages/sklearn/base.py?line=679'>680</a>\u001b[0m \u001b[39m\u001b[39m\u001b[39m\"\"\"\u001b[39;00m\n\u001b[0;32m    <a href='file:///c%3A/Users/gyova/Documents/Projetos/Model-dectation-fake-news/ven/lib/site-packages/sklearn/base.py?line=680'>681</a>\u001b[0m \u001b[39mReturn the mean accuracy on the given test data and labels.\u001b[39;00m\n\u001b[0;32m    <a href='file:///c%3A/Users/gyova/Documents/Projetos/Model-dectation-fake-news/ven/lib/site-packages/sklearn/base.py?line=681'>682</a>\u001b[0m \n\u001b[1;32m   (...)\u001b[0m\n\u001b[0;32m    <a href='file:///c%3A/Users/gyova/Documents/Projetos/Model-dectation-fake-news/ven/lib/site-packages/sklearn/base.py?line=700'>701</a>\u001b[0m \u001b[39m    Mean accuracy of ``self.predict(X)`` w.r.t. `y`.\u001b[39;00m\n\u001b[0;32m    <a href='file:///c%3A/Users/gyova/Documents/Projetos/Model-dectation-fake-news/ven/lib/site-packages/sklearn/base.py?line=701'>702</a>\u001b[0m \u001b[39m\"\"\"\u001b[39;00m\n\u001b[0;32m    <a href='file:///c%3A/Users/gyova/Documents/Projetos/Model-dectation-fake-news/ven/lib/site-packages/sklearn/base.py?line=702'>703</a>\u001b[0m \u001b[39mfrom\u001b[39;00m \u001b[39m.\u001b[39;00m\u001b[39mmetrics\u001b[39;00m \u001b[39mimport\u001b[39;00m accuracy_score\n\u001b[1;32m--> <a href='file:///c%3A/Users/gyova/Documents/Projetos/Model-dectation-fake-news/ven/lib/site-packages/sklearn/base.py?line=704'>705</a>\u001b[0m \u001b[39mreturn\u001b[39;00m accuracy_score(y, \u001b[39mself\u001b[39;49m\u001b[39m.\u001b[39;49mpredict(X), sample_weight\u001b[39m=\u001b[39;49msample_weight)\n",
      "File \u001b[1;32mc:\\Users\\gyova\\Documents\\Projetos\\Model-dectation-fake-news\\ven\\lib\\site-packages\\sklearn\\utils\\_param_validation.py:211\u001b[0m, in \u001b[0;36mvalidate_params.<locals>.decorator.<locals>.wrapper\u001b[1;34m(*args, **kwargs)\u001b[0m\n\u001b[0;32m    <a href='file:///c%3A/Users/gyova/Documents/Projetos/Model-dectation-fake-news/ven/lib/site-packages/sklearn/utils/_param_validation.py?line=204'>205</a>\u001b[0m \u001b[39mtry\u001b[39;00m:\n\u001b[0;32m    <a href='file:///c%3A/Users/gyova/Documents/Projetos/Model-dectation-fake-news/ven/lib/site-packages/sklearn/utils/_param_validation.py?line=205'>206</a>\u001b[0m     \u001b[39mwith\u001b[39;00m config_context(\n\u001b[0;32m    <a href='file:///c%3A/Users/gyova/Documents/Projetos/Model-dectation-fake-news/ven/lib/site-packages/sklearn/utils/_param_validation.py?line=206'>207</a>\u001b[0m         skip_parameter_validation\u001b[39m=\u001b[39m(\n\u001b[0;32m    <a href='file:///c%3A/Users/gyova/Documents/Projetos/Model-dectation-fake-news/ven/lib/site-packages/sklearn/utils/_param_validation.py?line=207'>208</a>\u001b[0m             prefer_skip_nested_validation \u001b[39mor\u001b[39;00m global_skip_validation\n\u001b[0;32m    <a href='file:///c%3A/Users/gyova/Documents/Projetos/Model-dectation-fake-news/ven/lib/site-packages/sklearn/utils/_param_validation.py?line=208'>209</a>\u001b[0m         )\n\u001b[0;32m    <a href='file:///c%3A/Users/gyova/Documents/Projetos/Model-dectation-fake-news/ven/lib/site-packages/sklearn/utils/_param_validation.py?line=209'>210</a>\u001b[0m     ):\n\u001b[1;32m--> <a href='file:///c%3A/Users/gyova/Documents/Projetos/Model-dectation-fake-news/ven/lib/site-packages/sklearn/utils/_param_validation.py?line=210'>211</a>\u001b[0m         \u001b[39mreturn\u001b[39;00m func(\u001b[39m*\u001b[39margs, \u001b[39m*\u001b[39m\u001b[39m*\u001b[39mkwargs)\n\u001b[0;32m    <a href='file:///c%3A/Users/gyova/Documents/Projetos/Model-dectation-fake-news/ven/lib/site-packages/sklearn/utils/_param_validation.py?line=211'>212</a>\u001b[0m \u001b[39mexcept\u001b[39;00m InvalidParameterError \u001b[39mas\u001b[39;00m e:\n\u001b[0;32m    <a href='file:///c%3A/Users/gyova/Documents/Projetos/Model-dectation-fake-news/ven/lib/site-packages/sklearn/utils/_param_validation.py?line=212'>213</a>\u001b[0m     \u001b[39m# When the function is just a wrapper around an estimator, we allow\u001b[39;00m\n\u001b[0;32m    <a href='file:///c%3A/Users/gyova/Documents/Projetos/Model-dectation-fake-news/ven/lib/site-packages/sklearn/utils/_param_validation.py?line=213'>214</a>\u001b[0m     \u001b[39m# the function to delegate validation to the estimator, but we replace\u001b[39;00m\n\u001b[0;32m    <a href='file:///c%3A/Users/gyova/Documents/Projetos/Model-dectation-fake-news/ven/lib/site-packages/sklearn/utils/_param_validation.py?line=214'>215</a>\u001b[0m     \u001b[39m# the name of the estimator by the name of the function in the error\u001b[39;00m\n\u001b[0;32m    <a href='file:///c%3A/Users/gyova/Documents/Projetos/Model-dectation-fake-news/ven/lib/site-packages/sklearn/utils/_param_validation.py?line=215'>216</a>\u001b[0m     \u001b[39m# message to avoid confusion.\u001b[39;00m\n\u001b[0;32m    <a href='file:///c%3A/Users/gyova/Documents/Projetos/Model-dectation-fake-news/ven/lib/site-packages/sklearn/utils/_param_validation.py?line=216'>217</a>\u001b[0m     msg \u001b[39m=\u001b[39m re\u001b[39m.\u001b[39msub(\n\u001b[0;32m    <a href='file:///c%3A/Users/gyova/Documents/Projetos/Model-dectation-fake-news/ven/lib/site-packages/sklearn/utils/_param_validation.py?line=217'>218</a>\u001b[0m         \u001b[39mr\u001b[39m\u001b[39m\"\u001b[39m\u001b[39mparameter of \u001b[39m\u001b[39m\\\u001b[39m\u001b[39mw+ must be\u001b[39m\u001b[39m\"\u001b[39m,\n\u001b[0;32m    <a href='file:///c%3A/Users/gyova/Documents/Projetos/Model-dectation-fake-news/ven/lib/site-packages/sklearn/utils/_param_validation.py?line=218'>219</a>\u001b[0m         \u001b[39mf\u001b[39m\u001b[39m\"\u001b[39m\u001b[39mparameter of \u001b[39m\u001b[39m{\u001b[39;00mfunc\u001b[39m.\u001b[39m\u001b[39m__qualname__\u001b[39m\u001b[39m}\u001b[39;00m\u001b[39m must be\u001b[39m\u001b[39m\"\u001b[39m,\n\u001b[0;32m    <a href='file:///c%3A/Users/gyova/Documents/Projetos/Model-dectation-fake-news/ven/lib/site-packages/sklearn/utils/_param_validation.py?line=219'>220</a>\u001b[0m         \u001b[39mstr\u001b[39m(e),\n\u001b[0;32m    <a href='file:///c%3A/Users/gyova/Documents/Projetos/Model-dectation-fake-news/ven/lib/site-packages/sklearn/utils/_param_validation.py?line=220'>221</a>\u001b[0m     )\n",
      "File \u001b[1;32mc:\\Users\\gyova\\Documents\\Projetos\\Model-dectation-fake-news\\ven\\lib\\site-packages\\sklearn\\metrics\\_classification.py:220\u001b[0m, in \u001b[0;36maccuracy_score\u001b[1;34m(y_true, y_pred, normalize, sample_weight)\u001b[0m\n\u001b[0;32m    <a href='file:///c%3A/Users/gyova/Documents/Projetos/Model-dectation-fake-news/ven/lib/site-packages/sklearn/metrics/_classification.py?line=153'>154</a>\u001b[0m \u001b[39m\u001b[39m\u001b[39m\"\"\"Accuracy classification score.\u001b[39;00m\n\u001b[0;32m    <a href='file:///c%3A/Users/gyova/Documents/Projetos/Model-dectation-fake-news/ven/lib/site-packages/sklearn/metrics/_classification.py?line=154'>155</a>\u001b[0m \n\u001b[0;32m    <a href='file:///c%3A/Users/gyova/Documents/Projetos/Model-dectation-fake-news/ven/lib/site-packages/sklearn/metrics/_classification.py?line=155'>156</a>\u001b[0m \u001b[39mIn multilabel classification, this function computes subset accuracy:\u001b[39;00m\n\u001b[1;32m   (...)\u001b[0m\n\u001b[0;32m    <a href='file:///c%3A/Users/gyova/Documents/Projetos/Model-dectation-fake-news/ven/lib/site-packages/sklearn/metrics/_classification.py?line=215'>216</a>\u001b[0m \u001b[39m0.5\u001b[39;00m\n\u001b[0;32m    <a href='file:///c%3A/Users/gyova/Documents/Projetos/Model-dectation-fake-news/ven/lib/site-packages/sklearn/metrics/_classification.py?line=216'>217</a>\u001b[0m \u001b[39m\"\"\"\u001b[39;00m\n\u001b[0;32m    <a href='file:///c%3A/Users/gyova/Documents/Projetos/Model-dectation-fake-news/ven/lib/site-packages/sklearn/metrics/_classification.py?line=218'>219</a>\u001b[0m \u001b[39m# Compute accuracy for each possible representation\u001b[39;00m\n\u001b[1;32m--> <a href='file:///c%3A/Users/gyova/Documents/Projetos/Model-dectation-fake-news/ven/lib/site-packages/sklearn/metrics/_classification.py?line=219'>220</a>\u001b[0m y_type, y_true, y_pred \u001b[39m=\u001b[39m _check_targets(y_true, y_pred)\n\u001b[0;32m    <a href='file:///c%3A/Users/gyova/Documents/Projetos/Model-dectation-fake-news/ven/lib/site-packages/sklearn/metrics/_classification.py?line=220'>221</a>\u001b[0m check_consistent_length(y_true, y_pred, sample_weight)\n\u001b[0;32m    <a href='file:///c%3A/Users/gyova/Documents/Projetos/Model-dectation-fake-news/ven/lib/site-packages/sklearn/metrics/_classification.py?line=221'>222</a>\u001b[0m \u001b[39mif\u001b[39;00m y_type\u001b[39m.\u001b[39mstartswith(\u001b[39m\"\u001b[39m\u001b[39mmultilabel\u001b[39m\u001b[39m\"\u001b[39m):\n",
      "File \u001b[1;32mc:\\Users\\gyova\\Documents\\Projetos\\Model-dectation-fake-news\\ven\\lib\\site-packages\\sklearn\\metrics\\_classification.py:84\u001b[0m, in \u001b[0;36m_check_targets\u001b[1;34m(y_true, y_pred)\u001b[0m\n\u001b[0;32m     <a href='file:///c%3A/Users/gyova/Documents/Projetos/Model-dectation-fake-news/ven/lib/site-packages/sklearn/metrics/_classification.py?line=56'>57</a>\u001b[0m \u001b[39mdef\u001b[39;00m \u001b[39m_check_targets\u001b[39m(y_true, y_pred):\n\u001b[0;32m     <a href='file:///c%3A/Users/gyova/Documents/Projetos/Model-dectation-fake-news/ven/lib/site-packages/sklearn/metrics/_classification.py?line=57'>58</a>\u001b[0m \u001b[39m    \u001b[39m\u001b[39m\"\"\"Check that y_true and y_pred belong to the same classification task.\u001b[39;00m\n\u001b[0;32m     <a href='file:///c%3A/Users/gyova/Documents/Projetos/Model-dectation-fake-news/ven/lib/site-packages/sklearn/metrics/_classification.py?line=58'>59</a>\u001b[0m \n\u001b[0;32m     <a href='file:///c%3A/Users/gyova/Documents/Projetos/Model-dectation-fake-news/ven/lib/site-packages/sklearn/metrics/_classification.py?line=59'>60</a>\u001b[0m \u001b[39m    This converts multiclass or binary types to a common shape, and raises a\u001b[39;00m\n\u001b[1;32m   (...)\u001b[0m\n\u001b[0;32m     <a href='file:///c%3A/Users/gyova/Documents/Projetos/Model-dectation-fake-news/ven/lib/site-packages/sklearn/metrics/_classification.py?line=81'>82</a>\u001b[0m \u001b[39m    y_pred : array or indicator matrix\u001b[39;00m\n\u001b[0;32m     <a href='file:///c%3A/Users/gyova/Documents/Projetos/Model-dectation-fake-news/ven/lib/site-packages/sklearn/metrics/_classification.py?line=82'>83</a>\u001b[0m \u001b[39m    \"\"\"\u001b[39;00m\n\u001b[1;32m---> <a href='file:///c%3A/Users/gyova/Documents/Projetos/Model-dectation-fake-news/ven/lib/site-packages/sklearn/metrics/_classification.py?line=83'>84</a>\u001b[0m     check_consistent_length(y_true, y_pred)\n\u001b[0;32m     <a href='file:///c%3A/Users/gyova/Documents/Projetos/Model-dectation-fake-news/ven/lib/site-packages/sklearn/metrics/_classification.py?line=84'>85</a>\u001b[0m     type_true \u001b[39m=\u001b[39m type_of_target(y_true, input_name\u001b[39m=\u001b[39m\u001b[39m\"\u001b[39m\u001b[39my_true\u001b[39m\u001b[39m\"\u001b[39m)\n\u001b[0;32m     <a href='file:///c%3A/Users/gyova/Documents/Projetos/Model-dectation-fake-news/ven/lib/site-packages/sklearn/metrics/_classification.py?line=85'>86</a>\u001b[0m     type_pred \u001b[39m=\u001b[39m type_of_target(y_pred, input_name\u001b[39m=\u001b[39m\u001b[39m\"\u001b[39m\u001b[39my_pred\u001b[39m\u001b[39m\"\u001b[39m)\n",
      "File \u001b[1;32mc:\\Users\\gyova\\Documents\\Projetos\\Model-dectation-fake-news\\ven\\lib\\site-packages\\sklearn\\utils\\validation.py:409\u001b[0m, in \u001b[0;36mcheck_consistent_length\u001b[1;34m(*arrays)\u001b[0m\n\u001b[0;32m    <a href='file:///c%3A/Users/gyova/Documents/Projetos/Model-dectation-fake-news/ven/lib/site-packages/sklearn/utils/validation.py?line=406'>407</a>\u001b[0m uniques \u001b[39m=\u001b[39m np\u001b[39m.\u001b[39munique(lengths)\n\u001b[0;32m    <a href='file:///c%3A/Users/gyova/Documents/Projetos/Model-dectation-fake-news/ven/lib/site-packages/sklearn/utils/validation.py?line=407'>408</a>\u001b[0m \u001b[39mif\u001b[39;00m \u001b[39mlen\u001b[39m(uniques) \u001b[39m>\u001b[39m \u001b[39m1\u001b[39m:\n\u001b[1;32m--> <a href='file:///c%3A/Users/gyova/Documents/Projetos/Model-dectation-fake-news/ven/lib/site-packages/sklearn/utils/validation.py?line=408'>409</a>\u001b[0m     \u001b[39mraise\u001b[39;00m \u001b[39mValueError\u001b[39;00m(\n\u001b[0;32m    <a href='file:///c%3A/Users/gyova/Documents/Projetos/Model-dectation-fake-news/ven/lib/site-packages/sklearn/utils/validation.py?line=409'>410</a>\u001b[0m         \u001b[39m\"\u001b[39m\u001b[39mFound input variables with inconsistent numbers of samples: \u001b[39m\u001b[39m%r\u001b[39;00m\u001b[39m\"\u001b[39m\n\u001b[0;32m    <a href='file:///c%3A/Users/gyova/Documents/Projetos/Model-dectation-fake-news/ven/lib/site-packages/sklearn/utils/validation.py?line=410'>411</a>\u001b[0m         \u001b[39m%\u001b[39m [\u001b[39mint\u001b[39m(l) \u001b[39mfor\u001b[39;00m l \u001b[39min\u001b[39;00m lengths]\n\u001b[0;32m    <a href='file:///c%3A/Users/gyova/Documents/Projetos/Model-dectation-fake-news/ven/lib/site-packages/sklearn/utils/validation.py?line=411'>412</a>\u001b[0m     )\n",
      "\u001b[1;31mValueError\u001b[0m: Found input variables with inconsistent numbers of samples: [2, 1]"
     ]
    }
   ],
   "source": [
    "y_test_pred = lr_classifier.predict(X)\n",
    "lr_classifier_train = round(lr_classifier.score(X, Y) * 100, 2)\n",
    "lr_classifier_acc = round(accuracy_score(y_test_pred, Y) * 100, 2)\n",
    "\n",
    "print(classification_report(y_test_pred,Y))\n",
    "\n",
    "\n",
    "y_test_pred = (y_test_pred > 0.75)\n",
    "cm = confusion_matrix(Y, y_test_pred)\n",
    "ConfusionMatrixDisplay(confusion_matrix=cm, display_labels=['Fake','True']).plot()"
   ]
  },
  {
   "cell_type": "code",
   "execution_count": null,
   "metadata": {},
   "outputs": [],
   "source": [
    "y_test_pred = mlp.predict(X)\n",
    "mlp_train = round(mlp.score(X, Y) * 100, 2)\n",
    "mlp_acc = round(accuracy_score(y_test_pred, Y) * 100, 2)\n",
    "\n",
    "print(classification_report(y_test_pred,Y))\n",
    "\n",
    "\n",
    "y_test_pred = (y_test_pred > 0.75)\n",
    "cm = confusion_matrix(Y, y_test_pred)\n",
    "ConfusionMatrixDisplay(confusion_matrix=cm, display_labels=['Fake','True']).plot()"
   ]
  },
  {
   "cell_type": "code",
   "execution_count": null,
   "metadata": {},
   "outputs": [],
   "source": [
    "models = pd.DataFrame({\n",
    "    'Model': [\n",
    "        'Logistic Regression',\n",
    "        \n",
    "        'MLPClassifier',\n",
    "        \n",
    "    ],\n",
    "    'Training Accuracy': [\n",
    "        lr_classifier_train,\n",
    "        mlp_train\n",
    "    ],\n",
    "    'Model Accuracy Score': [\n",
    "        lr_classifier_acc,\n",
    "        mlp_acc\n",
    "    ]\n",
    "})"
   ]
  },
  {
   "cell_type": "code",
   "execution_count": 26,
   "metadata": {},
   "outputs": [
    {
     "data": {
      "text/html": [
       "<div>\n",
       "<style scoped>\n",
       "    .dataframe tbody tr th:only-of-type {\n",
       "        vertical-align: middle;\n",
       "    }\n",
       "\n",
       "    .dataframe tbody tr th {\n",
       "        vertical-align: top;\n",
       "    }\n",
       "\n",
       "    .dataframe thead th {\n",
       "        text-align: right;\n",
       "    }\n",
       "</style>\n",
       "<table border=\"1\" class=\"dataframe\">\n",
       "  <thead>\n",
       "    <tr style=\"text-align: right;\">\n",
       "      <th></th>\n",
       "      <th>label</th>\n",
       "      <th>preprocessed_news</th>\n",
       "    </tr>\n",
       "  </thead>\n",
       "  <tbody>\n",
       "    <tr>\n",
       "      <th>0</th>\n",
       "      <td>fake</td>\n",
       "      <td>russia voltara usar abrigos nucleares sul crim...</td>\n",
       "    </tr>\n",
       "    <tr>\n",
       "      <th>1</th>\n",
       "      <td>true</td>\n",
       "      <td>cameras nao mostram outras pessoas cela garoti...</td>\n",
       "    </tr>\n",
       "    <tr>\n",
       "      <th>2</th>\n",
       "      <td>true</td>\n",
       "      <td>trump critica meios comunicacao cobertura refo...</td>\n",
       "    </tr>\n",
       "    <tr>\n",
       "      <th>3</th>\n",
       "      <td>true</td>\n",
       "      <td>golpista passa diacono pedir dinheiro catolico...</td>\n",
       "    </tr>\n",
       "  </tbody>\n",
       "</table>\n",
       "</div>"
      ],
      "text/plain": [
       "  label                                  preprocessed_news\n",
       "0  fake  russia voltara usar abrigos nucleares sul crim...\n",
       "1  true  cameras nao mostram outras pessoas cela garoti...\n",
       "2  true  trump critica meios comunicacao cobertura refo...\n",
       "3  true  golpista passa diacono pedir dinheiro catolico..."
      ]
     },
     "execution_count": 26,
     "metadata": {},
     "output_type": "execute_result"
    }
   ],
   "source": [
    "df = pd.read_csv('../data/test.csv')\n",
    "df = df.drop(columns=['index'])\n",
    "df[\"preprocessed_news\"] = df[\"preprocessed_news\"].apply(remover_stop_words)\n",
    "df[\"preprocessed_news\"] = df[\"preprocessed_news\"].apply(review_cleaning)\n",
    "df['label'] = df.apply(lambda row: 0 if row.label == 'fake' else 1, axis=1)\n",
    "\n",
    "X = df.drop(['label'], axis = 1)\n",
    "Y = df['label']"
   ]
  }
 ],
 "metadata": {
  "interpreter": {
   "hash": "45f1f3757439874319ad1023556b798bdce3a703ab4652de42b8220c6c143c8c"
  },
  "kernelspec": {
   "display_name": "Python 3.9.13 ('ven': venv)",
   "language": "python",
   "name": "python3"
  },
  "language_info": {
   "codemirror_mode": {
    "name": "ipython",
    "version": 3
   },
   "file_extension": ".py",
   "mimetype": "text/x-python",
   "name": "python",
   "nbconvert_exporter": "python",
   "pygments_lexer": "ipython3",
   "version": "3.9.13"
  },
  "orig_nbformat": 4
 },
 "nbformat": 4,
 "nbformat_minor": 2
}
