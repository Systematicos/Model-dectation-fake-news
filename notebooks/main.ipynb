{
 "cells": [
  {
   "cell_type": "code",
   "execution_count": null,
   "outputs": [],
   "source": [
    "import pandas as pd\n",
    "import numpy as np\n",
    "import seaborn as sns\n",
    "import matplotlib.pyplot as plt\n",
    "from sklearn.feature_extraction.text import CountVectorizer\n",
    "from nltk.corpus import stopwords\n",
    "import re\n",
    "import string\n",
    "from sklearn.metrics import confusion_matrix,ConfusionMatrixDisplay, classification_report, accuracy_score\n",
    "from sklearn.neural_network import MLPClassifier\n",
    "from sklearn.tree import DecisionTreeClassifier\n",
    "from sklearn.model_selection import GridSearchCV\n",
    "from sklearn.linear_model import LogisticRegression, PassiveAggressiveClassifier\n",
    "import nltk\n",
    "nltk.download('stopwords')"
   ],
   "metadata": {
    "collapsed": false,
    "pycharm": {
     "name": "#%%\n"
    }
   }
  },
  {
   "cell_type": "code",
   "execution_count": null,
   "outputs": [],
   "source": [
    "df = pd.read_csv('../data/pre-processed.csv')\n",
    "df = df.drop(columns=['index'])\n",
    "df.isnull().any()"
   ],
   "metadata": {
    "collapsed": false,
    "pycharm": {
     "name": "#%%\n"
    }
   }
  },
  {
   "cell_type": "code",
   "execution_count": null,
   "outputs": [],
   "source": [
    "stop_words = set(stopwords.words('portuguese'))\n",
    "\n",
    "def remover_stop_words(news):\n",
    "    palavras = news.split()\n",
    "    palavras_sem_stop = [palavra for palavra in palavras if palavra.lower() not in stop_words]\n",
    "    return ' '.join(palavras_sem_stop)\n",
    "\n",
    "def review_cleaning(text):\n",
    "    \n",
    "    text = str(text).lower()\n",
    "    text = re.sub('\\[.*?\\]', '', text)\n",
    "    text = re.sub('https?://\\S+|www\\.\\S+', '', text)\n",
    "    text = re.sub('<.*?>+', '', text)\n",
    "    text = re.sub('[%s]' % re.escape(string.punctuation), '', text)\n",
    "    text = re.sub('\\n', '', text)\n",
    "    text = re.sub('\\w*\\d\\w*', '', text)\n",
    "    return text\n",
    "\n",
    "df[\"preprocessed_news\"] = df[\"preprocessed_news\"].apply(remover_stop_words)\n",
    "df[\"preprocessed_news\"] = df[\"preprocessed_news\"].apply(review_cleaning)"
   ],
   "metadata": {
    "collapsed": false,
    "pycharm": {
     "name": "#%%\n"
    }
   }
  },
  {
   "cell_type": "code",
   "execution_count": null,
   "outputs": [],
   "source": [
    "df['label'] = df.apply(lambda row: 0 if row.label == 'fake' else 1, axis=1)\n",
    "\n",
    "X = df.drop(['label'], axis = 1)\n",
    "Y = df['label']"
   ],
   "metadata": {
    "collapsed": false,
    "pycharm": {
     "name": "#%%\n"
    }
   }
  },
  {
   "cell_type": "code",
   "execution_count": null,
   "outputs": [],
   "source": [
    "from sklearn.model_selection import train_test_split\n",
    "X_train, X_test, y_train, y_test = train_test_split(X, Y, test_size = 0.25, random_state = 42, stratify=Y)\n",
    "X_train = X_train['preprocessed_news'].apply(lambda x: x.lower())\n",
    "X_test = X_test['preprocessed_news'].apply(lambda x: x.lower())\n",
    "\n",
    "\n",
    "vectorizer = CountVectorizer()\n",
    "vectorizer.fit(X_train)\n",
    "X_train = vectorizer.transform(X_train).toarray()\n",
    "X_test = vectorizer.transform(X_test).toarray()\n"
   ],
   "metadata": {
    "collapsed": false,
    "pycharm": {
     "name": "#%%\n"
    }
   }
  },
  {
   "cell_type": "markdown",
   "source": [
    "##### Logistic Regression\n"
   ],
   "metadata": {
    "collapsed": false,
    "pycharm": {
     "name": "#%% md\n"
    }
   }
  },
  {
   "cell_type": "code",
   "execution_count": null,
   "outputs": [],
   "source": [
    "lr_classifier = LogisticRegression()\n",
    "lr_classifier.fit(X_train,y_train)\n",
    "\n",
    "y_test_pred = lr_classifier.predict(X_test)\n",
    "lr_classifier_train = round(lr_classifier.score(X_train, y_train) * 100, 2)\n",
    "lr_classifier_acc = round(accuracy_score(y_test_pred, y_test) * 100, 2)\n",
    "print(classification_report(y_test_pred,y_test))\n",
    "\n",
    "y_test_pred = (y_test_pred > 0.75)\n",
    "cm = confusion_matrix(y_test, y_test_pred)\n",
    "ConfusionMatrixDisplay(confusion_matrix=cm, display_labels=['Fake','True']).plot()\n",
    "\n"
   ],
   "metadata": {
    "collapsed": false,
    "pycharm": {
     "name": "#%%\n"
    }
   }
  },
  {
   "cell_type": "markdown",
   "source": [
    "##### Multilayer perceptron (MLP)"
   ],
   "metadata": {
    "collapsed": false,
    "pycharm": {
     "name": "#%% md\n"
    }
   }
  },
  {
   "cell_type": "code",
   "execution_count": null,
   "outputs": [],
   "source": [
    "mlp = MLPClassifier(random_state=1)\n",
    "mlp.fit(X_train,y_train)\n",
    "y_test_pred = mlp.predict(X_test)\n",
    "mlp_train = round(mlp.score(X_train, y_train) * 100, 2)\n",
    "mlp_acc = round(accuracy_score(y_test_pred, y_test) * 100, 2)\n",
    "print(classification_report(y_test_pred,y_test))\n",
    "\n",
    "\n",
    "y_test_pred = (y_test_pred > 0.75)\n",
    "cm = confusion_matrix(y_test, y_test_pred)\n",
    "ConfusionMatrixDisplay(confusion_matrix=cm, display_labels=['Fake','True']).plot()"
   ],
   "metadata": {
    "collapsed": false,
    "pycharm": {
     "name": "#%%\n"
    }
   }
  },
  {
   "cell_type": "markdown",
   "source": [
    "##### Multilayer perceptron (MLP) Com GridSearchCV"
   ],
   "metadata": {
    "collapsed": false,
    "pycharm": {
     "name": "#%% md\n"
    }
   }
  },
  {
   "cell_type": "code",
   "execution_count": null,
   "outputs": [],
   "source": [
    "parameters = {'solver': ['sgd', 'lbfgs'],\n",
    "              'hidden_layer_sizes':(100,50,25), \n",
    "              'random_state':[2],\n",
    "              'activation': ['tanh', 'relu'],\n",
    "              'max_iter': [50]\n",
    "              }\n",
    "\n",
    "clf = GridSearchCV(MLPClassifier(), parameters, cv=2)\n",
    "\n",
    "clf.fit(X_train,y_train)\n",
    "y_test_pred = clf.predict(X_test)\n",
    "mlp_train = round(clf.score(X_train, y_train) * 100, 2)\n",
    "mlp_acc = round(accuracy_score(y_test_pred, y_test) * 100, 2)\n",
    "print(classification_report(y_test_pred,y_test))\n",
    "\n",
    "\n",
    "y_test_pred = (y_test_pred > 0.75)\n",
    "cm = confusion_matrix(y_test, y_test_pred)\n",
    "ConfusionMatrixDisplay(confusion_matrix=cm, display_labels=['Fake','True']).plot()"
   ],
   "metadata": {
    "collapsed": false,
    "pycharm": {
     "name": "#%%\n"
    }
   }
  },
  {
   "cell_type": "markdown",
   "source": [
    "#### Decision Tree"
   ],
   "metadata": {
    "collapsed": false,
    "pycharm": {
     "name": "#%% md\n"
    }
   }
  },
  {
   "cell_type": "code",
   "execution_count": null,
   "outputs": [],
   "source": [
    "decisionTree = DecisionTreeClassifier()\n",
    "decisionTree.fit(X_train,y_train)\n",
    "y_test_pred = decisionTree.predict(X_test)\n",
    "\n",
    "decisionTree_train = round(decisionTree.score(X_train, y_train) * 100, 2)\n",
    "decisionTree_acc = round(accuracy_score(y_test_pred, y_test) * 100, 2)\n",
    "print(classification_report(y_test_pred,y_test))\n",
    "\n",
    "\n",
    "y_test_pred = (y_test_pred > 0.75)\n",
    "cm = confusion_matrix(y_test, y_test_pred)\n",
    "ConfusionMatrixDisplay(confusion_matrix=cm, display_labels=['Fake','True']).plot()\n",
    "\n"
   ],
   "metadata": {
    "collapsed": false,
    "pycharm": {
     "name": "#%%\n"
    }
   }
  },
  {
   "cell_type": "markdown",
   "source": [
    "#### Passive Aggressive"
   ],
   "metadata": {
    "collapsed": false,
    "pycharm": {
     "name": "#%% md\n"
    }
   }
  },
  {
   "cell_type": "code",
   "execution_count": null,
   "outputs": [],
   "source": [
    "passive = PassiveAggressiveClassifier(C = 0.5, random_state = 5)\n",
    "passive.fit(X_train,y_train)\n",
    "\n",
    "x_test_pred = passive.predict(X_test)\n",
    "passive_train = round(passive.score(X_train, y_train) * 100, 2)\n",
    "passive_acc = round(accuracy_score(y_test_pred, y_test) * 100, 2)\n",
    "\n",
    "print(classification_report(y_test_pred,y_test))\n",
    "\n",
    "\n",
    "y_test_pred = (y_test_pred > 0.75)\n",
    "cm = confusion_matrix(y_test, y_test_pred)\n",
    "ConfusionMatrixDisplay(confusion_matrix=cm, display_labels=['Fake','True']).plot()"
   ],
   "metadata": {
    "collapsed": false,
    "pycharm": {
     "name": "#%%\n"
    }
   }
  },
  {
   "cell_type": "markdown",
   "source": [
    "### Comparando Modelos Diferentes"
   ],
   "metadata": {
    "collapsed": false,
    "pycharm": {
     "name": "#%% md\n"
    }
   }
  },
  {
   "cell_type": "code",
   "execution_count": null,
   "outputs": [],
   "source": [
    "models = pd.DataFrame({\n",
    "    'Model': [\n",
    "        'Logistic Regression',\n",
    "        'Decision Tree',\n",
    "        'MLPClassifier',\n",
    "        'PassiveAggressiveClassifier'\n",
    "    ],\n",
    "    'Training Accuracy': [\n",
    "        lr_classifier_train, decisionTree_train,\n",
    "        mlp_train, passive_train\n",
    "    ],\n",
    "    'Model Accuracy Score': [\n",
    "        lr_classifier_acc, decisionTree_acc,\n",
    "        mlp_acc, passive_acc\n",
    "    ]\n",
    "})"
   ],
   "metadata": {
    "collapsed": false,
    "pycharm": {
     "name": "#%%\n"
    }
   }
  },
  {
   "cell_type": "code",
   "execution_count": null,
   "outputs": [],
   "source": [
    "models.sort_values(by='Model Accuracy Score', ascending=False).style.background_gradient(\n",
    "        cmap='coolwarm').hide_index().set_properties(**{\n",
    "            'font-family': 'Lucida Calligraphy',\n",
    "            'color': 'LigntGreen',\n",
    "            'font-size': '15px'\n",
    "        })"
   ],
   "metadata": {
    "collapsed": false,
    "pycharm": {
     "name": "#%%\n"
    }
   }
  },
  {
   "cell_type": "code",
   "execution_count": null,
   "outputs": [],
   "source": [
    "news1 = 'vez pais precursor pratica esporte viria tornar febre mundial dominava modalidade fundamental sucesso nessa atividade pioneirismo expertise nao salvam porem brasil enfrentar decadencia notoria cenario atual mma ma fase reflete lista campeoes ufc registra apenas brasileira amanda nunes neste sabado leoa vai colocar titulo jogo contra valentina shevchenko ufc defendo mma esporte individual nao disputa nacoes portanto sujeito pais nao obriga torcer claro facil sentir empatia atleta brasileiro outra nacionalidade questoes culturais aproximacao realidade embora nao regra razoes declinio resultados representantes pais esporte sao sistemicas listei cinco seguem abaixo exportacao lutar chao maior diferencial brasileiros sobre estrangeiros origem judo modalidade japonesa conhecida impor quedas adversarios versao tradicional dava prosseguimento luta solo nao faz sentido nenhum voce declarado vencedor combate porque colocou rival costas chao eis faixa preta conde koma mudou brasil ensinou tecnicas irmaos helio carlos gracie adaptaram tal forma der origem brazilian gracie queiram aconteceu comeco seculo portanto brasil quase anos frente concorrencia inicio levavam caratecas pugilistas kickboxers afins chao finalizavam problemas representantes wrestling nao melhor sorte porque derrubavam brasileiros acabavam presos estrangulamentos chaves articulacoes corpo havia raros especimes fedor emelianenko kazushi sakuraba treinamento alto nivel solo defender ate atacar brasileiros minoria aconteceu entao ofertas vantajosas especialistas irem principalmente estados unidos ensinar modalidade movimento inicio ha decada nao surpresa existam estrangeiros hoje capazes menos evitar tentativas finalizacao ganhar real posso ganhar dolar matematica simples defasagem wrestling momento nao havia certeza conseguiria finalizar rival passou essencial poder controlar onde luta iria acontecer so ponto forte nao quedar adversario embora alguns praticantes boa base judo alcancar objetivo modalidade pouca enfase nessa area porque grosso modo existem dois tipos lutadores joga baixo guardeiro fica cima passador guardeiro quer derrubado enquanto passador nunca encontrou muita resistencia levar oponentes baixo assim dinamica luta mma passou favoravel wrestlers agora bem preparados defender finalizacoes convenhamos tambem faixa preta vira faixa branca enquanto tomando soco cara alem brasil representantes estilo peculiar muay thai oriundos especial curitiba wanderlei silva mauricio shogun maiores expoentes academia chute boxe pride evento japones regras dificultavam vida especialistas quedas porque la permitido chutar pisar cabeca adversario deitado alem joelhadas rivais tres quatro apoios adeptos estilo sprawl and brawl faziam pagar cometiam minimo erro tentar chao pride porem nao existe ufc regras sao civilizadas nao so normal wrestling valorizado organizacao estados unidos potencia mundial nessa modalidade cenario nacional viciado nesse topico nao preciso alongar organizacoes mma brasil servem proposito revelar lutadores promocoes projecao internacional nenhuma critica ate ai problema revelacoes acabam enfrentando adversarios qualidade questionavel inflar cartel ai vai empresario x oferecer cliente ufc mostra ganhou lutas primeiro contrato ate assinado fato lutador nao testado verdade observa atencao bolha prospectos brasileiros ja estourou faz tempo nao ha renovacao topico anterior exemplo nao ha dominio wrestling brasil geral nao atestar qualidade ninguem ainda caminho pavimentado desafios fracos envelhecimento estrelas existe adversario implacavel invicto todos esportes tempo passa anderson silva ja nao rodrigo minotauro aposentou vitor belfort shogun wand nao errariam seguissem caminho lyoto machida ja anos inativo ha dois anos junior cigano enfrenta clara decadencia embora cedo dizer renan barao jose aldo dupla nova uniao rende menos passado ate proximo rafael anjos respeitou limites corpo migrou categoria leves onde vai encontrar clara desvantagem fisica dificuldade campeao novo demian maia finalmente vai disputar titulo vai completar anos ainda dificil esperar carreira ainda longo prosseguimento tecnologia nao misterio ninguem brasil pais desenvolvimento atravessa grave crise economia logico maioria brasileiros vai ter menos recursos tecnicos fazer preparacao adequada ate acho pais ha bons treinadores falta investimento estrutura nitido lutadores vantagem preparacao fisica exemplo brasileiro respirando boca ultimo round luta ufc rotina faz tempo enquanto atletas eua inclusive sabem dosar gas vez dar tudo si primeiro assalto curiosidade desde dezembro anderson silva conquistou titulo peso medio brasil so dormiu duas noites ter nenhum cinturao ufc rafael anjos derrotado julho amanda nunes jose aldo sagraram campeoes dois dias leoa nao companhia compatriota perdeu havaiano max holloway ha mes'\n",
    "news2 = 'russia voltara usar abrigos nucleares sul crimeia ate recentemente abrigos misseis longo costa sul crimeia apenas destino turistas antigos bunkers sovieticos desintegrados abandonados serviram durante guerra fria estao voltando ativa placas colocadas torno local advertem visitantes estao prestes entrar zona proibida ministerio defesa russia morador vila proxima disse soldados russos reocuparam local bloquearam estradas acesso area base militar funcional sistema misseis afirmou crimeia fica extremo sul linha instalacoes militares russas estende norte arco atraves russia ocidental moscou ja reativou varias instalacoes construidas sovieticos regiao alem construir novas bases realocar soldados confira algumas fotos'\n",
    "\n",
    "preprocessed_news = pd.Series(data=[news1])\n",
    "label = pd.Series(data=[0])\n",
    "\n",
    "news = pd.DataFrame({\n",
    "    'preprocessed_news': preprocessed_news,\n",
    "    'label': label\n",
    "})\n",
    "\n",
    "X = news.drop(['label'], axis = 1)\n",
    "Y = news['label']\n",
    "\n",
    "X = vectorizer.transform(X).toarray()\n",
    "\n"
   ],
   "metadata": {
    "collapsed": false,
    "pycharm": {
     "name": "#%%\n"
    }
   }
  },
  {
   "cell_type": "code",
   "execution_count": null,
   "outputs": [],
   "source": [
    "lr_classifier = LogisticRegression()\n",
    "mlp = MLPClassifier(random_state=1)\n",
    "\n",
    "lr_classifier.fit(X_train,y_train)\n",
    "mlp.fit(X_train,y_train)"
   ],
   "metadata": {
    "collapsed": false,
    "pycharm": {
     "name": "#%%\n"
    }
   }
  },
  {
   "cell_type": "code",
   "execution_count": null,
   "outputs": [],
   "source": [
    "y_test_pred = lr_classifier.predict(X)\n",
    "lr_classifier_train = round(lr_classifier.score(X, Y) * 100, 2)\n",
    "lr_classifier_acc = round(accuracy_score(y_test_pred, Y) * 100, 2)\n",
    "\n",
    "print(classification_report(y_test_pred,Y))\n",
    "\n",
    "\n",
    "y_test_pred = (y_test_pred > 0.75)\n",
    "cm = confusion_matrix(Y, y_test_pred)\n",
    "ConfusionMatrixDisplay(confusion_matrix=cm, display_labels=['Fake','True']).plot()"
   ],
   "metadata": {
    "collapsed": false,
    "pycharm": {
     "name": "#%%\n"
    }
   }
  },
  {
   "cell_type": "code",
   "execution_count": null,
   "outputs": [],
   "source": [
    "y_test_pred = mlp.predict(X)\n",
    "mlp_train = round(mlp.score(X, Y) * 100, 2)\n",
    "mlp_acc = round(accuracy_score(y_test_pred, Y) * 100, 2)\n",
    "\n",
    "print(classification_report(y_test_pred,Y))\n",
    "\n",
    "\n",
    "y_test_pred = (y_test_pred > 0.75)\n",
    "cm = confusion_matrix(Y, y_test_pred)\n",
    "ConfusionMatrixDisplay(confusion_matrix=cm, display_labels=['Fake','True']).plot()"
   ],
   "metadata": {
    "collapsed": false,
    "pycharm": {
     "name": "#%%\n"
    }
   }
  },
  {
   "cell_type": "code",
   "execution_count": null,
   "outputs": [],
   "source": [
    "models = pd.DataFrame({\n",
    "    'Model': [\n",
    "        'Logistic Regression',\n",
    "        \n",
    "        'MLPClassifier',\n",
    "        \n",
    "    ],\n",
    "    'Training Accuracy': [\n",
    "        lr_classifier_train,\n",
    "        mlp_train\n",
    "    ],\n",
    "    'Model Accuracy Score': [\n",
    "        lr_classifier_acc,\n",
    "        mlp_acc\n",
    "    ]\n",
    "})"
   ],
   "metadata": {
    "collapsed": false,
    "pycharm": {
     "name": "#%%\n"
    }
   }
  },
  {
   "cell_type": "code",
   "execution_count": null,
   "outputs": [],
   "source": [
    "df_test = pd.read_csv('../data/test.csv')\n",
    "df_test = df_test.drop(columns=['index'])\n",
    "df_test[\"preprocessed_news\"] = df_test[\"preprocessed_news\"].apply(remover_stop_words)\n",
    "df_test[\"preprocessed_news\"] = df_test[\"preprocessed_news\"].apply(review_cleaning)\n",
    "df_test['label'] = df_test.apply(lambda row: 0 if row.label == 'fake' else 1, axis=1)\n",
    "\n",
    "X_test = df_test.drop(['label'], axis = 1)\n",
    "Y_test = df_test['label']"
   ],
   "metadata": {
    "collapsed": false,
    "pycharm": {
     "name": "#%%\n"
    }
   }
  },
  {
   "cell_type": "code",
   "execution_count": null,
   "outputs": [],
   "source": [],
   "metadata": {
    "collapsed": false,
    "pycharm": {
     "name": "#%%\n"
    }
   }
  },
  {
   "cell_type": "code",
   "execution_count": null,
   "metadata": {},
   "outputs": [],
   "source": [
    "news1 = 'vez pais precursor pratica esporte viria tornar febre mundial dominava modalidade fundamental sucesso nessa atividade pioneirismo expertise nao salvam porem brasil enfrentar decadencia notoria cenario atual mma ma fase reflete lista campeoes ufc registra apenas brasileira amanda nunes neste sabado leoa vai colocar titulo jogo contra valentina shevchenko ufc defendo mma esporte individual nao disputa nacoes portanto sujeito pais nao obriga torcer claro facil sentir empatia atleta brasileiro outra nacionalidade questoes culturais aproximacao realidade embora nao regra razoes declinio resultados representantes pais esporte sao sistemicas listei cinco seguem abaixo exportacao lutar chao maior diferencial brasileiros sobre estrangeiros origem judo modalidade japonesa conhecida impor quedas adversarios versao tradicional dava prosseguimento luta solo nao faz sentido nenhum voce declarado vencedor combate porque colocou rival costas chao eis faixa preta conde koma mudou brasil ensinou tecnicas irmaos helio carlos gracie adaptaram tal forma der origem brazilian gracie queiram aconteceu comeco seculo portanto brasil quase anos frente concorrencia inicio levavam caratecas pugilistas kickboxers afins chao finalizavam problemas representantes wrestling nao melhor sorte porque derrubavam brasileiros acabavam presos estrangulamentos chaves articulacoes corpo havia raros especimes fedor emelianenko kazushi sakuraba treinamento alto nivel solo defender ate atacar brasileiros minoria aconteceu entao ofertas vantajosas especialistas irem principalmente estados unidos ensinar modalidade movimento inicio ha decada nao surpresa existam estrangeiros hoje capazes menos evitar tentativas finalizacao ganhar real posso ganhar dolar matematica simples defasagem wrestling momento nao havia certeza conseguiria finalizar rival passou essencial poder controlar onde luta iria acontecer so ponto forte nao quedar adversario embora alguns praticantes boa base judo alcancar objetivo modalidade pouca enfase nessa area porque grosso modo existem dois tipos lutadores joga baixo guardeiro fica cima passador guardeiro quer derrubado enquanto passador nunca encontrou muita resistencia levar oponentes baixo assim dinamica luta mma passou favoravel wrestlers agora bem preparados defender finalizacoes convenhamos tambem faixa preta vira faixa branca enquanto tomando soco cara alem brasil representantes estilo peculiar muay thai oriundos especial curitiba wanderlei silva mauricio shogun maiores expoentes academia chute boxe pride evento japones regras dificultavam vida especialistas quedas porque la permitido chutar pisar cabeca adversario deitado alem joelhadas rivais tres quatro apoios adeptos estilo sprawl and brawl faziam pagar cometiam minimo erro tentar chao pride porem nao existe ufc regras sao civilizadas nao so normal wrestling valorizado organizacao estados unidos potencia mundial nessa modalidade cenario nacional viciado nesse topico nao preciso alongar organizacoes mma brasil servem proposito revelar lutadores promocoes projecao internacional nenhuma critica ate ai problema revelacoes acabam enfrentando adversarios qualidade questionavel inflar cartel ai vai empresario x oferecer cliente ufc mostra ganhou lutas primeiro contrato ate assinado fato lutador nao testado verdade observa atencao bolha prospectos brasileiros ja estourou faz tempo nao ha renovacao topico anterior exemplo nao ha dominio wrestling brasil geral nao atestar qualidade ninguem ainda caminho pavimentado desafios fracos envelhecimento estrelas existe adversario implacavel invicto todos esportes tempo passa anderson silva ja nao rodrigo minotauro aposentou vitor belfort shogun wand nao errariam seguissem caminho lyoto machida ja anos inativo ha dois anos junior cigano enfrenta clara decadencia embora cedo dizer renan barao jose aldo dupla nova uniao rende menos passado ate proximo rafael anjos respeitou limites corpo migrou categoria leves onde vai encontrar clara desvantagem fisica dificuldade campeao novo demian maia finalmente vai disputar titulo vai completar anos ainda dificil esperar carreira ainda longo prosseguimento tecnologia nao misterio ninguem brasil pais desenvolvimento atravessa grave crise economia logico maioria brasileiros vai ter menos recursos tecnicos fazer preparacao adequada ate acho pais ha bons treinadores falta investimento estrutura nitido lutadores vantagem preparacao fisica exemplo brasileiro respirando boca ultimo round luta ufc rotina faz tempo enquanto atletas eua inclusive sabem dosar gas vez dar tudo si primeiro assalto curiosidade desde dezembro anderson silva conquistou titulo peso medio brasil so dormiu duas noites ter nenhum cinturao ufc rafael anjos derrotado julho amanda nunes jose aldo sagraram campeoes dois dias leoa nao companhia compatriota perdeu havaiano max holloway ha mes'\n",
    "news2 = 'russia voltara usar abrigos nucleares sul crimeia ate recentemente abrigos misseis longo costa sul crimeia apenas destino turistas antigos bunkers sovieticos desintegrados abandonados serviram durante guerra fria estao voltando ativa placas colocadas torno local advertem visitantes estao prestes entrar zona proibida ministerio defesa russia morador vila proxima disse soldados russos reocuparam local bloquearam estradas acesso area base militar funcional sistema misseis afirmou crimeia fica extremo sul linha instalacoes militares russas estende norte arco atraves russia ocidental moscou ja reativou varias instalacoes construidas sovieticos regiao alem construir novas bases realocar soldados confira algumas fotos'\n",
    "\n",
    "preprocessed_news = pd.Series(data=[news1])\n",
    "label = pd.Series(data=[0])\n",
    "\n",
    "news = pd.DataFrame({\n",
    "    'preprocessed_news': preprocessed_news,\n",
    "    'label': label\n",
    "})\n",
    "\n",
    "X = news.drop(['label'], axis = 1)\n",
    "Y = news['label']\n",
    "\n",
    "X = vectorizer.transform(X).toarray()\n",
    "\n"
   ]
  },
  {
   "cell_type": "code",
   "execution_count": null,
   "metadata": {},
   "outputs": [],
   "source": [
    "lr_classifier = LogisticRegression()\n",
    "mlp = MLPClassifier(random_state=1)\n",
    "\n",
    "lr_classifier.fit(X_train,y_train)\n",
    "mlp.fit(X_train,y_train)"
   ]
  },
  {
   "cell_type": "code",
   "execution_count": null,
   "metadata": {},
   "outputs": [],
   "source": [
    "y_test_pred = lr_classifier.predict(X)\n",
    "lr_classifier_train = round(lr_classifier.score(X, Y) * 100, 2)\n",
    "lr_classifier_acc = round(accuracy_score(y_test_pred, Y) * 100, 2)\n",
    "\n",
    "print(classification_report(y_test_pred,Y))\n",
    "\n",
    "\n",
    "y_test_pred = (y_test_pred > 0.75)\n",
    "cm = confusion_matrix(Y, y_test_pred)\n",
    "ConfusionMatrixDisplay(confusion_matrix=cm, display_labels=['Fake','True']).plot()"
   ]
  },
  {
   "cell_type": "code",
   "execution_count": null,
   "metadata": {},
   "outputs": [],
   "source": [
    "y_test_pred = mlp.predict(X)\n",
    "mlp_train = round(mlp.score(X, Y) * 100, 2)\n",
    "mlp_acc = round(accuracy_score(y_test_pred, Y) * 100, 2)\n",
    "\n",
    "print(classification_report(y_test_pred,Y))\n",
    "\n",
    "\n",
    "y_test_pred = (y_test_pred > 0.75)\n",
    "cm = confusion_matrix(Y, y_test_pred)\n",
    "ConfusionMatrixDisplay(confusion_matrix=cm, display_labels=['Fake','True']).plot()"
   ]
  },
  {
   "cell_type": "code",
   "execution_count": null,
   "metadata": {},
   "outputs": [],
   "source": [
    "models = pd.DataFrame({\n",
    "    'Model': [\n",
    "        'Logistic Regression',\n",
    "        \n",
    "        'MLPClassifier',\n",
    "        \n",
    "    ],\n",
    "    'Training Accuracy': [\n",
    "        lr_classifier_train,\n",
    "        mlp_train\n",
    "    ],\n",
    "    'Model Accuracy Score': [\n",
    "        lr_classifier_acc,\n",
    "        mlp_acc\n",
    "    ]\n",
    "})"
   ]
  },
  {
   "cell_type": "code",
   "execution_count": null,
   "metadata": {},
   "outputs": [],
   "source": [
    "df_test = pd.read_csv('../data/test.csv')\n",
    "df_test = df_test.drop(columns=['index'])\n",
    "df_test[\"preprocessed_news\"] = df_test[\"preprocessed_news\"].apply(remover_stop_words)\n",
    "df_test[\"preprocessed_news\"] = df_test[\"preprocessed_news\"].apply(review_cleaning)\n",
    "df_test['label'] = df_test.apply(lambda row: 0 if row.label == 'fake' else 1, axis=1)\n",
    "\n",
    "X_test = df_test.drop(['label'], axis = 1)\n",
    "Y_test = df_test['label']"
   ]
  },
  {
   "cell_type": "code",
   "execution_count": null,
   "metadata": {},
   "outputs": [],
   "source": []
  }
 ],
 "metadata": {
  "interpreter": {
   "hash": "45f1f3757439874319ad1023556b798bdce3a703ab4652de42b8220c6c143c8c"
  },
  "kernelspec": {
   "display_name": "Python 3.9.13 ('ven': venv)",
   "language": "python",
   "name": "python3"
  },
  "language_info": {
   "codemirror_mode": {
    "name": "ipython",
    "version": 3
   },
   "file_extension": ".py",
   "mimetype": "text/x-python",
   "name": "python",
   "nbconvert_exporter": "python",
   "pygments_lexer": "ipython3",
   "version": "3.9.13"
  },
  "orig_nbformat": 4
 },
 "nbformat": 4,
 "nbformat_minor": 2
}