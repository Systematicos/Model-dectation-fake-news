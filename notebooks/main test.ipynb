{
 "cells": [
  {
   "cell_type": "code",
   "execution_count": 22,
   "metadata": {},
   "outputs": [
    {
     "name": "stderr",
     "output_type": "stream",
     "text": [
      "[nltk_data] Downloading package stopwords to\n",
      "[nltk_data]     C:\\Users\\gyova\\AppData\\Roaming\\nltk_data...\n",
      "[nltk_data]   Package stopwords is already up-to-date!\n"
     ]
    }
   ],
   "source": [
    "import pandas as pd\n",
    "import numpy as np\n",
    "import seaborn as sns\n",
    "import matplotlib.pyplot as plt\n",
    "\n",
    "from sklearn.feature_extraction.text import CountVectorizer\n",
    "from nltk.corpus import stopwords\n",
    "import re\n",
    "import string\n",
    "from sklearn.metrics import confusion_matrix,ConfusionMatrixDisplay, classification_report, accuracy_score\n",
    "from sklearn.neural_network import MLPClassifier\n",
    "from sklearn.tree import DecisionTreeClassifier\n",
    "from sklearn.model_selection import GridSearchCV\n",
    "from sklearn.linear_model import LogisticRegression, PassiveAggressiveClassifier\n",
    "from sklearn.model_selection import train_test_split\n",
    "    \n",
    "import pickle\n",
    "import tensorflow as tf\n",
    "from tensorflow.keras.models import load_model, Model\n",
    "from tensorflow.keras.callbacks import EarlyStopping\n",
    "from tensorflow.keras.layers import Input, Embedding, GRU, LSTM, SimpleRNN, Conv1D, Dense, Dropout, Attention, Bidirectional\n",
    "from tensorflow.keras.callbacks import TensorBoard\n",
    "from tensorflow.keras.utils import plot_model\n",
    "\n",
    "import nltk\n",
    "nltk.download('stopwords')\n",
    "log_dir = \"logs/\"  # Especifique o diretório onde os logs serão armazenados\n",
    "tensorboard_callback = TensorBoard(log_dir=log_dir, histogram_freq=1)"
   ]
  },
  {
   "cell_type": "code",
   "execution_count": 23,
   "metadata": {},
   "outputs": [
    {
     "data": {
      "text/plain": [
       "label                False\n",
       "preprocessed_news    False\n",
       "dtype: bool"
      ]
     },
     "execution_count": 23,
     "metadata": {},
     "output_type": "execute_result"
    }
   ],
   "source": [
    "df = pd.read_csv('../data/dataset1.csv')\n",
    "df = df.drop(columns=['index'])\n",
    "df.isnull().any()"
   ]
  },
  {
   "cell_type": "code",
   "execution_count": 24,
   "metadata": {},
   "outputs": [],
   "source": [
    "stop_words = set(stopwords.words('portuguese'))\n",
    "\n",
    "def remover_stop_words(news):\n",
    "    palavras = news.split()\n",
    "    palavras_sem_stop = [palavra for palavra in palavras if palavra.lower() not in stop_words]\n",
    "    return ' '.join(palavras_sem_stop)\n",
    "\n",
    "def review_cleaning(text):\n",
    "    \n",
    "    text = str(text).lower()\n",
    "    text = re.sub('\\[.*?\\]', '', text)\n",
    "    text = re.sub('https?://\\S+|www\\.\\S+', '', text)\n",
    "    text = re.sub('<.*?>+', '', text)\n",
    "    text = re.sub('[%s]' % re.escape(string.punctuation), '', text)\n",
    "    text = re.sub('\\n', '', text)\n",
    "    text = re.sub('\\w*\\d\\w*', '', text)\n",
    "    return text\n",
    "\n",
    "df[\"preprocessed_news\"] = df[\"preprocessed_news\"].apply(remover_stop_words)\n",
    "df['label'] = df.apply(lambda row: 0 if row.label == 'fake' else 1, axis=1)\n",
    "X = df.drop(['label'], axis = 1)\n",
    "Y = df['label']\n"
   ]
  },
  {
   "cell_type": "code",
   "execution_count": null,
   "metadata": {},
   "outputs": [],
   "source": [
    "\n",
    "X_train, X_test, y_train, y_test = train_test_split(X, Y, test_size = 0.3, stratify=Y)\n",
    "X_train = X_train['preprocessed_news'].apply(lambda x: x.lower())\n",
    "X_test = X_test['preprocessed_news'].apply(lambda x: x.lower())"
   ]
  },
  {
   "cell_type": "code",
   "execution_count": null,
   "metadata": {},
   "outputs": [],
   "source": [
    "#variaveis dos modelos\n",
    "maxlen=256\n",
    "num_words = 8000\n",
    "batch_size = 128 \n",
    "epochs = 20 \n",
    "validation_fraction = 0.2\n",
    "output_dim = 64\n",
    "\n",
    "\n",
    "\n",
    "early_stopping = EarlyStopping(monitor='val_loss', patience=3)"
   ]
  },
  {
   "cell_type": "code",
   "execution_count": null,
   "metadata": {},
   "outputs": [],
   "source": [
    "train_tokenizer = tf.keras.preprocessing.text.Tokenizer(oov_token='<OOV>',num_words=num_words)\n",
    "train_tokenizer.fit_on_texts(X_train.values)\n",
    "train_word_index = train_tokenizer.word_index\n",
    "train_sequences = train_tokenizer.texts_to_sequences(X_train)\n",
    "\n",
    "text_tokenizer = tf.keras.preprocessing.text.Tokenizer(oov_token='<OOV>',num_words=num_words)\n",
    "text_tokenizer.fit_on_texts(X_test.values)\n",
    "text_word_index = text_tokenizer.word_index\n",
    "text_sequences = text_tokenizer.texts_to_sequences(X_test)\n",
    "\n",
    "vocab_length = len(train_word_index) + 1\n",
    "\n",
    "train_padded_seqeunces = tf.keras.preprocessing.sequence.pad_sequences(train_sequences, maxlen=maxlen)\n",
    "test_padded_seqeunces = tf.keras.preprocessing.sequence.pad_sequences(text_sequences, maxlen=maxlen)\n",
    "\n",
    "train_padded_seqeunces = train_padded_seqeunces[:, :, tf.newaxis]\n",
    "test_padded_seqeunces = test_padded_seqeunces[:, :, tf.newaxis]\n",
    "\n",
    "x_train_padded_seqeunces = train_padded_seqeunces[:, :, tf.newaxis]\n",
    "x_test_padded_seqeunces = test_padded_seqeunces[:, :, tf.newaxis]\n",
    "\n",
    "vectorizer = CountVectorizer(max_features=num_words)\n",
    "vectorizer.fit(X_train)\n",
    "X_train = vectorizer.transform(X_train).toarray()\n",
    "\n",
    "vectorizer = CountVectorizer(max_features=num_words)\n",
    "vectorizer.fit(X_test)\n",
    "X_test = vectorizer.transform(X_test).toarray()"
   ]
  },
  {
   "cell_type": "code",
   "execution_count": null,
   "metadata": {},
   "outputs": [],
   "source": [
    "\n",
    "with open('../models/MLPClassifierWithGridSearchCV.pkl', 'rb') as arquivo:\n",
    "    clf = pickle.load(arquivo)\n",
    "    \n",
    "modelLSTM = load_model('../models/modelLSTM.keras')\n",
    "modelHAN = load_model('../models/modelHAN.keras')\n"
   ]
  },
  {
   "cell_type": "markdown",
   "metadata": {},
   "source": [
    "#### MLP"
   ]
  },
  {
   "cell_type": "code",
   "execution_count": null,
   "metadata": {},
   "outputs": [
    {
     "name": "stdout",
     "output_type": "stream",
     "text": [
      "Inicio do Teste\n",
      "====================\n",
      "Matriz de confusão\n"
     ]
    },
    {
     "data": {
      "image/png": "[encoded data removed]",
      "text/plain": [
       "<Figure size 640x480 with 2 Axes>"
      ]
     },
     "metadata": {},
     "output_type": "display_data"
    },
    {
     "name": "stdout",
     "output_type": "stream",
     "text": [
      "Fim do Teste\n"
     ]
    }
   ],
   "source": [
    "\n",
    "print(\"Inicio do Teste\")\n",
    "y_test_pred = clf.predict(X_test)\n",
    "y_test_pred = (y_test_pred > 0.70)\n",
    "mlp_acc = round(accuracy_score(y_test, y_test_pred), 2)\n",
    "\n",
    "cm = confusion_matrix(y_test, y_test_pred)\n",
    "\n",
    "print(\"=\" * 20)\n",
    "print(\"Matriz de confusão\")\n",
    "cm_percentage = cm.astype('float') / cm.sum(axis=1)[:, np.newaxis] * 100\n",
    "\n",
    "disp = ConfusionMatrixDisplay(confusion_matrix=cm_percentage, display_labels=['Falsa','Verdadeira'])\n",
    "\n",
    "disp.plot( values_format='.0f')\n",
    "disp.ax_.set(xlabel='Previsão', ylabel='Verdade')\n",
    "\n",
    "#plt.savefig('../matriz/confusion_matrix_MLP%.png')\n",
    "plt.show()\n",
    "print(\"Fim do Teste\")\n",
    "\n",
    "\n"
   ]
  },
  {
   "cell_type": "markdown",
   "metadata": {},
   "source": [
    "#### RNN (LSTM bidirecionais)"
   ]
  },
  {
   "cell_type": "code",
   "execution_count": null,
   "metadata": {},
   "outputs": [
    {
     "name": "stdout",
     "output_type": "stream",
     "text": [
      "Inicio do Teste\n",
      "68/68 [==============================] - 5s 55ms/step\n",
      "              precision    recall  f1-score   support\n",
      "\n",
      "           0       0.90      0.97      0.93      1080\n",
      "           1       0.97      0.89      0.93      1080\n",
      "\n",
      "    accuracy                           0.93      2160\n",
      "   macro avg       0.93      0.93      0.93      2160\n",
      "weighted avg       0.93      0.93      0.93      2160\n",
      "\n",
      "Matriz de confusão\n"
     ]
    },
    {
     "data": {
      "image/png": "[encoded data removed]",
      "text/plain": [
       "<Figure size 640x480 with 2 Axes>"
      ]
     },
     "metadata": {},
     "output_type": "display_data"
    },
    {
     "name": "stdout",
     "output_type": "stream",
     "text": [
      "Fim dos testes\n",
      "==============================\n"
     ]
    }
   ],
   "source": [
    "\n",
    "print(\"Inicio do Teste\")\n",
    "\n",
    "y_test_pred = modelLSTM.predict(test_padded_seqeunces)\n",
    "y_test_pred = (y_test_pred > 0.70)\n",
    "lstm_acc = round(accuracy_score(y_test, y_test_pred) * 100, 2)\n",
    "\n",
    "cm = confusion_matrix(y_test, y_test_pred)\n",
    "cm = cm.astype('float') / cm.sum(axis=1)[:, np.newaxis] * 100\n",
    "print(classification_report(y_test, y_test_pred))\n",
    "\n",
    "print(\"Matriz de confusão\")\n",
    "disp = ConfusionMatrixDisplay(confusion_matrix=cm, display_labels=['Falsa','Verdadeira'], )\n",
    "disp.plot(values_format='.0f')\n",
    "disp.ax_.set(xlabel='Previsão', ylabel='Verdade')\n",
    "\n",
    "#plt.savefig('../matriz/confusion_matrix_LSTM%.png')\n",
    "plt.show()\n",
    "\n",
    "print(\"Fim dos testes\")\n",
    "\n",
    "print(\"=\" * 30)\n",
    "\n",
    "\n"
   ]
  },
  {
   "cell_type": "markdown",
   "metadata": {},
   "source": [
    "#### RNN (HAN)"
   ]
  },
  {
   "cell_type": "code",
   "execution_count": null,
   "metadata": {},
   "outputs": [
    {
     "name": "stdout",
     "output_type": "stream",
     "text": [
      "Inicio do Teste\n",
      "68/68 [==============================] - 6s 74ms/step\n",
      "              precision    recall  f1-score   support\n",
      "\n",
      "           0       0.92      0.93      0.92      1080\n",
      "           1       0.93      0.91      0.92      1080\n",
      "\n",
      "    accuracy                           0.92      2160\n",
      "   macro avg       0.92      0.92      0.92      2160\n",
      "weighted avg       0.92      0.92      0.92      2160\n",
      "\n",
      "Matriz de confusão\n"
     ]
    },
    {
     "data": {
      "image/png": "[encoded data removed]",
      "text/plain": [
       "<Figure size 640x480 with 2 Axes>"
      ]
     },
     "metadata": {},
     "output_type": "display_data"
    },
    {
     "name": "stdout",
     "output_type": "stream",
     "text": [
      "Fim dos testes\n"
     ]
    }
   ],
   "source": [
    "\n",
    "print(\"Inicio do Teste\")\n",
    "y_test_pred = modelHAN.predict(test_padded_seqeunces)\n",
    "y_test_pred = (y_test_pred > 0.60)\n",
    "han_acc = round(accuracy_score(y_test, y_test_pred) * 100, 2)\n",
    "print(classification_report(y_test, y_test_pred))\n",
    "\n",
    "cm = confusion_matrix(y_test, y_test_pred)\n",
    "cm = cm.astype('float') / cm.sum(axis=1)[:, np.newaxis] * 100\n",
    "\n",
    "print(\"Matriz de confusão\")\n",
    "disp = ConfusionMatrixDisplay(confusion_matrix=cm, display_labels=['Falsa','Verdadeira'], )\n",
    "disp.plot(values_format='.0f')\n",
    "disp.ax_.set(xlabel='Previsão', ylabel='Verdade')\n",
    "\n",
    "#plt.savefig('../matriz/confusion_matrix_HAN%.png')\n",
    "plt.show()\n",
    "\n",
    "print(\"Fim dos testes\")\n"
   ]
  },
  {
   "cell_type": "code",
   "execution_count": null,
   "metadata": {},
   "outputs": [
    {
     "name": "stdout",
     "output_type": "stream",
     "text": [
      "==============================\n"
     ]
    },
    {
     "ename": "NameError",
     "evalue": "name 'historyHAN' is not defined",
     "output_type": "error",
     "traceback": [
      "\u001b[1;31m---------------------------------------------------------------------------\u001b[0m",
      "\u001b[1;31mNameError\u001b[0m                                 Traceback (most recent call last)",
      "Cell \u001b[1;32mIn[19], line 3\u001b[0m\n\u001b[0;32m      1\u001b[0m \u001b[38;5;28mprint\u001b[39m(\u001b[38;5;124m\"\u001b[39m\u001b[38;5;124m=\u001b[39m\u001b[38;5;124m\"\u001b[39m \u001b[38;5;241m*\u001b[39m \u001b[38;5;241m30\u001b[39m)\n\u001b[1;32m----> 3\u001b[0m plt\u001b[38;5;241m.\u001b[39mplot(\u001b[43mhistoryHAN\u001b[49m\u001b[38;5;241m.\u001b[39mhistory[\u001b[38;5;124m'\u001b[39m\u001b[38;5;124mloss\u001b[39m\u001b[38;5;124m'\u001b[39m])\n\u001b[0;32m      4\u001b[0m plt\u001b[38;5;241m.\u001b[39mtitle(\u001b[38;5;124m'\u001b[39m\u001b[38;5;124mModel loss progress during training\u001b[39m\u001b[38;5;124m'\u001b[39m)\n\u001b[0;32m      5\u001b[0m plt\u001b[38;5;241m.\u001b[39mxlabel(\u001b[38;5;124m'\u001b[39m\u001b[38;5;124mEpoch\u001b[39m\u001b[38;5;124m'\u001b[39m)\n",
      "\u001b[1;31mNameError\u001b[0m: name 'historyHAN' is not defined"
     ]
    }
   ],
   "source": [
    "\n",
    "print(\"=\" * 30)\n",
    "\n",
    "plt.plot(historyHAN.history['loss'])\n",
    "plt.title('Model loss progress during training')\n",
    "plt.xlabel('Epoch')\n",
    "plt.ylabel('Training loss')\n",
    "plt.legend(['Training loss'])\n",
    "#plt.savefig('../graficos/loss_han.png')\n",
    "\n"
   ]
  },
  {
   "cell_type": "code",
   "execution_count": null,
   "metadata": {},
   "outputs": [],
   "source": [
    "\n",
    "plt.plot(historyHAN.history['accuracy'])\n",
    "plt.title('Model accuracy progress during training')\n",
    "plt.xlabel('Epoch')\n",
    "plt.ylabel('Training accuracy')\n",
    "plt.legend(['Training accuracy'])\n",
    "#plt.savefig('../graficos/accuracy_han.png')\n",
    "\n"
   ]
  },
  {
   "cell_type": "code",
   "execution_count": null,
   "metadata": {},
   "outputs": [],
   "source": [
    "plot_model(model_han, to_file='../summery/han.png', show_shapes=True, show_layer_names=True)"
   ]
  },
  {
   "cell_type": "code",
   "execution_count": null,
   "metadata": {},
   "outputs": [
    {
     "ename": "NameError",
     "evalue": "name 'clp' is not defined",
     "output_type": "error",
     "traceback": [
      "\u001b[1;31m---------------------------------------------------------------------------\u001b[0m",
      "\u001b[1;31mNameError\u001b[0m                                 Traceback (most recent call last)",
      "Cell \u001b[1;32mIn[21], line 1\u001b[0m\n\u001b[1;32m----> 1\u001b[0m mlpG_train \u001b[38;5;241m=\u001b[39m  \u001b[38;5;28mround\u001b[39m(\u001b[43mclp\u001b[49m\u001b[38;5;241m.\u001b[39mbest_score_ \u001b[38;5;241m*\u001b[39m \u001b[38;5;241m100\u001b[39m, \u001b[38;5;241m0\u001b[39m)\n\u001b[0;32m      2\u001b[0m mlp_acc \u001b[38;5;241m=\u001b[39m  \u001b[38;5;28mround\u001b[39m(clp\u001b[38;5;241m.\u001b[39mbest_estimator_\u001b[38;5;241m.\u001b[39mscore(X_test, y_test) \u001b[38;5;241m*\u001b[39m \u001b[38;5;241m100\u001b[39m, \u001b[38;5;241m0\u001b[39m)\n\u001b[0;32m      3\u001b[0m LSTM_train \u001b[38;5;241m=\u001b[39m \u001b[38;5;28mround\u001b[39m(historyLSTM\u001b[38;5;241m.\u001b[39mhistory[\u001b[38;5;124m'\u001b[39m\u001b[38;5;124maccuracy\u001b[39m\u001b[38;5;124m'\u001b[39m][\u001b[38;5;241m-\u001b[39m\u001b[38;5;241m1\u001b[39m] \u001b[38;5;241m*\u001b[39m \u001b[38;5;241m100\u001b[39m, \u001b[38;5;241m0\u001b[39m)\n",
      "\u001b[1;31mNameError\u001b[0m: name 'clp' is not defined"
     ]
    }
   ],
   "source": [
    "mlpG_train =  round(clp.best_score_ * 100, 0)\n",
    "mlp_acc =  round(clp.best_estimator_.score(X_test, y_test) * 100, 0)\n",
    "LSTM_train = round(historyLSTM.history['accuracy'][-1] * 100, 0)\n",
    "lstm_acc = round(accuracy_score(y_test, y_test_pred) * 100, 0)\n",
    "HAN_train = round(historyHAN.history['accuracy'][-1] * 100, 0)\n",
    "han_acc = round(accuracy_score(y_test, y_test_pred) * 100, 0)\n"
   ]
  },
  {
   "cell_type": "code",
   "execution_count": null,
   "metadata": {},
   "outputs": [],
   "source": [
    "model = pd.DataFrame({\n",
    "    'Model': [\n",
    "        'MLP',\n",
    "        'RNN LSTM(BI)',\n",
    "        'HAN'\n",
    "    ],\n",
    "    'Train Accuracy Score': [\n",
    "        \n",
    "        mlpG_train ,LSTM_train,HAN_train\n",
    "    ],\n",
    "    'Test Accuracy': [\n",
    "        \n",
    "        mlp_acc ,lstm_acc,han_acc\n",
    "    ]\n",
    "})"
   ]
  },
  {
   "cell_type": "code",
   "execution_count": null,
   "metadata": {},
   "outputs": [],
   "source": [
    "Train = model.sort_values('Test Accuracy',ascending=False)\n",
    "Train"
   ]
  }
 ],
 "metadata": {
  "interpreter": {
   "hash": "45f1f3757439874319ad1023556b798bdce3a703ab4652de42b8220c6c143c8c"
  },
  "kernelspec": {
   "display_name": "Python 3.9.13 ('ven': venv)",
   "language": "python",
   "name": "python3"
  },
  "language_info": {
   "codemirror_mode": {
    "name": "ipython",
    "version": 3
   },
   "file_extension": ".py",
   "mimetype": "text/x-python",
   "name": "python",
   "nbconvert_exporter": "python",
   "pygments_lexer": "ipython3",
   "version": "3.9.13"
  },
  "orig_nbformat": 4
 },
 "nbformat": 4,
 "nbformat_minor": 2
}
