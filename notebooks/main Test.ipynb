{
 "cells": [
  {
   "cell_type": "code",
   "execution_count": null,
   "metadata": {},
   "outputs": [],
   "source": [
    "import pandas as pd\n",
    "import numpy as np\n",
    "import tensorflow as tf\n",
    "\n",
    "import seaborn as sns\n",
    "import matplotlib.pyplot as plt\n",
    "from sklearn.feature_extraction.text import CountVectorizer\n",
    "from nltk.corpus import stopwords\n",
    "import re\n",
    "import string\n",
    "from sklearn.metrics import confusion_matrix,ConfusionMatrixDisplay, classification_report, accuracy_score\n",
    "from sklearn.neural_network import MLPClassifier\n",
    "from sklearn.tree import DecisionTreeClassifier\n",
    "from sklearn.model_selection import GridSearchCV\n",
    "from sklearn.linear_model import LogisticRegression, PassiveAggressiveClassifier\n",
    "import pickle\n",
    "import nltk\n",
    "nltk.download('stopwords')"
   ]
  },
  {
   "cell_type": "code",
   "execution_count": null,
   "metadata": {},
   "outputs": [],
   "source": [
    "df = pd.read_csv('../data/test.csv')\n",
    "df = df.drop(columns=['Unnamed: 0'])\n",
    "df.isnull().any()"
   ]
  },
  {
   "cell_type": "code",
   "execution_count": null,
   "metadata": {},
   "outputs": [],
   "source": [
    "stop_words = set(stopwords.words('portuguese'))\n",
    "\n",
    "def remover_stop_words(news):\n",
    "    palavras = news.split()\n",
    "    palavras_sem_stop = [palavra for palavra in palavras if palavra.lower() not in stop_words]\n",
    "    return ' '.join(palavras_sem_stop)\n",
    "\n",
    "def review_cleaning(text):\n",
    "    \n",
    "    text = str(text).lower()\n",
    "    text = re.sub('\\[.*?\\]', '', text)\n",
    "    text = re.sub('https?://\\S+|www\\.\\S+', '', text)\n",
    "    text = re.sub('<.*?>+', '', text)\n",
    "    text = re.sub('[%s]' % re.escape(string.punctuation), '', text)\n",
    "    text = re.sub('\\n', '', text)\n",
    "    text = re.sub('\\w*\\d\\w*', '', text)\n",
    "    return text\n",
    "\n",
    "df[\"preprocessed_news\"] = df[\"preprocessed_news\"].apply(remover_stop_words)\n",
    "df[\"preprocessed_news\"] = df[\"preprocessed_news\"].apply(review_cleaning)"
   ]
  },
  {
   "cell_type": "code",
   "execution_count": null,
   "metadata": {},
   "outputs": [],
   "source": [
    "df['label'] = df.apply(lambda row: 0 if row.label == 'fake' else 1, axis=1)\n",
    "\n",
    "X = df.drop(['label'], axis = 1)\n",
    "Y = df['label']"
   ]
  },
  {
   "cell_type": "code",
   "execution_count": null,
   "metadata": {},
   "outputs": [],
   "source": [
    "from sklearn.model_selection import train_test_split\n",
    "X = X['preprocessed_news'].apply(lambda x: x.lower())\n",
    "\n",
    "\n",
    "\n",
    "tokenizer = tf.keras.preprocessing.text.Tokenizer(oov_token='<OOV>')\n",
    "tokenizer.fit_on_texts(X.values)\n",
    "train_word_index = tokenizer.word_index\n",
    "vocab_length = len(train_word_index) + 1\n",
    "test_sequences = tokenizer.texts_to_sequences(X)\n",
    "test_padded_seqeunces = tf.keras.preprocessing.sequence.pad_sequences(test_sequences, padding='post', maxlen=256, truncating='post')\n",
    "\n",
    "\n",
    "vectorizer = CountVectorizer(max_features=10000)\n",
    "vectorizer.fit(X)\n",
    "X = vectorizer.transform(X).toarray()"
   ]
  },
  {
   "cell_type": "markdown",
   "metadata": {},
   "source": [
    "##### Logistic Regression\n"
   ]
  },
  {
   "cell_type": "code",
   "execution_count": null,
   "metadata": {},
   "outputs": [],
   "source": [
    "with open('../models/logisticRegression.pkl', 'rb') as arquivo:\n",
    "    lr_classifier = pickle.load(arquivo)\n",
    "\n",
    "\n",
    "y_test_pred = lr_classifier.predict(X)\n",
    "y_test_pred = (y_test_pred > 0.75)\n",
    "lr_classifier_acc = round(accuracy_score(y_test_pred, Y) * 100, 2)\n",
    "cm = confusion_matrix(Y, y_test_pred)\n",
    "print(classification_report(y_test_pred,Y))\n",
    "\n",
    "ConfusionMatrixDisplay(confusion_matrix=cm, display_labels=['Fake','True']).plot()\n",
    "\n"
   ]
  },
  {
   "cell_type": "markdown",
   "metadata": {},
   "source": [
    "##### Multilayer perceptron (MLP)"
   ]
  },
  {
   "cell_type": "code",
   "execution_count": null,
   "metadata": {},
   "outputs": [],
   "source": [
    "with open('../models/MLPClassifier.pkl', 'rb') as arquivo:\n",
    "    mlp = pickle.load(arquivo)\n",
    "\n",
    "\n",
    "y_test_pred = mlp.predict(X)\n",
    "y_test_pred = (y_test_pred > 0.75)\n",
    "mlp_acc = round(accuracy_score(y_test_pred, Y) * 100, 2)\n",
    "\n",
    "cm = confusion_matrix(Y, y_test_pred)\n",
    "print(classification_report(y_test_pred,Y))\n",
    "\n",
    "ConfusionMatrixDisplay(confusion_matrix=cm, display_labels=['Fake','True']).plot()\n"
   ]
  },
  {
   "cell_type": "markdown",
   "metadata": {},
   "source": [
    "##### Multilayer perceptron (MLP) Com GridSearchCV"
   ]
  },
  {
   "cell_type": "code",
   "execution_count": null,
   "metadata": {},
   "outputs": [],
   "source": [
    "with open('../models/MLPClassifierWithGridSearchCV.pkl', 'rb') as arquivo:\n",
    "    clf = pickle.load(arquivo)\n",
    "\n",
    "y_test_pred = clf.predict(X)\n",
    "y_test_pred = (y_test_pred > 0.75)\n",
    "mlpG_acc = round(accuracy_score(y_test_pred, Y) * 100, 2)\n",
    "\n",
    "cm = confusion_matrix(Y, y_test_pred)\n",
    "print(classification_report(y_test_pred,Y))\n",
    "\n",
    "ConfusionMatrixDisplay(confusion_matrix=cm, display_labels=['Fake','True']).plot()\n",
    "\n",
    "    "
   ]
  },
  {
   "cell_type": "markdown",
   "metadata": {},
   "source": [
    "#### Decision Tree"
   ]
  },
  {
   "cell_type": "code",
   "execution_count": null,
   "metadata": {},
   "outputs": [],
   "source": [
    "with open('../models/DecisionTreeClassifier.pkl', 'rb') as arquivo:\n",
    "    decisionTree = pickle.load(arquivo)\n",
    "\n",
    "y_test_pred = decisionTree.predict(X)\n",
    "y_test_pred = (y_test_pred > 0.75)\n",
    "decisionTree_acc = round(accuracy_score(y_test_pred, Y) * 100, 2)\n",
    "\n",
    "cm = confusion_matrix(Y, y_test_pred)\n",
    "print(classification_report(y_test_pred,Y))\n",
    "\n",
    "ConfusionMatrixDisplay(confusion_matrix=cm, display_labels=['Fake','True']).plot()\n"
   ]
  },
  {
   "cell_type": "markdown",
   "metadata": {},
   "source": [
    "#### Passive Aggressive"
   ]
  },
  {
   "cell_type": "code",
   "execution_count": null,
   "metadata": {},
   "outputs": [],
   "source": [
    "with open('../models/PassiveAggressiveClassifier.pkl', 'rb') as arquivo:\n",
    "    passive = pickle.load(arquivo)\n",
    "\n",
    "x_test_pred = passive.predict(X)\n",
    "y_test_pred = (y_test_pred > 0.75)\n",
    "passive_acc = round(accuracy_score(y_test_pred, Y) * 100, 2)\n",
    "\n",
    "cm = confusion_matrix(Y, y_test_pred)\n",
    "print(classification_report(y_test_pred,Y))\n",
    "\n",
    "ConfusionMatrixDisplay(confusion_matrix=cm, display_labels=['Fake','True']).plot()\n"
   ]
  },
  {
   "cell_type": "markdown",
   "metadata": {},
   "source": [
    "RNN"
   ]
  },
  {
   "cell_type": "code",
   "execution_count": null,
   "metadata": {},
   "outputs": [],
   "source": [
    "\n",
    "\n",
    "\n",
    "print(f'Vocab length {vocab_length}, Train sequences {len(test_sequences)}, Test sequences {len(test_sequences)} ')"
   ]
  },
  {
   "cell_type": "code",
   "execution_count": null,
   "metadata": {},
   "outputs": [],
   "source": [
    "y_train_pred.shape"
   ]
  },
  {
   "cell_type": "code",
   "execution_count": null,
   "metadata": {},
   "outputs": [],
   "source": [
    "from tensorflow.keras.models import load_model\n",
    "\n",
    "rnn = load_model('../models/modelo_rnn.h5')\n",
    "y_test_pred = rnn.predict(test_padded_seqeunces)\n",
    "y_test_pred = (y_train_pred > 0.75)\n",
    "rnn_acc = round(accuracy_score(y_test_pred, Y) * 100, 2)\n",
    "Y=Y[:5000]\n",
    "cm = confusion_matrix(Y, y_test_pred)\n",
    "print(classification_report(y_test_pred,Y))\n",
    "\n",
    "ConfusionMatrixDisplay(confusion_matrix=cm, display_labels=['Fake','True']).plot()\n"
   ]
  },
  {
   "cell_type": "markdown",
   "metadata": {},
   "source": [
    "### Comparando Modelos Diferentes"
   ]
  },
  {
   "cell_type": "code",
   "execution_count": null,
   "metadata": {},
   "outputs": [],
   "source": [
    "\n",
    "models = pd.DataFrame({\n",
    "    'Model': [\n",
    "        'Logistic Regression',\n",
    "        'Decision Tree',\n",
    "        'MLPClassifier',\n",
    "        'MLPClassifier with GridSearchCV',\n",
    "        'RNN',\n",
    "        'PassiveAggressiveClassifier'\n",
    "    ],\n",
    "    'Model Accuracy Score': [\n",
    "        lr_classifier_acc, decisionTree_acc,\n",
    "        mlp_acc,mlpG_acc,rnn_acc, passive_acc\n",
    "    ]\n",
    "})"
   ]
  },
  {
   "cell_type": "code",
   "execution_count": null,
   "metadata": {},
   "outputs": [],
   "source": [
    "models_sorted = models.sort_values(by='Model Accuracy Score', ascending=False)\n",
    "\n",
    "models_sorted = models_sorted.reset_index(drop=True)\n",
    "\n",
    "styled_df = models_sorted.style.background_gradient(cmap='coolwarm')\n",
    "\n",
    "styled_df.set_properties(**{\n",
    "    'font-family': 'Lucida Calligraphy',\n",
    "    'color': 'LightGreen',\n",
    "    'font-size': '15px'\n",
    "})"
   ]
  }
 ],
 "metadata": {
  "interpreter": {
   "hash": "45f1f3757439874319ad1023556b798bdce3a703ab4652de42b8220c6c143c8c"
  },
  "kernelspec": {
   "display_name": "Python 3.9.13 ('ven': venv)",
   "language": "python",
   "name": "python3"
  },
  "language_info": {
   "codemirror_mode": {
    "name": "ipython",
    "version": 3
   },
   "file_extension": ".py",
   "mimetype": "text/x-python",
   "name": "python",
   "nbconvert_exporter": "python",
   "pygments_lexer": "ipython3",
   "version": "3.9.13"
  },
  "orig_nbformat": 4
 },
 "nbformat": 4,
 "nbformat_minor": 2
}
