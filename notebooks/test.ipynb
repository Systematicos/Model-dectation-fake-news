{
 "cells": [
  {
   "cell_type": "code",
   "execution_count": null,
   "metadata": {},
   "outputs": [],
   "source": [
    "import pandas as pd\n",
    "import numpy as np\n",
    "import seaborn as sns\n",
    "import matplotlib.pyplot as plt\n",
    "from sklearn.feature_extraction.text import CountVectorizer\n",
    "from nltk.corpus import stopwords\n",
    "import re\n",
    "import string\n",
    "from sklearn.metrics import confusion_matrix,ConfusionMatrixDisplay, classification_report, accuracy_score\n",
    "from sklearn.neural_network import MLPClassifier\n",
    "from sklearn.tree import DecisionTreeClassifier\n",
    "from sklearn.model_selection import GridSearchCV\n",
    "from sklearn.linear_model import LogisticRegression, PassiveAggressiveClassifier\n",
    "import pickle\n",
    "import tensorflow as tf\n",
    "from tensorflow.keras.models import load_model\n",
    "\n",
    "import nltk\n",
    "nltk.download('stopwords')"
   ]
  },
  {
   "cell_type": "code",
   "execution_count": null,
   "metadata": {},
   "outputs": [],
   "source": [
    "df = pd.read_csv('../data/train.csv')\n",
    "df = df.drop(columns=['Unnamed: 0'])\n",
    "\n",
    "df.isnull().any()"
   ]
  },
  {
   "cell_type": "code",
   "execution_count": null,
   "metadata": {},
   "outputs": [],
   "source": [
    "stop_words = set(stopwords.words('portuguese'))\n",
    "\n",
    "def remover_stop_words(news):\n",
    "    palavras = news.split()\n",
    "    palavras_sem_stop = [palavra for palavra in palavras if palavra.lower() not in stop_words]\n",
    "    return ' '.join(palavras_sem_stop)\n",
    "\n",
    "def review_cleaning(text):\n",
    "    \n",
    "    text = str(text).lower()\n",
    "    text = re.sub('\\[.*?\\]', '', text)\n",
    "    text = re.sub('https?://\\S+|www\\.\\S+', '', text)\n",
    "    text = re.sub('<.*?>+', '', text)\n",
    "    text = re.sub('[%s]' % re.escape(string.punctuation), '', text)\n",
    "    text = re.sub('\\n', '', text)\n",
    "    text = re.sub('\\w*\\d\\w*', '', text)\n",
    "    return text\n",
    "\n",
    "df[\"preprocessed_news\"] = df[\"preprocessed_news\"].apply(remover_stop_words)\n",
    "df[\"preprocessed_news\"] = df[\"preprocessed_news\"].apply(review_cleaning)\n"
   ]
  },
  {
   "cell_type": "code",
   "execution_count": null,
   "metadata": {},
   "outputs": [],
   "source": [
    "df['label'] = df.apply(lambda row: 0 if row.label == 'fake' else 1, axis=1)\n",
    "\n",
    "X_train = df.drop(['label'], axis = 1)\n",
    "Y_train = df['label']"
   ]
  },
  {
   "cell_type": "code",
   "execution_count": null,
   "metadata": {},
   "outputs": [],
   "source": [
    "X_train = X_train['preprocessed_news'].apply(lambda x: x.lower())\n",
    "\n",
    "train_tokenizer = tf.keras.preprocessing.text.Tokenizer(oov_token='<OOV>')\n",
    "train_tokenizer.fit_on_texts(X_train.values)\n",
    "train_word_index = train_tokenizer.word_index\n",
    "train_sequences = train_tokenizer.texts_to_sequences(X_train)\n",
    "vocab_length = len(train_word_index) + 1\n",
    "maxlen=256\n",
    "train_padded_seqeunces = tf.keras.preprocessing.sequence.pad_sequences(train_sequences, padding='post', maxlen=maxlen, truncating='post')\n",
    "\n",
    "\n",
    "vectorizer = CountVectorizer(max_features=8000)\n",
    "vectorizer.fit(X_train)\n",
    "X_train = vectorizer.transform(X_train).toarray()"
   ]
  },
  {
   "cell_type": "markdown",
   "metadata": {},
   "source": [
    "##### Logistic Regression\n"
   ]
  },
  {
   "cell_type": "code",
   "execution_count": null,
   "metadata": {},
   "outputs": [],
   "source": [
    "lr_classifier = LogisticRegression()\n",
    "lr_classifier.fit(X_train,Y_train)\n",
    "lr_classifier_train = round(lr_classifier.score(X_train, Y_train) * 100, 2)\n",
    "\n",
    "with open('../models/logisticRegression.pkl', 'wb') as arquivo:\n",
    "    pickle.dump(lr_classifier, arquivo)"
   ]
  },
  {
   "cell_type": "markdown",
   "metadata": {},
   "source": [
    "##### Multilayer perceptron (MLP)"
   ]
  },
  {
   "cell_type": "code",
   "execution_count": null,
   "metadata": {},
   "outputs": [],
   "source": [
    "mlp = MLPClassifier(random_state=1)\n",
    "mlp.fit(X_train,Y_train)\n",
    "mlp_train = round(mlp.score(X_train, Y_train) * 100, 2)\n",
    "\n",
    "with open('../models/MLPClassifier.pkl', 'wb') as arquivo:\n",
    "    pickle.dump(mlp, arquivo)\n"
   ]
  },
  {
   "cell_type": "markdown",
   "metadata": {},
   "source": [
    "##### Multilayer perceptron (MLP) Com GridSearchCV"
   ]
  },
  {
   "cell_type": "code",
   "execution_count": null,
   "metadata": {},
   "outputs": [],
   "source": [
    "parameters = {'solver': ['sgd', 'lbfgs'],\n",
    "              'hidden_layer_sizes':(20, 10,4), \n",
    "              'random_state':[2],\n",
    "              'activation': ['tanh', 'relu'],\n",
    "              'max_iter': [2000000],\n",
    "              \"batch_size\" : [\"auto\"],\n",
    "              \"learning_rate_init\": [0.004],\n",
    "              \"validation_fraction\":[0.3],\n",
    "              \"learning_rate\": ['constant']\n",
    "              }\n",
    "\n",
    "clf = GridSearchCV(MLPClassifier(), parameters, cv=2)\n",
    "clf.fit(X_train,Y_train)\n",
    "mlpG_train = round(clf.score(X_train, Y_train) * 100, 2)\n",
    "\n",
    "\n",
    "with open('../models/MLPClassifierWithGridSearchCV.pkl', 'wb') as arquivo:\n",
    "    pickle.dump(clf, arquivo)\n"
   ]
  },
  {
   "cell_type": "markdown",
   "metadata": {},
   "source": [
    "#### Decision Tree"
   ]
  },
  {
   "cell_type": "code",
   "execution_count": null,
   "metadata": {},
   "outputs": [],
   "source": [
    "decisionTree = DecisionTreeClassifier()\n",
    "decisionTree.fit(X_train,Y_train)\n",
    "decisionTree_train = round(clf.score(X_train, Y_train) * 100, 2)\n",
    "\n",
    "with open('../models/decisionTree.pkl', 'wb') as arquivo:\n",
    "    pickle.dump(decisionTree, arquivo)"
   ]
  },
  {
   "cell_type": "markdown",
   "metadata": {},
   "source": [
    "#### RNN"
   ]
  },
  {
   "cell_type": "code",
   "execution_count": null,
   "metadata": {},
   "outputs": [],
   "source": [
    "output_dim = 64\n",
    "epochs = 200\n",
    "tf.keras.backend.clear_session()\n",
    "\n",
    "modelSimpleRNN = tf.keras.models.Sequential()\n",
    "modelSimpleRNN.add(tf.keras.layers.Embedding(vocab_length, output_dim, input_length=maxlen))\n",
    "modelSimpleRNN.add(tf.keras.layers.GRU(60, activation='tanh', return_sequences=True))\n",
    "modelSimpleRNN.add(tf.keras.layers.Conv1D(30, 3, activation='relu'))\n",
    "modelSimpleRNN.add(tf.keras.layers.LSTM(30, return_sequences=True))\n",
    "modelSimpleRNN.add(tf.keras.layers.SimpleRNN(3, activation='tanh'))\n",
    "modelSimpleRNN.add(tf.keras.layers.Dropout(0.25))\n",
    "modelSimpleRNN.add(tf.keras.layers.Dense(24, activation='relu'))\n",
    "modelSimpleRNN.add(tf.keras.layers.Dense(units = 1, activation='sigmoid'))\n",
    "modelSimpleRNN.compile(optimizer='adam', loss='binary_crossentropy', metrics=['accuracy'])\n",
    "\n",
    "historySimpleRNN = modelSimpleRNN.fit(train_padded_seqeunces, Y_train, epochs=epochs, validation_split=0.1)\n",
    "rnn_train = round(historySimpleRNN.history['accuracy'][-1] * 100, 2)\n",
    "modelSimpleRNN.save('../models/modelo_rnn.keras', save_format='tf')\n"
   ]
  },
  {
   "cell_type": "markdown",
   "metadata": {},
   "source": [
    "#### LSTM (BI)"
   ]
  },
  {
   "cell_type": "code",
   "execution_count": null,
   "metadata": {},
   "outputs": [],
   "source": [
    "output_dim = 64\n",
    "epochs = 200\n",
    "batch_size = 32\n",
    "tf.keras.backend.clear_session()\n",
    "\n",
    "modelLSTM = tf.keras.Sequential([\n",
    "    tf.keras.layers.Embedding(vocab_length, output_dim, input_length=maxlen),\n",
    "    tf.keras.layers.Bidirectional(tf.keras.layers.LSTM(50,  return_sequences=True)),\n",
    "    tf.keras.layers.Bidirectional(tf.keras.layers.LSTM(20)),\n",
    "    tf.keras.layers.Bidirectional(tf.keras.layers.LSTM(10)),\n",
    "    tf.keras.layers.Dense(5, activation='relu'),\n",
    "    tf.keras.layers.Dropout(0.5),\n",
    "    tf.keras.layers.Dense(1)\n",
    "])\n",
    "modelLSTM.compile(optimizer='adam', loss='binary_crossentropy', metrics=['accuracy'])\n",
    "\n",
    "historyLSTM = modelLSTM.fit(train_padded_seqeunces, Y_train, epochs=epochs, validation_split=0.1)\n",
    "LSTM_train = round(historyLSTM.history['accuracy'][-1] * 100, 2)\n",
    "modelLSTM.save('../models/modelLSTM.keras', save_format='tf')"
   ]
  },
  {
   "cell_type": "markdown",
   "metadata": {},
   "source": [
    "## Test"
   ]
  },
  {
   "cell_type": "code",
   "execution_count": 159,
   "metadata": {},
   "outputs": [
    {
     "data": {
      "text/html": [
       "<div>\n",
       "<style scoped>\n",
       "    .dataframe tbody tr th:only-of-type {\n",
       "        vertical-align: middle;\n",
       "    }\n",
       "\n",
       "    .dataframe tbody tr th {\n",
       "        vertical-align: top;\n",
       "    }\n",
       "\n",
       "    .dataframe thead th {\n",
       "        text-align: right;\n",
       "    }\n",
       "</style>\n",
       "<table border=\"1\" class=\"dataframe\">\n",
       "  <thead>\n",
       "    <tr style=\"text-align: right;\">\n",
       "      <th></th>\n",
       "      <th>label</th>\n",
       "      <th>preprocessed_news</th>\n",
       "    </tr>\n",
       "  </thead>\n",
       "  <tbody>\n",
       "    <tr>\n",
       "      <th>0</th>\n",
       "      <td>1</td>\n",
       "      <td>kátia abreu diz vai colocar expulsão moldura r...</td>\n",
       "    </tr>\n",
       "    <tr>\n",
       "      <th>1</th>\n",
       "      <td>1</td>\n",
       "      <td>blog esquerdista dá entender reclamar dedada f...</td>\n",
       "    </tr>\n",
       "    <tr>\n",
       "      <th>2</th>\n",
       "      <td>1</td>\n",
       "      <td>alckmin diz psdb desembarca explica utilizará ...</td>\n",
       "    </tr>\n",
       "    <tr>\n",
       "      <th>3</th>\n",
       "      <td>1</td>\n",
       "      <td>cara pau limites zé celso aciona mp contra sil...</td>\n",
       "    </tr>\n",
       "    <tr>\n",
       "      <th>4</th>\n",
       "      <td>1</td>\n",
       "      <td>temer resolve problema luislinda liberdade ain...</td>\n",
       "    </tr>\n",
       "    <tr>\n",
       "      <th>...</th>\n",
       "      <td>...</td>\n",
       "      <td>...</td>\n",
       "    </tr>\n",
       "    <tr>\n",
       "      <th>395</th>\n",
       "      <td>1</td>\n",
       "      <td>repórter folha ironiza atuação sérgio moro tom...</td>\n",
       "    </tr>\n",
       "    <tr>\n",
       "      <th>396</th>\n",
       "      <td>1</td>\n",
       "      <td>malafaia defende bolsonaro acaba folha sp jorn...</td>\n",
       "    </tr>\n",
       "    <tr>\n",
       "      <th>397</th>\n",
       "      <td>1</td>\n",
       "      <td>número seguidores redes sociais pode definir e...</td>\n",
       "    </tr>\n",
       "    <tr>\n",
       "      <th>398</th>\n",
       "      <td>1</td>\n",
       "      <td>delegado pf denuncia plano falso atentado cont...</td>\n",
       "    </tr>\n",
       "    <tr>\n",
       "      <th>399</th>\n",
       "      <td>1</td>\n",
       "      <td>harvard armas mãos população igual menos crime...</td>\n",
       "    </tr>\n",
       "  </tbody>\n",
       "</table>\n",
       "<p>400 rows × 2 columns</p>\n",
       "</div>"
      ],
      "text/plain": [
       "     label                                  preprocessed_news\n",
       "0        1  kátia abreu diz vai colocar expulsão moldura r...\n",
       "1        1  blog esquerdista dá entender reclamar dedada f...\n",
       "2        1  alckmin diz psdb desembarca explica utilizará ...\n",
       "3        1  cara pau limites zé celso aciona mp contra sil...\n",
       "4        1  temer resolve problema luislinda liberdade ain...\n",
       "..     ...                                                ...\n",
       "395      1  repórter folha ironiza atuação sérgio moro tom...\n",
       "396      1  malafaia defende bolsonaro acaba folha sp jorn...\n",
       "397      1  número seguidores redes sociais pode definir e...\n",
       "398      1  delegado pf denuncia plano falso atentado cont...\n",
       "399      1  harvard armas mãos população igual menos crime...\n",
       "\n",
       "[400 rows x 2 columns]"
      ]
     },
     "execution_count": 159,
     "metadata": {},
     "output_type": "execute_result"
    }
   ],
   "source": [
    "#df_test = pd.read_csv('../data/pre-processed.csv')\n",
    "\n",
    "df_test = pd.read_csv('../data/dataset_0_palavras.csv')\n",
    "df_test = df_test.drop(columns=['Unnamed: 0', 'ID', 'author',\n",
    "       'average_word_length', 'category', 'date_publication', 'link',\n",
    "       'percent_speeling_errors', 'number_words'])\n",
    "\n",
    "df_test = df_test.rename(columns={'fake_news': 'label'})\n",
    "df_test = df_test.rename(columns={'text': 'preprocessed_news'})\n",
    "\n",
    "df_test = df_test.drop(df_test.index[400:], inplace=False)\n",
    "df_test"
   ]
  },
  {
   "cell_type": "code",
   "execution_count": 160,
   "metadata": {},
   "outputs": [],
   "source": [
    "maxlen=256\n",
    "\n",
    "\n",
    "stop_words = set(stopwords.words('portuguese'))\n",
    "\n",
    "def remover_stop_words(news):\n",
    "    palavras = news.split()\n",
    "    palavras_sem_stop = [palavra for palavra in palavras if palavra.lower() not in stop_words]\n",
    "    return ' '.join(palavras_sem_stop)\n",
    "\n",
    "def review_cleaning(text):\n",
    "    \n",
    "    text = str(text).lower()\n",
    "    text = re.sub('\\[.*?\\]', '', text)\n",
    "    text = re.sub('https?://\\S+|www\\.\\S+', '', text)\n",
    "    text = re.sub('<.*?>+', '', text)\n",
    "    text = re.sub('[%s]' % re.escape(string.punctuation), '', text)\n",
    "    text = re.sub('\\n', '', text)\n",
    "    text = re.sub('\\w*\\d\\w*', '', text)\n",
    "    return text\n",
    "\n",
    "df_test[\"preprocessed_news\"] = df_test[\"preprocessed_news\"].apply(remover_stop_words)\n",
    "df_test[\"preprocessed_news\"] = df_test[\"preprocessed_news\"].apply(review_cleaning)\n",
    "\n",
    "df_test['label'] = df_test.apply(lambda row: 0 if row.label == 'fake' else 1, axis=1)\n",
    "\n",
    "X_test = df_test['preprocessed_news'].apply(lambda x: x.lower())\n",
    "\n",
    "test_tokenizer = tf.keras.preprocessing.text.Tokenizer(oov_token='<OOV>')\n",
    "test_tokenizer.fit_on_texts(X_test.values)\n",
    "test_word_index = test_tokenizer.word_index\n",
    "test_sequences = test_tokenizer.texts_to_sequences(X_test)\n",
    "vocab_length = len(test_word_index) + 1\n",
    "maxlen=256\n",
    "test_padded_seqeunces = tf.keras.preprocessing.sequence.pad_sequences(test_sequences, padding='post', maxlen=maxlen, truncating='post')\n",
    "\n",
    "\n",
    "vectorizer = CountVectorizer(max_features=8000)\n",
    "vectorizer.fit(X_test)\n",
    "X_test = vectorizer.transform(X_test).toarray()\n",
    "Y_test = df_test['label']\n"
   ]
  },
  {
   "cell_type": "code",
   "execution_count": 161,
   "metadata": {},
   "outputs": [],
   "source": [
    "with open('../models/logisticRegression.pkl', 'rb') as arquivo:\n",
    "    lr_classifier = pickle.load(arquivo)\n",
    "with open('../models/MLPClassifier.pkl', 'rb') as arquivo:\n",
    "    mlp = pickle.load(arquivo)\n",
    "with open('../models/MLPClassifierWithGridSearchCV.pkl', 'rb') as arquivo:\n",
    "    mlpG = pickle.load(arquivo)\n",
    "with open('../models/decisionTree.pkl', 'rb') as arquivo:\n",
    "    decisionTree = pickle.load(arquivo)\n",
    "    \n",
    "rnn = load_model('../models/modelo_rnn.keras')\n",
    "modelLSTM = load_model('../models/modelLSTM.keras')\n"
   ]
  },
  {
   "cell_type": "markdown",
   "metadata": {},
   "source": [
    "##### Logistic Regression\n"
   ]
  },
  {
   "cell_type": "code",
   "execution_count": 162,
   "metadata": {},
   "outputs": [
    {
     "name": "stdout",
     "output_type": "stream",
     "text": [
      "              precision    recall  f1-score   support\n",
      "\n",
      "           0       0.00      0.00      0.00       0.0\n",
      "           1       0.00      0.00      0.00     400.0\n",
      "\n",
      "    accuracy                           0.00     400.0\n",
      "   macro avg       0.00      0.00      0.00     400.0\n",
      "weighted avg       0.00      0.00      0.00     400.0\n",
      "\n"
     ]
    },
    {
     "name": "stderr",
     "output_type": "stream",
     "text": [
      "c:\\Users\\gyova\\Documents\\Projetos\\Model-dectation-fake-news\\ven\\lib\\site-packages\\sklearn\\metrics\\_classification.py:1469: UndefinedMetricWarning: Precision and F-score are ill-defined and being set to 0.0 in labels with no predicted samples. Use `zero_division` parameter to control this behavior.\n",
      "  _warn_prf(average, modifier, msg_start, len(result))\n",
      "c:\\Users\\gyova\\Documents\\Projetos\\Model-dectation-fake-news\\ven\\lib\\site-packages\\sklearn\\metrics\\_classification.py:1469: UndefinedMetricWarning: Recall and F-score are ill-defined and being set to 0.0 in labels with no true samples. Use `zero_division` parameter to control this behavior.\n",
      "  _warn_prf(average, modifier, msg_start, len(result))\n",
      "c:\\Users\\gyova\\Documents\\Projetos\\Model-dectation-fake-news\\ven\\lib\\site-packages\\sklearn\\metrics\\_classification.py:1469: UndefinedMetricWarning: Precision and F-score are ill-defined and being set to 0.0 in labels with no predicted samples. Use `zero_division` parameter to control this behavior.\n",
      "  _warn_prf(average, modifier, msg_start, len(result))\n",
      "c:\\Users\\gyova\\Documents\\Projetos\\Model-dectation-fake-news\\ven\\lib\\site-packages\\sklearn\\metrics\\_classification.py:1469: UndefinedMetricWarning: Recall and F-score are ill-defined and being set to 0.0 in labels with no true samples. Use `zero_division` parameter to control this behavior.\n",
      "  _warn_prf(average, modifier, msg_start, len(result))\n",
      "c:\\Users\\gyova\\Documents\\Projetos\\Model-dectation-fake-news\\ven\\lib\\site-packages\\sklearn\\metrics\\_classification.py:1469: UndefinedMetricWarning: Precision and F-score are ill-defined and being set to 0.0 in labels with no predicted samples. Use `zero_division` parameter to control this behavior.\n",
      "  _warn_prf(average, modifier, msg_start, len(result))\n",
      "c:\\Users\\gyova\\Documents\\Projetos\\Model-dectation-fake-news\\ven\\lib\\site-packages\\sklearn\\metrics\\_classification.py:1469: UndefinedMetricWarning: Recall and F-score are ill-defined and being set to 0.0 in labels with no true samples. Use `zero_division` parameter to control this behavior.\n",
      "  _warn_prf(average, modifier, msg_start, len(result))\n"
     ]
    },
    {
     "data": {
      "text/plain": [
       "<sklearn.metrics._plot.confusion_matrix.ConfusionMatrixDisplay at 0x21b07867820>"
      ]
     },
     "execution_count": 162,
     "metadata": {},
     "output_type": "execute_result"
    },
    {
     "data": {
      "image/png": "[encoded data removed]",
      "text/plain": [
       "<Figure size 640x480 with 2 Axes>"
      ]
     },
     "metadata": {},
     "output_type": "display_data"
    }
   ],
   "source": [
    "y_test_pred = lr_classifier.predict(X_test)\n",
    "y_test_pred = (y_test_pred > 0.75)\n",
    "lr_classifier_acc = round(accuracy_score(Y_test, y_test_pred) * 100, 2)\n",
    "cm = confusion_matrix(Y_test, y_test_pred)\n",
    "print(classification_report(Y_test, y_test_pred))\n",
    "\n",
    "ConfusionMatrixDisplay(confusion_matrix=cm, display_labels=['Fake','True']).plot()\n",
    "\n"
   ]
  },
  {
   "cell_type": "markdown",
   "metadata": {},
   "source": [
    "##### Multilayer perceptron (MLP)"
   ]
  },
  {
   "cell_type": "code",
   "execution_count": 163,
   "metadata": {},
   "outputs": [
    {
     "name": "stdout",
     "output_type": "stream",
     "text": [
      "              precision    recall  f1-score   support\n",
      "\n",
      "           0       0.00      0.00      0.00         0\n",
      "           1       1.00      0.66      0.79       400\n",
      "\n",
      "    accuracy                           0.66       400\n",
      "   macro avg       0.50      0.33      0.40       400\n",
      "weighted avg       1.00      0.66      0.79       400\n",
      "\n"
     ]
    },
    {
     "name": "stderr",
     "output_type": "stream",
     "text": [
      "c:\\Users\\gyova\\Documents\\Projetos\\Model-dectation-fake-news\\ven\\lib\\site-packages\\sklearn\\metrics\\_classification.py:1469: UndefinedMetricWarning: Recall and F-score are ill-defined and being set to 0.0 in labels with no true samples. Use `zero_division` parameter to control this behavior.\n",
      "  _warn_prf(average, modifier, msg_start, len(result))\n",
      "c:\\Users\\gyova\\Documents\\Projetos\\Model-dectation-fake-news\\ven\\lib\\site-packages\\sklearn\\metrics\\_classification.py:1469: UndefinedMetricWarning: Recall and F-score are ill-defined and being set to 0.0 in labels with no true samples. Use `zero_division` parameter to control this behavior.\n",
      "  _warn_prf(average, modifier, msg_start, len(result))\n",
      "c:\\Users\\gyova\\Documents\\Projetos\\Model-dectation-fake-news\\ven\\lib\\site-packages\\sklearn\\metrics\\_classification.py:1469: UndefinedMetricWarning: Recall and F-score are ill-defined and being set to 0.0 in labels with no true samples. Use `zero_division` parameter to control this behavior.\n",
      "  _warn_prf(average, modifier, msg_start, len(result))\n"
     ]
    },
    {
     "data": {
      "text/plain": [
       "<sklearn.metrics._plot.confusion_matrix.ConfusionMatrixDisplay at 0x21b0b130dc0>"
      ]
     },
     "execution_count": 163,
     "metadata": {},
     "output_type": "execute_result"
    },
    {
     "data": {
      "image/png": "[encoded data removed]",
      "text/plain": [
       "<Figure size 640x480 with 2 Axes>"
      ]
     },
     "metadata": {},
     "output_type": "display_data"
    }
   ],
   "source": [
    "y_test_pred = mlp.predict(X_test)\n",
    "y_test_pred = (y_test_pred > 0.75)\n",
    "mlp_acc = round(accuracy_score(Y_test, y_test_pred) * 100, 2)\n",
    "\n",
    "cm = confusion_matrix(Y_test, y_test_pred)\n",
    "print(classification_report(Y_test, y_test_pred))\n",
    "\n",
    "ConfusionMatrixDisplay(confusion_matrix=cm, display_labels=['Fake','True']).plot()\n"
   ]
  },
  {
   "cell_type": "markdown",
   "metadata": {},
   "source": [
    "##### Multilayer perceptron (MLP) Com GridSearchCV"
   ]
  },
  {
   "cell_type": "code",
   "execution_count": 164,
   "metadata": {},
   "outputs": [
    {
     "name": "stdout",
     "output_type": "stream",
     "text": [
      "              precision    recall  f1-score   support\n",
      "\n",
      "           0       0.00      0.00      0.00         0\n",
      "           1       1.00      0.01      0.01       400\n",
      "\n",
      "    accuracy                           0.01       400\n",
      "   macro avg       0.50      0.00      0.00       400\n",
      "weighted avg       1.00      0.01      0.01       400\n",
      "\n"
     ]
    },
    {
     "name": "stderr",
     "output_type": "stream",
     "text": [
      "c:\\Users\\gyova\\Documents\\Projetos\\Model-dectation-fake-news\\ven\\lib\\site-packages\\sklearn\\metrics\\_classification.py:1469: UndefinedMetricWarning: Recall and F-score are ill-defined and being set to 0.0 in labels with no true samples. Use `zero_division` parameter to control this behavior.\n",
      "  _warn_prf(average, modifier, msg_start, len(result))\n",
      "c:\\Users\\gyova\\Documents\\Projetos\\Model-dectation-fake-news\\ven\\lib\\site-packages\\sklearn\\metrics\\_classification.py:1469: UndefinedMetricWarning: Recall and F-score are ill-defined and being set to 0.0 in labels with no true samples. Use `zero_division` parameter to control this behavior.\n",
      "  _warn_prf(average, modifier, msg_start, len(result))\n",
      "c:\\Users\\gyova\\Documents\\Projetos\\Model-dectation-fake-news\\ven\\lib\\site-packages\\sklearn\\metrics\\_classification.py:1469: UndefinedMetricWarning: Recall and F-score are ill-defined and being set to 0.0 in labels with no true samples. Use `zero_division` parameter to control this behavior.\n",
      "  _warn_prf(average, modifier, msg_start, len(result))\n"
     ]
    },
    {
     "data": {
      "text/plain": [
       "<sklearn.metrics._plot.confusion_matrix.ConfusionMatrixDisplay at 0x21b0b18b250>"
      ]
     },
     "execution_count": 164,
     "metadata": {},
     "output_type": "execute_result"
    },
    {
     "data": {
      "image/png": "[encoded data removed]",
      "text/plain": [
       "<Figure size 640x480 with 2 Axes>"
      ]
     },
     "metadata": {},
     "output_type": "display_data"
    }
   ],
   "source": [
    "\n",
    "y_test_pred = mlpG.predict(X_test)\n",
    "y_test_pred = (y_test_pred > 0.75)\n",
    "mlpG_acc = round(accuracy_score(Y_test, y_test_pred) * 100, 2)\n",
    "\n",
    "cm = confusion_matrix(Y_test, y_test_pred)\n",
    "print(classification_report(Y_test, y_test_pred))\n",
    "\n",
    "ConfusionMatrixDisplay(confusion_matrix=cm, display_labels=['Fake','True']).plot()\n",
    "\n",
    "    "
   ]
  },
  {
   "cell_type": "markdown",
   "metadata": {},
   "source": [
    "#### Decision Tree"
   ]
  },
  {
   "cell_type": "code",
   "execution_count": 165,
   "metadata": {},
   "outputs": [
    {
     "name": "stdout",
     "output_type": "stream",
     "text": [
      "              precision    recall  f1-score   support\n",
      "\n",
      "           0       0.00      0.00      0.00         0\n",
      "           1       1.00      0.07      0.13       400\n",
      "\n",
      "    accuracy                           0.07       400\n",
      "   macro avg       0.50      0.04      0.07       400\n",
      "weighted avg       1.00      0.07      0.13       400\n",
      "\n"
     ]
    },
    {
     "name": "stderr",
     "output_type": "stream",
     "text": [
      "c:\\Users\\gyova\\Documents\\Projetos\\Model-dectation-fake-news\\ven\\lib\\site-packages\\sklearn\\metrics\\_classification.py:1469: UndefinedMetricWarning: Recall and F-score are ill-defined and being set to 0.0 in labels with no true samples. Use `zero_division` parameter to control this behavior.\n",
      "  _warn_prf(average, modifier, msg_start, len(result))\n",
      "c:\\Users\\gyova\\Documents\\Projetos\\Model-dectation-fake-news\\ven\\lib\\site-packages\\sklearn\\metrics\\_classification.py:1469: UndefinedMetricWarning: Recall and F-score are ill-defined and being set to 0.0 in labels with no true samples. Use `zero_division` parameter to control this behavior.\n",
      "  _warn_prf(average, modifier, msg_start, len(result))\n",
      "c:\\Users\\gyova\\Documents\\Projetos\\Model-dectation-fake-news\\ven\\lib\\site-packages\\sklearn\\metrics\\_classification.py:1469: UndefinedMetricWarning: Recall and F-score are ill-defined and being set to 0.0 in labels with no true samples. Use `zero_division` parameter to control this behavior.\n",
      "  _warn_prf(average, modifier, msg_start, len(result))\n"
     ]
    },
    {
     "data": {
      "text/plain": [
       "<sklearn.metrics._plot.confusion_matrix.ConfusionMatrixDisplay at 0x21b07ab6eb0>"
      ]
     },
     "execution_count": 165,
     "metadata": {},
     "output_type": "execute_result"
    },
    {
     "data": {
      "image/png": "[encoded data removed]",
      "text/plain": [
       "<Figure size 640x480 with 2 Axes>"
      ]
     },
     "metadata": {},
     "output_type": "display_data"
    }
   ],
   "source": [
    "y_test_pred = decisionTree.predict(X_test)\n",
    "y_test_pred = (y_test_pred > 0.75)\n",
    "decisionTree_acc = round(accuracy_score(Y_test, y_test_pred) * 100, 2)\n",
    "\n",
    "cm = confusion_matrix(Y_test, y_test_pred)\n",
    "print(classification_report(Y_test, y_test_pred))\n",
    "\n",
    "ConfusionMatrixDisplay(confusion_matrix=cm, display_labels=['Fake','True']).plot()\n"
   ]
  },
  {
   "cell_type": "markdown",
   "metadata": {},
   "source": [
    "#### RNN"
   ]
  },
  {
   "cell_type": "code",
   "execution_count": 166,
   "metadata": {},
   "outputs": [
    {
     "name": "stdout",
     "output_type": "stream",
     "text": [
      "13/13 [==============================] - 1s 40ms/step\n",
      "              precision    recall  f1-score   support\n",
      "\n",
      "           0       0.00      0.00      0.00         0\n",
      "           1       1.00      0.10      0.19       400\n",
      "\n",
      "    accuracy                           0.10       400\n",
      "   macro avg       0.50      0.05      0.09       400\n",
      "weighted avg       1.00      0.10      0.19       400\n",
      "\n"
     ]
    },
    {
     "name": "stderr",
     "output_type": "stream",
     "text": [
      "c:\\Users\\gyova\\Documents\\Projetos\\Model-dectation-fake-news\\ven\\lib\\site-packages\\sklearn\\metrics\\_classification.py:1469: UndefinedMetricWarning: Recall and F-score are ill-defined and being set to 0.0 in labels with no true samples. Use `zero_division` parameter to control this behavior.\n",
      "  _warn_prf(average, modifier, msg_start, len(result))\n",
      "c:\\Users\\gyova\\Documents\\Projetos\\Model-dectation-fake-news\\ven\\lib\\site-packages\\sklearn\\metrics\\_classification.py:1469: UndefinedMetricWarning: Recall and F-score are ill-defined and being set to 0.0 in labels with no true samples. Use `zero_division` parameter to control this behavior.\n",
      "  _warn_prf(average, modifier, msg_start, len(result))\n",
      "c:\\Users\\gyova\\Documents\\Projetos\\Model-dectation-fake-news\\ven\\lib\\site-packages\\sklearn\\metrics\\_classification.py:1469: UndefinedMetricWarning: Recall and F-score are ill-defined and being set to 0.0 in labels with no true samples. Use `zero_division` parameter to control this behavior.\n",
      "  _warn_prf(average, modifier, msg_start, len(result))\n"
     ]
    },
    {
     "data": {
      "text/plain": [
       "<sklearn.metrics._plot.confusion_matrix.ConfusionMatrixDisplay at 0x21b0953ce80>"
      ]
     },
     "execution_count": 166,
     "metadata": {},
     "output_type": "execute_result"
    },
    {
     "data": {
      "image/png": "[encoded data removed]",
      "text/plain": [
       "<Figure size 640x480 with 2 Axes>"
      ]
     },
     "metadata": {},
     "output_type": "display_data"
    }
   ],
   "source": [
    "\n",
    "y_test_pred = rnn.predict(test_padded_seqeunces)\n",
    "y_test_pred = (y_test_pred > 0.70)\n",
    "rnn_acc = round(accuracy_score(Y_test, y_test_pred) * 100, 2)\n",
    "\n",
    "cm = confusion_matrix(Y_test, y_test_pred)\n",
    "print(classification_report(Y_test, y_test_pred))\n",
    "\n",
    "ConfusionMatrixDisplay(confusion_matrix=cm, display_labels=['Fake','True']).plot()\n"
   ]
  },
  {
   "cell_type": "markdown",
   "metadata": {},
   "source": [
    "#### LSTM(BI)"
   ]
  },
  {
   "cell_type": "code",
   "execution_count": 167,
   "metadata": {},
   "outputs": [
    {
     "name": "stdout",
     "output_type": "stream",
     "text": [
      "13/13 [==============================] - 2s 46ms/step\n",
      "              precision    recall  f1-score   support\n",
      "\n",
      "           0       0.00      0.00      0.00         0\n",
      "           1       1.00      0.38      0.55       400\n",
      "\n",
      "    accuracy                           0.38       400\n",
      "   macro avg       0.50      0.19      0.27       400\n",
      "weighted avg       1.00      0.38      0.55       400\n",
      "\n"
     ]
    },
    {
     "name": "stderr",
     "output_type": "stream",
     "text": [
      "c:\\Users\\gyova\\Documents\\Projetos\\Model-dectation-fake-news\\ven\\lib\\site-packages\\sklearn\\metrics\\_classification.py:1469: UndefinedMetricWarning: Recall and F-score are ill-defined and being set to 0.0 in labels with no true samples. Use `zero_division` parameter to control this behavior.\n",
      "  _warn_prf(average, modifier, msg_start, len(result))\n",
      "c:\\Users\\gyova\\Documents\\Projetos\\Model-dectation-fake-news\\ven\\lib\\site-packages\\sklearn\\metrics\\_classification.py:1469: UndefinedMetricWarning: Recall and F-score are ill-defined and being set to 0.0 in labels with no true samples. Use `zero_division` parameter to control this behavior.\n",
      "  _warn_prf(average, modifier, msg_start, len(result))\n",
      "c:\\Users\\gyova\\Documents\\Projetos\\Model-dectation-fake-news\\ven\\lib\\site-packages\\sklearn\\metrics\\_classification.py:1469: UndefinedMetricWarning: Recall and F-score are ill-defined and being set to 0.0 in labels with no true samples. Use `zero_division` parameter to control this behavior.\n",
      "  _warn_prf(average, modifier, msg_start, len(result))\n"
     ]
    },
    {
     "data": {
      "text/plain": [
       "<sklearn.metrics._plot.confusion_matrix.ConfusionMatrixDisplay at 0x21b07eab520>"
      ]
     },
     "execution_count": 167,
     "metadata": {},
     "output_type": "execute_result"
    },
    {
     "data": {
      "image/png": "[encoded data removed]",
      "text/plain": [
       "<Figure size 640x480 with 2 Axes>"
      ]
     },
     "metadata": {},
     "output_type": "display_data"
    }
   ],
   "source": [
    "\n",
    "y_test_pred = modelLSTM.predict(test_padded_seqeunces)\n",
    "y_test_pred = (y_test_pred > 0.70)\n",
    "lstm_acc = round(accuracy_score(Y_test, y_test_pred) * 100, 2)\n",
    "\n",
    "cm = confusion_matrix(Y_test, y_test_pred)\n",
    "print(classification_report(Y_test, y_test_pred))\n",
    "\n",
    "ConfusionMatrixDisplay(confusion_matrix=cm, display_labels=['Fake','True']).plot()\n"
   ]
  },
  {
   "cell_type": "markdown",
   "metadata": {},
   "source": [
    "### Comparando Modelos Diferentes"
   ]
  },
  {
   "cell_type": "code",
   "execution_count": 168,
   "metadata": {},
   "outputs": [],
   "source": [
    "model = pd.DataFrame({\n",
    "    'Model': [\n",
    "        'Logistic Regression',\n",
    "        'Decision Tree',\n",
    "        'MLPClassifier',\n",
    "        'MLPClassifier with grid',\n",
    "        'RNN',\n",
    "        'RNN LSTM(BI)'\n",
    "    ],\n",
    "    'Model Accuracy Score': [\n",
    "        lr_classifier_acc, decisionTree_acc,\n",
    "        mlp_acc, mlpG_acc,rnn_acc,lstm_acc\n",
    "    ]\n",
    "})"
   ]
  },
  {
   "cell_type": "code",
   "execution_count": 169,
   "metadata": {},
   "outputs": [
    {
     "data": {
      "text/html": [
       "<div>\n",
       "<style scoped>\n",
       "    .dataframe tbody tr th:only-of-type {\n",
       "        vertical-align: middle;\n",
       "    }\n",
       "\n",
       "    .dataframe tbody tr th {\n",
       "        vertical-align: top;\n",
       "    }\n",
       "\n",
       "    .dataframe thead th {\n",
       "        text-align: right;\n",
       "    }\n",
       "</style>\n",
       "<table border=\"1\" class=\"dataframe\">\n",
       "  <thead>\n",
       "    <tr style=\"text-align: right;\">\n",
       "      <th></th>\n",
       "      <th>Model</th>\n",
       "      <th>Model Accuracy Score</th>\n",
       "    </tr>\n",
       "  </thead>\n",
       "  <tbody>\n",
       "    <tr>\n",
       "      <th>2</th>\n",
       "      <td>MLPClassifier</td>\n",
       "      <td>65.75</td>\n",
       "    </tr>\n",
       "    <tr>\n",
       "      <th>5</th>\n",
       "      <td>RNN LSTM(BI)</td>\n",
       "      <td>37.75</td>\n",
       "    </tr>\n",
       "    <tr>\n",
       "      <th>4</th>\n",
       "      <td>RNN</td>\n",
       "      <td>10.25</td>\n",
       "    </tr>\n",
       "    <tr>\n",
       "      <th>1</th>\n",
       "      <td>Decision Tree</td>\n",
       "      <td>7.00</td>\n",
       "    </tr>\n",
       "    <tr>\n",
       "      <th>3</th>\n",
       "      <td>MLPClassifier with grid</td>\n",
       "      <td>0.50</td>\n",
       "    </tr>\n",
       "    <tr>\n",
       "      <th>0</th>\n",
       "      <td>Logistic Regression</td>\n",
       "      <td>0.00</td>\n",
       "    </tr>\n",
       "  </tbody>\n",
       "</table>\n",
       "</div>"
      ],
      "text/plain": [
       "                     Model  Model Accuracy Score\n",
       "2            MLPClassifier                 65.75\n",
       "5             RNN LSTM(BI)                 37.75\n",
       "4                      RNN                 10.25\n",
       "1            Decision Tree                  7.00\n",
       "3  MLPClassifier with grid                  0.50\n",
       "0      Logistic Regression                  0.00"
      ]
     },
     "execution_count": 169,
     "metadata": {},
     "output_type": "execute_result"
    }
   ],
   "source": [
    "model = model.sort_values('Model Accuracy Score',ascending=False)\n",
    "model"
   ]
  },
  {
   "cell_type": "code",
   "execution_count": 170,
   "metadata": {},
   "outputs": [],
   "source": [
    "df_subset = df_test.drop(df_test.index[1:], inplace=False)\n",
    "df_subset.to_csv('../data/sub_test.csv', index=False)\n",
    "df_subset.preprocessed_news = \"O número de feminicídios aumentou durante o governo Bolsonaro. Os dados do Anuário Brasileiro de Segurança Pública mostraram que em 2018 último ano antes de ele assumir como presidente o Brasil teve um total de 1.229 casos (página 157). Nos dois primeiros anos do governo Bolsonaro o número aumentou para 1.330 em 2019 e 1.354 em 2020. Em 2021 o número caiu para 1.341 mas seguiu acima do patamar de 2018.\"\n",
    "\n",
    "new_row = new_row = pd.DataFrame({'index': [1], 'label': ['0'], 'preprocessed_news': [\"Não pega fogo na floresta amazônica. Isso é falácia – Jair Bolsonaro (PL) presidente e candidato à reeleição em sabatina da RedeTV em 1 de setembro de 2022\"]})\n",
    "df_subset = pd.concat([df_subset, new_row], ignore_index=True)\n",
    "new_row = new_row = pd.DataFrame({'index': [2], 'label': ['1'], 'preprocessed_news': [\"Hoje você leva em média um dia para abrir uma empresa – Jair Bolsonaro (PL) presidente e candidato à reeleição em sabatina da RedeTV em 1 de setembro de 2022\"]})\n",
    "df_subset = pd.concat([df_subset, new_row], ignore_index=True)\n",
    "\n",
    "new_row = new_row = pd.DataFrame({'index': [1], 'label': ['1'], 'preprocessed_news': [\",historia fisico minas marte brasileiro ivair gontijo narra livro participacao missao curiosity agosto curiosity pousava marte maior sofisticado veiculo espacial ser enviado sucesso outro planeta radares permitiram pouso momento critico missao projetados equipe liderada fisico brasileiro ivair gontijo pesquisador jet propulsion laboratory jpl agencia espacial americana nasa novo livro caminho marte acaba ser lancado gontijo conta nao apenas detalhes aventura envolveu projeto lancamento pouso historico curiosity tambem singular trajetoria pessoal criado pequena cidade moema margens rio sao francisco interior minas gerais gontijo decidiu trocar emprego fazenda curso fisica universidade federal minas gerais deixando familiares incredulos so comeco antes chegar nasa ainda fez doutorado escocia estados unidos elon musk divulga design atualizado proximo lancador espacial objetivo livro mostrar estudantes brasileiros geral conseguir algo trabalhar nasa alcance maioria pessoas disposta pagar preco preco alto horas trabalho estudo foco planejamento disse gontijo estado autor intercala narrativa propria trajetoria historia estudos sobre marte segundo apaixonado humanidade ha seculos cientistas precisamos tornar ciencia acessivel emocionante populacao porque nenhum pais vai frente muita ciencia tecnologia procuro mostrar ciencia pode ser tao emocionante gol final copa mundo afirmou conseguir emprego nasa segundo gontijo extremamente dificil alem formacao solida anos estudo intenso preciso armar insistencia astronomica nao primeira vez bati porta nasa consegui entrar primeira vez fiz entrevista ofereceram emprego temporario achei nao valia pena contato gerente missoes avisou precisavam alguem perfil deu pessoas laboratorio ninguem nunca respondeu nao desisti conta dia engenheiro jpl ligou dizendo encontrou curriculo site conferencia precisavam pessoa exatamente formacao fiz entrevista nao deu certo preciso esperar ano conto todos detalhes livro disse fisico missao segundo gontijo curiosity veiculo sofisticado ja construido enviado outro planeta tarefa dificultada tamanho veiculo semelhante carro compacto curiosity pesaria quilos terra possui mastro dois metros altura missao anterior envolvia veiculo menor torno quilos tecnologia toda viabilizar pouso curiosity marte nao existia antes tecnologia utilizamos missoes anteriores airbags nao funcionaria nessa circunstancia tinhamos fazer veiculo descer rodas explicou segundo cientista trabalho missao dessas dimensoes exigente tenso momentos criticos lancamento pouso basta falha milhares possiveis perderem anos trabalho bilhoes dolares processo descida marte ficou conhecido sete minutos terror porque veiculo aproximando planeta mil quilometros hora rota colisao queda livre velocidade precisava ser reduzida zero apenas sete minutos contou antes descida capsula continha curiosity perde energia atmosfera marciana usando escudo frontal calor paraquedas utilizado reduzir ainda velocidade descida final ultimos quatro seis quilometros usamos retrofoguetes explica voo controlado retrofoguetes veiculo colocado chao guindaste seguida afasta nao causar danos equipamento correu tudo melhor esperavamos vi colega sala controle dizendo achamos solo radar realmente acreditei daria certo seguida lembro comemoracoes sala controle muitos gritos lagrimas espetacular lembra radares gontijo nao funcionassem curiosity espatifaria superficie marciana tudo estaria perdido colegas diziam radares nao funcionassem todo resto irrelevante porque veiculo viraria monte ferro velho superficie marte projeto custou us bilhoes entao tensao grande acordo gontijo missao curiosity ja terminou oficialmente veiculo continua fazendo pesquisas superficie marciana onde percorreu pouco quilometros ja encontramos leito seco rio fundo lago rochas sedimentares locais onde havia agua ph neutro pessoa poderia beber operadores nasa recebem dados curiosity diariamente ate hoje apos recepcao dados cientificos sao discutidos fotos sao analisadas engenheiros tecnicos cientistas decidem fazer dia seguinte comandos sao programados enviados marte todos dias satelite orbita planeta satelite repassa dados veiculo solo executa comandos coleta dados tarde marciana transmite novos dados direcao ceu marciano onde passara satelite reenvia terra explicou futuro atualmente gontijo trabalhando proxima missao marte mars enviara planeta vermelho veiculo semelhante curiosity novo veiculo tera conjunto diferente instrumentos descera local distinto ideia coletor amostras disse cientista amostras coletadas veiculo mars serao colocadas roboticamente tubos serao selados hermeticamente deixados superficie planeta segunda missao sera enviada coletar amostras serao colocadas pequeno foguete enviadas orbita marte ali amostras vao ficar girando torno marte terceira missao simples barata saira entao terra encontrara amostras orbita marte trara tudo volta terra necessario porque terra laboratorios sofisticados analisar amostras chegam ocupar predio inteiro nenhum instrumento possa ser enviado atualmente marte mesma capacidade analise objetivos exploracao marte segundo gontijo encontrar vestigios vida planeta cientistas vestigio fossil forma primitiva vida bacteria totalmente extinta ja descoberta historica igual talvez maiores descobertas especie humana todos seres vivos terra mesma origem todos virus seres humanos usamos processo codificacao dna vida formar outro planeta sera usaria processo nao sabemos dia descobrirmos vida terra sera primeira coisa ser estudada sao processos formam vida outro planeta descoberta espetacular\"]})\n",
    "df_subset = pd.concat([df_subset, new_row], ignore_index=True)\n",
    "new_row = new_row = pd.DataFrame({'index': [2], 'label': ['1'], 'preprocessed_news': [\",relator lava jato nega pedido lula ser ouvido advogados lula haviam pedido prestasse novo depoimento defesa apresentou nesta novos documentos sobre propriedade triplex tribunal regional federal regiao nao vai ouvir luiz inacio lula silva antes julgamento apelacao marcado janeiro primeira instancia politico condenado anos meses corrupcao passiva lavagem dinheiro processo lava jato envolvendo triplex advogados lula haviam protocolado dois pedidos lula ouvido antes julgamento recurso setembro outro inicio janeiro decisao relator processos lava jato tribunal joao gebran neto diz eventual deferimento reinterrogatorio passa necessariamente apreciacao alegacoes invalidade daquele prestado perante juizo origem alem disso gebran cita jurisprudencias anteriores negaram pedidos semelhantes ressalta faculdade decidir novo depoimento somente juizo nao reu acusacao apelacao defesa tambem pede inocentado acusacao ocultacao propriedade imovel recebido propina empreiteira oas troca favores petrobras defesa moro nao interesse apurar fatos nesta advogados lula protocolaram apelacao novos documentos segundo defesa reforcariam oas proprietaria triplex decisao proferida dezembro juizo vara execucao titulos distrito federal autos processo determinou penhora apartamento condominio solaris guaruja sp satisfacao divida oas matricula atualizada cartorio imoveis municipio tambem incluida peticao documentos defesa reforca propriedade imovel pertence oas nao lula sentenca juiz sergio moro permite recorra liberdade setembro advogados lula ja haviam ingressado pedido relator processos lava jato desembargador joao gebran neto porem segundo assessoria imprensa defesa pedido nao apreciado motivou novo pedido julgamento recurso apresentado defesa lula sera realizado dia janeiro sede tribunal regional regiao porto alegre justica federal parana tambem determinou bloqueio r milhoes estabelecido dano minimo sequestro apartamento lula tambem bloqueados r mil contas bancarias cerca r milhoes depositados dois planos previdencia privada outros dois reus processo tambem condenados quatro absolvidos movimento terra mst havia anunciado acampamento manifestar apoio lula durante julgamento proibido justica realizar protesto dessa maneira despacho publicado dezembro neto proibiu instalacao acampamento movimento trabalhadores rurais terra mst area parque terrenos vizinhos ate tres dias apos julgamento manifestantes poderao acessar area caso desembargadores decidam manter decisao primeira instancia podem determinar prisao lula caso executada moro curitiba decidir so ira prisao apos todos recursos terem sido esgotados supremo tribunal federal stf determinou reu condenado segunda instancia ja comece cumprir pena prisao recorrendo tribunais superiores assunto porem deve voltar ser discutido ministros ainda nao ha data julgamento inelegibilidade lula vez assunto justica eleitoral lei ficha limpa preve condenado segunda instancia caso caso desembargadores confirmem sentenca nao pode candidatar eventual condenacao si so nao influenciaria possivel candidatura neste caso decisao ficaria conta tribunal superior eleitoral tse pode ser acionado ministerio publico eleitoral mpe algum adversario politico ainda decidir iniciativa propria magistrado\"]})\n",
    "df_subset = pd.concat([df_subset, new_row], ignore_index=True)\n",
    "\n"
   ]
  },
  {
   "cell_type": "code",
   "execution_count": 171,
   "metadata": {},
   "outputs": [
    {
     "data": {
      "text/html": [
       "<div>\n",
       "<style scoped>\n",
       "    .dataframe tbody tr th:only-of-type {\n",
       "        vertical-align: middle;\n",
       "    }\n",
       "\n",
       "    .dataframe tbody tr th {\n",
       "        vertical-align: top;\n",
       "    }\n",
       "\n",
       "    .dataframe thead th {\n",
       "        text-align: right;\n",
       "    }\n",
       "</style>\n",
       "<table border=\"1\" class=\"dataframe\">\n",
       "  <thead>\n",
       "    <tr style=\"text-align: right;\">\n",
       "      <th></th>\n",
       "      <th>label</th>\n",
       "      <th>preprocessed_news</th>\n",
       "      <th>index</th>\n",
       "    </tr>\n",
       "  </thead>\n",
       "  <tbody>\n",
       "    <tr>\n",
       "      <th>0</th>\n",
       "      <td>1</td>\n",
       "      <td>O número de feminicídios aumentou durante o go...</td>\n",
       "      <td>NaN</td>\n",
       "    </tr>\n",
       "    <tr>\n",
       "      <th>1</th>\n",
       "      <td>0</td>\n",
       "      <td>Não pega fogo na floresta amazônica. Isso é fa...</td>\n",
       "      <td>1.0</td>\n",
       "    </tr>\n",
       "    <tr>\n",
       "      <th>2</th>\n",
       "      <td>1</td>\n",
       "      <td>Hoje você leva em média um dia para abrir uma ...</td>\n",
       "      <td>2.0</td>\n",
       "    </tr>\n",
       "    <tr>\n",
       "      <th>3</th>\n",
       "      <td>1</td>\n",
       "      <td>,historia fisico minas marte brasileiro ivair ...</td>\n",
       "      <td>1.0</td>\n",
       "    </tr>\n",
       "    <tr>\n",
       "      <th>4</th>\n",
       "      <td>1</td>\n",
       "      <td>,relator lava jato nega pedido lula ser ouvido...</td>\n",
       "      <td>2.0</td>\n",
       "    </tr>\n",
       "  </tbody>\n",
       "</table>\n",
       "</div>"
      ],
      "text/plain": [
       "  label                                  preprocessed_news  index\n",
       "0     1  O número de feminicídios aumentou durante o go...    NaN\n",
       "1     0  Não pega fogo na floresta amazônica. Isso é fa...    1.0\n",
       "2     1  Hoje você leva em média um dia para abrir uma ...    2.0\n",
       "3     1  ,historia fisico minas marte brasileiro ivair ...    1.0\n",
       "4     1  ,relator lava jato nega pedido lula ser ouvido...    2.0"
      ]
     },
     "execution_count": 171,
     "metadata": {},
     "output_type": "execute_result"
    }
   ],
   "source": [
    "df_subset"
   ]
  },
  {
   "cell_type": "code",
   "execution_count": 172,
   "metadata": {},
   "outputs": [],
   "source": [
    "df_subset[\"preprocessed_news\"] = df_subset[\"preprocessed_news\"].apply(remover_stop_words)\n",
    "df_subset[\"preprocessed_news\"] = df_subset[\"preprocessed_news\"].apply(review_cleaning)\n",
    "\n",
    "\n",
    "X_test = df_subset['preprocessed_news'].apply(lambda x: x.lower())\n",
    "\n",
    "test_tokenizer = tf.keras.preprocessing.text.Tokenizer(oov_token='<OOV>')\n",
    "test_tokenizer.fit_on_texts(X_test.values)\n",
    "test_word_index = test_tokenizer.word_index\n",
    "test_sequences = test_tokenizer.texts_to_sequences(X_test)\n",
    "vocab_length = len(test_word_index) + 1\n",
    "maxlen=256\n",
    "test_padded_seqeunces = tf.keras.preprocessing.sequence.pad_sequences(test_sequences, padding='post', maxlen=maxlen, truncating='post')\n",
    "\n",
    "\n",
    "vectorizer = CountVectorizer(max_features=8000)\n",
    "vectorizer.fit(X_test)\n",
    "X_test = vectorizer.transform(X_test).toarray()\n",
    "Y_test = df_subset['label']\n"
   ]
  },
  {
   "cell_type": "code",
   "execution_count": 173,
   "metadata": {},
   "outputs": [
    {
     "name": "stdout",
     "output_type": "stream",
     "text": [
      "1/1 [==============================] - 0s 36ms/step\n",
      "[[0]\n",
      " [0]\n",
      " [0]\n",
      " [1]\n",
      " [1]]\n",
      "1/1 [==============================] - 0s 41ms/step\n",
      "[[0]\n",
      " [0]\n",
      " [0]\n",
      " [1]\n",
      " [1]]\n"
     ]
    }
   ],
   "source": [
    "\n",
    "y_test_pred = rnn.predict(test_padded_seqeunces)\n",
    "y_test_pred = (y_test_pred > 0.5).astype(int)\n",
    "\n",
    "print(y_test_pred)\n",
    "\n",
    "\n",
    "y_test_pred = modelLSTM.predict(test_padded_seqeunces)\n",
    "y_test_pred = (y_test_pred > 0.5).astype(int)\n",
    "\n",
    "print(y_test_pred)\n",
    "\n",
    "\n"
   ]
  }
 ],
 "metadata": {
  "interpreter": {
   "hash": "45f1f3757439874319ad1023556b798bdce3a703ab4652de42b8220c6c143c8c"
  },
  "kernelspec": {
   "display_name": "Python 3.9.13 ('ven': venv)",
   "language": "python",
   "name": "python3"
  },
  "language_info": {
   "codemirror_mode": {
    "name": "ipython",
    "version": 3
   },
   "file_extension": ".py",
   "mimetype": "text/x-python",
   "name": "python",
   "nbconvert_exporter": "python",
   "pygments_lexer": "ipython3",
   "version": "3.9.13"
  },
  "orig_nbformat": 4
 },
 "nbformat": 4,
 "nbformat_minor": 2
}
